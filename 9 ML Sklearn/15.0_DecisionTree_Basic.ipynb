{
 "cells": [
  {
   "cell_type": "markdown",
   "metadata": {},
   "source": [
    "# Decision Tree"
   ]
  },
  {
   "cell_type": "raw",
   "metadata": {},
   "source": [
    "Tinggi > 180?      = the root / root node\n",
    "      |\n",
    "      |\n",
    " -----------\n",
    " |         |\n",
    "yes        no\n",
    "usia>10?   bb>50?  = internal nodes / node\n",
    " |\n",
    "basket             = leaf nodes / leaves"
   ]
  },
  {
   "cell_type": "markdown",
   "metadata": {},
   "source": [
    "<hr>\n",
    "\n",
    "### Basic Decision Tree #1 => Binary Classification (no/yes, 0/1)"
   ]
  },
  {
   "cell_type": "code",
   "execution_count": 1,
   "metadata": {},
   "outputs": [],
   "source": [
    "import pandas as pd\n",
    "import numpy as np"
   ]
  },
  {
   "cell_type": "code",
   "execution_count": 14,
   "metadata": {},
   "outputs": [
    {
     "data": {
      "text/html": [
       "<div>\n",
       "<style scoped>\n",
       "    .dataframe tbody tr th:only-of-type {\n",
       "        vertical-align: middle;\n",
       "    }\n",
       "\n",
       "    .dataframe tbody tr th {\n",
       "        vertical-align: top;\n",
       "    }\n",
       "\n",
       "    .dataframe thead th {\n",
       "        text-align: right;\n",
       "    }\n",
       "</style>\n",
       "<table border=\"1\" class=\"dataframe\">\n",
       "  <thead>\n",
       "    <tr style=\"text-align: right;\">\n",
       "      <th></th>\n",
       "      <th>sarjana</th>\n",
       "      <th>wage&gt;50</th>\n",
       "    </tr>\n",
       "  </thead>\n",
       "  <tbody>\n",
       "    <tr>\n",
       "      <th>0</th>\n",
       "      <td>0</td>\n",
       "      <td>1</td>\n",
       "    </tr>\n",
       "    <tr>\n",
       "      <th>1</th>\n",
       "      <td>1</td>\n",
       "      <td>1</td>\n",
       "    </tr>\n",
       "    <tr>\n",
       "      <th>2</th>\n",
       "      <td>0</td>\n",
       "      <td>0</td>\n",
       "    </tr>\n",
       "    <tr>\n",
       "      <th>3</th>\n",
       "      <td>1</td>\n",
       "      <td>1</td>\n",
       "    </tr>\n",
       "    <tr>\n",
       "      <th>4</th>\n",
       "      <td>1</td>\n",
       "      <td>0</td>\n",
       "    </tr>\n",
       "    <tr>\n",
       "      <th>5</th>\n",
       "      <td>1</td>\n",
       "      <td>1</td>\n",
       "    </tr>\n",
       "  </tbody>\n",
       "</table>\n",
       "</div>"
      ],
      "text/plain": [
       "   sarjana  wage>50\n",
       "0        0        1\n",
       "1        1        1\n",
       "2        0        0\n",
       "3        1        1\n",
       "4        1        0\n",
       "5        1        1"
      ]
     },
     "execution_count": 14,
     "metadata": {},
     "output_type": "execute_result"
    }
   ],
   "source": [
    "df = pd.DataFrame({\n",
    "    'sarjana': [0, 1, 0, 1, 1, 1],\n",
    "    'wage>50': [1, 1, 0, 1, 0, 1]\n",
    "})\n",
    "df"
   ]
  },
  {
   "cell_type": "markdown",
   "metadata": {},
   "source": [
    "- Dari dataset di atas, dapat diketahui dengan mudah bahwa jika pendidikan = S2, maka gaji = 20juta"
   ]
  },
  {
   "cell_type": "raw",
   "metadata": {},
   "source": [
    "   sarjana?\n",
    "      |\n",
    "      |\n",
    " -----------\n",
    " |         |\n",
    "yes        no\n",
    "gaji>50    gaji<50\n",
    "3 | 1      1 | 1"
   ]
  },
  {
   "cell_type": "raw",
   "metadata": {},
   "source": [
    "# gini impurity = 1 - (probability YES)^2 - (probability NO)^2\n",
    "\n",
    "- sarjana => YES  wage>50jt = 0 => 1    giniLeaf1 = 1 - (3/4)^2 - (1/4)^2 = 1-0.5625-0.0625 = 0.375\n",
    "                  wage>50jt = 1 => 3\n",
    "                  \n",
    "          => NO   wage>50jt = 0 => 1    giniLeaf2 = 1 - (1/2)^2 - (1/2)^2 = 0.5\n",
    "                  wage>50jt = 1 => 1\n",
    "          \n",
    "          gini for sarjana = \n",
    "          ((totalDataLeaf1 / totalDataLeaf12) * giniLeaf1) + ((totalDataLeaf2 / totalDataLeaf12) * giniLeaf2) \n",
    "          ((4 / 6) * 0.375) + ((2 / 6) * 0.5)\n",
    "          0.25 + 0.167\n",
    "          0.417"
   ]
  },
  {
   "cell_type": "markdown",
   "metadata": {},
   "source": [
    "<hr>\n",
    "\n",
    "### Basic Decision Tree #2 => Binary Classification (no/yes, 0/1) Multi Features"
   ]
  },
  {
   "cell_type": "code",
   "execution_count": 15,
   "metadata": {},
   "outputs": [
    {
     "data": {
      "text/html": [
       "<div>\n",
       "<style scoped>\n",
       "    .dataframe tbody tr th:only-of-type {\n",
       "        vertical-align: middle;\n",
       "    }\n",
       "\n",
       "    .dataframe tbody tr th {\n",
       "        vertical-align: top;\n",
       "    }\n",
       "\n",
       "    .dataframe thead th {\n",
       "        text-align: right;\n",
       "    }\n",
       "</style>\n",
       "<table border=\"1\" class=\"dataframe\">\n",
       "  <thead>\n",
       "    <tr style=\"text-align: right;\">\n",
       "      <th></th>\n",
       "      <th>sarjana</th>\n",
       "      <th>sehat</th>\n",
       "      <th>supel</th>\n",
       "      <th>wage&gt;50jt</th>\n",
       "    </tr>\n",
       "  </thead>\n",
       "  <tbody>\n",
       "    <tr>\n",
       "      <th>0</th>\n",
       "      <td>1</td>\n",
       "      <td>1</td>\n",
       "      <td>1</td>\n",
       "      <td>1</td>\n",
       "    </tr>\n",
       "    <tr>\n",
       "      <th>1</th>\n",
       "      <td>1</td>\n",
       "      <td>0</td>\n",
       "      <td>0</td>\n",
       "      <td>1</td>\n",
       "    </tr>\n",
       "    <tr>\n",
       "      <th>2</th>\n",
       "      <td>0</td>\n",
       "      <td>1</td>\n",
       "      <td>1</td>\n",
       "      <td>0</td>\n",
       "    </tr>\n",
       "    <tr>\n",
       "      <th>3</th>\n",
       "      <td>0</td>\n",
       "      <td>0</td>\n",
       "      <td>1</td>\n",
       "      <td>0</td>\n",
       "    </tr>\n",
       "    <tr>\n",
       "      <th>4</th>\n",
       "      <td>0</td>\n",
       "      <td>0</td>\n",
       "      <td>1</td>\n",
       "      <td>0</td>\n",
       "    </tr>\n",
       "  </tbody>\n",
       "</table>\n",
       "</div>"
      ],
      "text/plain": [
       "   sarjana  sehat  supel  wage>50jt\n",
       "0        1      1      1          1\n",
       "1        1      0      0          1\n",
       "2        0      1      1          0\n",
       "3        0      0      1          0\n",
       "4        0      0      1          0"
      ]
     },
     "execution_count": 15,
     "metadata": {},
     "output_type": "execute_result"
    }
   ],
   "source": [
    "df = pd.DataFrame([\n",
    "    {'sarjana': 1, 'sehat':1, 'supel':1, 'wage>50jt':1},\n",
    "    {'sarjana': 1, 'sehat':0, 'supel':0, 'wage>50jt':1},\n",
    "    {'sarjana': 0, 'sehat':1, 'supel':1, 'wage>50jt':0},\n",
    "    {'sarjana': 0, 'sehat':0, 'supel':1, 'wage>50jt':0},\n",
    "    {'sarjana': 0, 'sehat':0, 'supel':1, 'wage>50jt':0}\n",
    "])\n",
    "df"
   ]
  },
  {
   "cell_type": "markdown",
   "metadata": {},
   "source": [
    "- Dari dataset di atas, apakah seorang karyawan memiliki salary>50jt tidak dapat ditentukan hanya dengan melihat sarjana saja atau sehat saja.\n",
    "\n",
    "- Untuk menentukan bagaimana bentuk decision tree-nya, kita harus menghitung & membandingkan __impurity__ tiap feature. Salah satu cara menentukan impurity dengan menghitung __gini impurity__."
   ]
  },
  {
   "cell_type": "raw",
   "metadata": {},
   "source": [
    "# menentukan leaf berdasarkan tiap feature & menghitung gini impurity tiap leaf\n",
    "\n",
    "# gini impurity = 1 - (probability YES)^2 - (probability NO)^2\n",
    "\n",
    "- sarjana => YES  wage>50jt = 0 => 0    giniLeaf1 = 1 - (2/2)^2 - (0/2)^2 = 0\n",
    "                  wage>50jt = 1 => 2\n",
    "                  \n",
    "          => NO   wage>50jt = 0 => 3    giniLeaf2 = 1 - (0/3)^2 - (3/3)^2 = 0\n",
    "                  wage>50jt = 1 => 0\n",
    "          \n",
    "          gini for sarjana = \n",
    "          ((totalDataLeaf1 / totalDataLeaf12) * giniLeaf1) + ((totalDataLeaf2 / totalDataLeaf12) * giniLeaf2) \n",
    "          ((2 / 5) * 0) + ((3 / 5) * 0)\n",
    "          0\n",
    "          \n",
    "=============================================================================================================\n",
    "          \n",
    "- sehat   => YES  wage>50jt = 0 => 1    gini = 1 - (1/2)^2 - (1/2)^2 = 0.5\n",
    "                  wage>50jt = 1 => 1\n",
    "                  \n",
    "          => NO   wage>50jt = 0 => 2    gini = 1 - (1/3)^2 - (2/3)^2 = 1-0.1089-0.4356 = 0.45\n",
    "                  wage>50jt = 1 => 1\n",
    "                 \n",
    "          gini for sehat = \n",
    "          ((totalDataLeaf1 / totalDataLeaf12) * giniLeaf1) + ((totalDataLeaf2 / totalDataLeaf12) * giniLeaf2) \n",
    "          ((2 / 5) * 0.5) + ((3 / 5) * 0.45)\n",
    "          0.2 + 0.27 = 0.47\n",
    "\n",
    "=============================================================================================================\n",
    "\n",
    "- supel   => YES  wage>50jt = 0 => 3    gini = 1 - (1/4)^2 - (3/4)^2 = 1-0.0625-0.5625  0.375\n",
    "                  wage>50jt = 1 => 1\n",
    "                  \n",
    "          => NO   wage>50jt = 0 => 0    gini = 1 - (1/1)^2 - (0)^2 = 0\n",
    "                  wage>50jt = 1 => 1\n",
    "                  \n",
    "          gini for supel = \n",
    "          ((totalDataLeaf1 / totalDataLeaf12) * giniLeaf1) + ((totalDataLeaf2 / totalDataLeaf12) * giniLeaf2) \n",
    "          ((4 / 5) * 0.375) + ((1 / 5) * 0)\n",
    "          0.3"
   ]
  },
  {
   "cell_type": "markdown",
   "metadata": {},
   "source": [
    "- Dari perhitungan gini impurity di atas, dapat dilihat bahwa:\n",
    "    - Gini Sarjana = 0\n",
    "    - Gini Sehat = 0.47\n",
    "    - Gini Supel = 0.3\n",
    "    \n",
    "    \n",
    "- Gini Sarjana memiliki nilai terendah (mampu membedakan salary >50jt atau tidak dg paling baik), sehingga feature sarjana dapat kita set sebagai __root node__."
   ]
  },
  {
   "cell_type": "markdown",
   "metadata": {},
   "source": [
    "<hr>\n",
    "\n",
    "### Basic Decision Tree #3 => Numeric Data / Ranked Data"
   ]
  },
  {
   "cell_type": "code",
   "execution_count": 17,
   "metadata": {},
   "outputs": [
    {
     "data": {
      "text/html": [
       "<div>\n",
       "<style scoped>\n",
       "    .dataframe tbody tr th:only-of-type {\n",
       "        vertical-align: middle;\n",
       "    }\n",
       "\n",
       "    .dataframe tbody tr th {\n",
       "        vertical-align: top;\n",
       "    }\n",
       "\n",
       "    .dataframe thead th {\n",
       "        text-align: right;\n",
       "    }\n",
       "</style>\n",
       "<table border=\"1\" class=\"dataframe\">\n",
       "  <thead>\n",
       "    <tr style=\"text-align: right;\">\n",
       "      <th></th>\n",
       "      <th>tinggi</th>\n",
       "      <th>jangkung</th>\n",
       "    </tr>\n",
       "  </thead>\n",
       "  <tbody>\n",
       "    <tr>\n",
       "      <th>0</th>\n",
       "      <td>155</td>\n",
       "      <td>0</td>\n",
       "    </tr>\n",
       "    <tr>\n",
       "      <th>1</th>\n",
       "      <td>175</td>\n",
       "      <td>0</td>\n",
       "    </tr>\n",
       "    <tr>\n",
       "      <th>2</th>\n",
       "      <td>195</td>\n",
       "      <td>1</td>\n",
       "    </tr>\n",
       "    <tr>\n",
       "      <th>3</th>\n",
       "      <td>205</td>\n",
       "      <td>1</td>\n",
       "    </tr>\n",
       "    <tr>\n",
       "      <th>4</th>\n",
       "      <td>225</td>\n",
       "      <td>1</td>\n",
       "    </tr>\n",
       "  </tbody>\n",
       "</table>\n",
       "</div>"
      ],
      "text/plain": [
       "   tinggi  jangkung\n",
       "0     155         0\n",
       "1     175         0\n",
       "2     195         1\n",
       "3     205         1\n",
       "4     225         1"
      ]
     },
     "execution_count": 17,
     "metadata": {},
     "output_type": "execute_result"
    }
   ],
   "source": [
    "df = pd.DataFrame({\n",
    "    'tinggi': [155, 175, 195, 205, 225],\n",
    "    'jangkung': [0, 0, 1, 1, 1]\n",
    "})\n",
    "df"
   ]
  },
  {
   "cell_type": "markdown",
   "metadata": {},
   "source": [
    "- Untuk menghitung gini impurity, pertama sort data numeriknya lowest to highest! Kebetulan sdh urut.\n",
    "\n",
    "- Hitung __average weight__ untuk tiap data numerik. Dalam kasus ini average weight = __165, 185, 200, 215__\n",
    "\n",
    "- Hitung gini impurity untuk setiap average weight!"
   ]
  },
  {
   "cell_type": "raw",
   "metadata": {},
   "source": [
    "- tinggi<165   => YES  jangkung = 0 => 1    gini = 1 - (1/1)^2 - 0 = 0\n",
    "                       jangkung = 1 => 0\n",
    "                  \n",
    "               => NO   jangkung = 0 => 1    gini = 1 - (1/4)^2 - (3/4)^2 = 1-0.0625-0.5625 = 0.375\n",
    "                       jangkung = 1 => 3\n",
    "                \n",
    "          gini for tinggi<165 = \n",
    "          ((totalDataLeaf1 / totalDataLeaf12) * giniLeaf1) + ((totalDataLeaf2 / totalDataLeaf12) * giniLeaf2) \n",
    "          ((1 / 5) * 0) + ((4 / 5) * 0.375)\n",
    "          0 + 0.3 = 0.3\n",
    "          \n",
    "=============================================================================================================\n",
    "\n",
    "dst gini tinggi<185, 200 & 215.\n",
    "Gini terendah digunakan sebagai node root"
   ]
  },
  {
   "cell_type": "markdown",
   "metadata": {},
   "source": [
    "<hr>\n",
    "\n",
    "### Basic Decision Tree #4 => Multiple Choices Data"
   ]
  },
  {
   "cell_type": "code",
   "execution_count": 18,
   "metadata": {},
   "outputs": [
    {
     "data": {
      "text/html": [
       "<div>\n",
       "<style scoped>\n",
       "    .dataframe tbody tr th:only-of-type {\n",
       "        vertical-align: middle;\n",
       "    }\n",
       "\n",
       "    .dataframe tbody tr th {\n",
       "        vertical-align: top;\n",
       "    }\n",
       "\n",
       "    .dataframe thead th {\n",
       "        text-align: right;\n",
       "    }\n",
       "</style>\n",
       "<table border=\"1\" class=\"dataframe\">\n",
       "  <thead>\n",
       "    <tr style=\"text-align: right;\">\n",
       "      <th></th>\n",
       "      <th>genreFavorit</th>\n",
       "      <th>lulusUjian</th>\n",
       "    </tr>\n",
       "  </thead>\n",
       "  <tbody>\n",
       "    <tr>\n",
       "      <th>0</th>\n",
       "      <td>Action</td>\n",
       "      <td>0</td>\n",
       "    </tr>\n",
       "    <tr>\n",
       "      <th>1</th>\n",
       "      <td>Fiction</td>\n",
       "      <td>0</td>\n",
       "    </tr>\n",
       "    <tr>\n",
       "      <th>2</th>\n",
       "      <td>Animation</td>\n",
       "      <td>1</td>\n",
       "    </tr>\n",
       "    <tr>\n",
       "      <th>3</th>\n",
       "      <td>Action</td>\n",
       "      <td>1</td>\n",
       "    </tr>\n",
       "    <tr>\n",
       "      <th>4</th>\n",
       "      <td>Fiction</td>\n",
       "      <td>1</td>\n",
       "    </tr>\n",
       "  </tbody>\n",
       "</table>\n",
       "</div>"
      ],
      "text/plain": [
       "  genreFavorit  lulusUjian\n",
       "0       Action           0\n",
       "1      Fiction           0\n",
       "2    Animation           1\n",
       "3       Action           1\n",
       "4      Fiction           1"
      ]
     },
     "execution_count": 18,
     "metadata": {},
     "output_type": "execute_result"
    }
   ],
   "source": [
    "df = pd.DataFrame({\n",
    "    'genreFavorit': ['Action', 'Fiction', 'Animation', 'Action', 'Fiction'],\n",
    "    'lulusUjian': [0, 0, 1, 1, 1]\n",
    "})\n",
    "df"
   ]
  },
  {
   "cell_type": "markdown",
   "metadata": {},
   "source": [
    "- Untuk menghitung gini impurity __multiple choices data__, perlu dihitung setiap choice & kombinasinya:\n",
    "    - Action\n",
    "    - Fiction\n",
    "    - Animation\n",
    "    - Action or Fiction\n",
    "    - Action or Animation\n",
    "    - Fiction or Animation"
   ]
  }
 ],
 "metadata": {
  "kernelspec": {
   "display_name": "Python 3",
   "language": "python",
   "name": "python3"
  },
  "language_info": {
   "codemirror_mode": {
    "name": "ipython",
    "version": 3
   },
   "file_extension": ".py",
   "mimetype": "text/x-python",
   "name": "python",
   "nbconvert_exporter": "python",
   "pygments_lexer": "ipython3",
   "version": "3.8.1"
  }
 },
 "nbformat": 4,
 "nbformat_minor": 4
}
