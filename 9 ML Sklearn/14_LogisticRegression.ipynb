{
 "cells": [
  {
   "cell_type": "markdown",
   "metadata": {},
   "source": [
    "# Logistic Regression"
   ]
  },
  {
   "cell_type": "code",
   "execution_count": 49,
   "metadata": {},
   "outputs": [],
   "source": [
    "import pandas as pd\n",
    "import numpy as np\n",
    "import matplotlib.pyplot as plt"
   ]
  },
  {
   "cell_type": "code",
   "execution_count": 50,
   "metadata": {},
   "outputs": [
    {
     "data": {
      "text/html": [
       "<div>\n",
       "<style scoped>\n",
       "    .dataframe tbody tr th:only-of-type {\n",
       "        vertical-align: middle;\n",
       "    }\n",
       "\n",
       "    .dataframe tbody tr th {\n",
       "        vertical-align: top;\n",
       "    }\n",
       "\n",
       "    .dataframe thead th {\n",
       "        text-align: right;\n",
       "    }\n",
       "</style>\n",
       "<table border=\"1\" class=\"dataframe\">\n",
       "  <thead>\n",
       "    <tr style=\"text-align: right;\">\n",
       "      <th></th>\n",
       "      <th>x</th>\n",
       "      <th>y</th>\n",
       "    </tr>\n",
       "  </thead>\n",
       "  <tbody>\n",
       "    <tr>\n",
       "      <th>0</th>\n",
       "      <td>1</td>\n",
       "      <td>0.0</td>\n",
       "    </tr>\n",
       "    <tr>\n",
       "      <th>1</th>\n",
       "      <td>2</td>\n",
       "      <td>0.0</td>\n",
       "    </tr>\n",
       "    <tr>\n",
       "      <th>2</th>\n",
       "      <td>3</td>\n",
       "      <td>0.0</td>\n",
       "    </tr>\n",
       "    <tr>\n",
       "      <th>3</th>\n",
       "      <td>4</td>\n",
       "      <td>0.0</td>\n",
       "    </tr>\n",
       "    <tr>\n",
       "      <th>4</th>\n",
       "      <td>5</td>\n",
       "      <td>0.0</td>\n",
       "    </tr>\n",
       "  </tbody>\n",
       "</table>\n",
       "</div>"
      ],
      "text/plain": [
       "   x    y\n",
       "0  1  0.0\n",
       "1  2  0.0\n",
       "2  3  0.0\n",
       "3  4  0.0\n",
       "4  5  0.0"
      ]
     },
     "execution_count": 50,
     "metadata": {},
     "output_type": "execute_result"
    }
   ],
   "source": [
    "data = {\n",
    "    'x': np.arange(1, 101),\n",
    "    'y': np.hstack((np.zeros(50), np.ones(50)))\n",
    "}\n",
    "df = pd.DataFrame(data)\n",
    "df.head()"
   ]
  },
  {
   "cell_type": "markdown",
   "metadata": {},
   "source": [
    "<hr>\n",
    "\n",
    "### Logistic Regression\n",
    "\n",
    "Logit / Sigmoid function \n",
    "$ \\displaystyle \\hat{y} = \\frac {1} {1 + e ^ {-(mx + c)}} $"
   ]
  },
  {
   "cell_type": "code",
   "execution_count": 51,
   "metadata": {},
   "outputs": [],
   "source": [
    "from sklearn.linear_model import LogisticRegression"
   ]
  },
  {
   "cell_type": "code",
   "execution_count": 52,
   "metadata": {},
   "outputs": [
    {
     "name": "stdout",
     "output_type": "stream",
     "text": [
      "[[1.19450816]]\n",
      "[-60.32266589]\n"
     ]
    }
   ],
   "source": [
    "# solver = 'lbfgs'\n",
    "modelA = LogisticRegression(solver='lbfgs')\n",
    "modelA.fit(df[['x']], df['y'])\n",
    "print(modelA.coef_)\n",
    "print(modelA.intercept_)\n",
    "mA = modelA.coef_[0][0]\n",
    "cA = modelA.intercept_[0]"
   ]
  },
  {
   "cell_type": "code",
   "execution_count": 53,
   "metadata": {},
   "outputs": [
    {
     "name": "stdout",
     "output_type": "stream",
     "text": [
      "[[0.08749225]]\n",
      "[-4.0543733]\n"
     ]
    }
   ],
   "source": [
    "# solver = 'liblinear'\n",
    "modelB = LogisticRegression(solver='liblinear')\n",
    "modelB.fit(df[['x']], df['y'])\n",
    "print(modelB.coef_)\n",
    "print(modelB.intercept_)\n",
    "mB = modelB.coef_[0][0]\n",
    "cB = modelB.intercept_[0]"
   ]
  },
  {
   "cell_type": "code",
   "execution_count": 54,
   "metadata": {},
   "outputs": [
    {
     "data": {
      "text/html": [
       "<div>\n",
       "<style scoped>\n",
       "    .dataframe tbody tr th:only-of-type {\n",
       "        vertical-align: middle;\n",
       "    }\n",
       "\n",
       "    .dataframe tbody tr th {\n",
       "        vertical-align: top;\n",
       "    }\n",
       "\n",
       "    .dataframe thead th {\n",
       "        text-align: right;\n",
       "    }\n",
       "</style>\n",
       "<table border=\"1\" class=\"dataframe\">\n",
       "  <thead>\n",
       "    <tr style=\"text-align: right;\">\n",
       "      <th></th>\n",
       "      <th>x</th>\n",
       "      <th>y</th>\n",
       "      <th>y\"A</th>\n",
       "      <th>probaA</th>\n",
       "      <th>y\"B</th>\n",
       "      <th>probaB</th>\n",
       "    </tr>\n",
       "  </thead>\n",
       "  <tbody>\n",
       "    <tr>\n",
       "      <th>0</th>\n",
       "      <td>1</td>\n",
       "      <td>0.0</td>\n",
       "      <td>0.0</td>\n",
       "      <td>2.093955e-26</td>\n",
       "      <td>0.0</td>\n",
       "      <td>0.018581</td>\n",
       "    </tr>\n",
       "    <tr>\n",
       "      <th>1</th>\n",
       "      <td>2</td>\n",
       "      <td>0.0</td>\n",
       "      <td>0.0</td>\n",
       "      <td>6.914100e-26</td>\n",
       "      <td>0.0</td>\n",
       "      <td>0.020245</td>\n",
       "    </tr>\n",
       "    <tr>\n",
       "      <th>2</th>\n",
       "      <td>3</td>\n",
       "      <td>0.0</td>\n",
       "      <td>0.0</td>\n",
       "      <td>2.282990e-25</td>\n",
       "      <td>0.0</td>\n",
       "      <td>0.022055</td>\n",
       "    </tr>\n",
       "    <tr>\n",
       "      <th>3</th>\n",
       "      <td>4</td>\n",
       "      <td>0.0</td>\n",
       "      <td>0.0</td>\n",
       "      <td>7.538280e-25</td>\n",
       "      <td>0.0</td>\n",
       "      <td>0.024024</td>\n",
       "    </tr>\n",
       "    <tr>\n",
       "      <th>4</th>\n",
       "      <td>5</td>\n",
       "      <td>0.0</td>\n",
       "      <td>0.0</td>\n",
       "      <td>2.489090e-24</td>\n",
       "      <td>0.0</td>\n",
       "      <td>0.026163</td>\n",
       "    </tr>\n",
       "  </tbody>\n",
       "</table>\n",
       "</div>"
      ],
      "text/plain": [
       "   x    y  y\"A        probaA  y\"B    probaB\n",
       "0  1  0.0  0.0  2.093955e-26  0.0  0.018581\n",
       "1  2  0.0  0.0  6.914100e-26  0.0  0.020245\n",
       "2  3  0.0  0.0  2.282990e-25  0.0  0.022055\n",
       "3  4  0.0  0.0  7.538280e-25  0.0  0.024024\n",
       "4  5  0.0  0.0  2.489090e-24  0.0  0.026163"
      ]
     },
     "execution_count": 54,
     "metadata": {},
     "output_type": "execute_result"
    }
   ],
   "source": [
    "df['y\"A'] = modelA.predict(df[['x']])\n",
    "df['probaA'] = 1 / (1 + np.exp(-1 * (mA * df['x'] + cA)))\n",
    "\n",
    "df['y\"B'] = modelB.predict(df[['x']])\n",
    "df['probaB'] = 1 / (1 + np.exp(-1 * (mB * df['x'] + cB)))\n",
    "\n",
    "df.head()\n",
    "# df.iloc[49]\n",
    "# df.iloc[50]"
   ]
  },
  {
   "cell_type": "markdown",
   "metadata": {},
   "source": [
    "### Note\n",
    "\n",
    "- By default, __threshold__ probability Logistic Regression = 0.5. Jika proba >0.5, maka diklasifikasikan sebagai 1. Dan sebaliknya, jika proba <0.5 akan diklasifikasikan sebagai 0."
   ]
  },
  {
   "cell_type": "code",
   "execution_count": 55,
   "metadata": {},
   "outputs": [
    {
     "data": {
      "text/plain": [
       "Text(0, 0.5, 'Probability')"
      ]
     },
     "execution_count": 55,
     "metadata": {},
     "output_type": "execute_result"
    },
    {
     "data": {
      "image/png": "[encoded data removed]",
      "text/plain": [
       "<Figure size 432x288 with 1 Axes>"
      ]
     },
     "metadata": {
      "needs_background": "light"
     },
     "output_type": "display_data"
    }
   ],
   "source": [
    "plt.plot(df['x'], df['y'], 'y.')\n",
    "plt.plot(df['x'], df['probaA'], 'r-')\n",
    "plt.plot(df['x'], df['probaB'], 'g-')\n",
    "\n",
    "plt.xlabel('Nilai X')\n",
    "plt.ylabel('Probability')"
   ]
  },
  {
   "cell_type": "code",
   "execution_count": 56,
   "metadata": {},
   "outputs": [
    {
     "name": "stdout",
     "output_type": "stream",
     "text": [
      "1.0\n",
      "0.96\n"
     ]
    }
   ],
   "source": [
    "# akurasi, input should be xtest & ytest!\n",
    "print(modelA.score(df[['x']], df['y']))\n",
    "print(modelB.score(df[['x']], df['y']))"
   ]
  },
  {
   "cell_type": "code",
   "execution_count": 57,
   "metadata": {},
   "outputs": [],
   "source": [
    "# predict probabilities, input should be xtest & ytest!\n",
    "# print(modelA.predict_proba(df[['x']]))\n",
    "# print(modelB.predict_proba(df[['x']]))\n",
    "# [1.00000000e+00 2.09395515e-26]   = [% NO, % YES]"
   ]
  },
  {
   "cell_type": "code",
   "execution_count": 58,
   "metadata": {},
   "outputs": [
    {
     "data": {
      "text/html": [
       "<div>\n",
       "<style scoped>\n",
       "    .dataframe tbody tr th:only-of-type {\n",
       "        vertical-align: middle;\n",
       "    }\n",
       "\n",
       "    .dataframe tbody tr th {\n",
       "        vertical-align: top;\n",
       "    }\n",
       "\n",
       "    .dataframe thead th {\n",
       "        text-align: right;\n",
       "    }\n",
       "</style>\n",
       "<table border=\"1\" class=\"dataframe\">\n",
       "  <thead>\n",
       "    <tr style=\"text-align: right;\">\n",
       "      <th></th>\n",
       "      <th>x</th>\n",
       "      <th>y</th>\n",
       "      <th>y\"A</th>\n",
       "      <th>probaA</th>\n",
       "      <th>y\"B</th>\n",
       "      <th>probaB</th>\n",
       "      <th>probaA2</th>\n",
       "      <th>probaB2</th>\n",
       "    </tr>\n",
       "  </thead>\n",
       "  <tbody>\n",
       "    <tr>\n",
       "      <th>0</th>\n",
       "      <td>1</td>\n",
       "      <td>0.0</td>\n",
       "      <td>0.0</td>\n",
       "      <td>2.093955e-26</td>\n",
       "      <td>0.0</td>\n",
       "      <td>0.018581</td>\n",
       "      <td>2.093955e-26</td>\n",
       "      <td>0.018581</td>\n",
       "    </tr>\n",
       "    <tr>\n",
       "      <th>1</th>\n",
       "      <td>2</td>\n",
       "      <td>0.0</td>\n",
       "      <td>0.0</td>\n",
       "      <td>6.914100e-26</td>\n",
       "      <td>0.0</td>\n",
       "      <td>0.020245</td>\n",
       "      <td>6.914100e-26</td>\n",
       "      <td>0.020245</td>\n",
       "    </tr>\n",
       "    <tr>\n",
       "      <th>2</th>\n",
       "      <td>3</td>\n",
       "      <td>0.0</td>\n",
       "      <td>0.0</td>\n",
       "      <td>2.282990e-25</td>\n",
       "      <td>0.0</td>\n",
       "      <td>0.022055</td>\n",
       "      <td>2.282990e-25</td>\n",
       "      <td>0.022055</td>\n",
       "    </tr>\n",
       "    <tr>\n",
       "      <th>3</th>\n",
       "      <td>4</td>\n",
       "      <td>0.0</td>\n",
       "      <td>0.0</td>\n",
       "      <td>7.538280e-25</td>\n",
       "      <td>0.0</td>\n",
       "      <td>0.024024</td>\n",
       "      <td>7.538280e-25</td>\n",
       "      <td>0.024024</td>\n",
       "    </tr>\n",
       "    <tr>\n",
       "      <th>4</th>\n",
       "      <td>5</td>\n",
       "      <td>0.0</td>\n",
       "      <td>0.0</td>\n",
       "      <td>2.489090e-24</td>\n",
       "      <td>0.0</td>\n",
       "      <td>0.026163</td>\n",
       "      <td>2.489090e-24</td>\n",
       "      <td>0.026163</td>\n",
       "    </tr>\n",
       "  </tbody>\n",
       "</table>\n",
       "</div>"
      ],
      "text/plain": [
       "   x    y  y\"A        probaA  y\"B    probaB       probaA2   probaB2\n",
       "0  1  0.0  0.0  2.093955e-26  0.0  0.018581  2.093955e-26  0.018581\n",
       "1  2  0.0  0.0  6.914100e-26  0.0  0.020245  6.914100e-26  0.020245\n",
       "2  3  0.0  0.0  2.282990e-25  0.0  0.022055  2.282990e-25  0.022055\n",
       "3  4  0.0  0.0  7.538280e-25  0.0  0.024024  7.538280e-25  0.024024\n",
       "4  5  0.0  0.0  2.489090e-24  0.0  0.026163  2.489090e-24  0.026163"
      ]
     },
     "execution_count": 58,
     "metadata": {},
     "output_type": "execute_result"
    }
   ],
   "source": [
    "# predict probabilities, input should be xtest & ytest!\n",
    "df['probaA2'] = modelA.predict_proba(df[['x']])[:, 1]\n",
    "df['probaB2'] = modelB.predict_proba(df[['x']])[:, 1]\n",
    "df.head()"
   ]
  }
 ],
 "metadata": {
  "kernelspec": {
   "display_name": "Python 3",
   "language": "python",
   "name": "python3"
  },
  "language_info": {
   "codemirror_mode": {
    "name": "ipython",
    "version": 3
   },
   "file_extension": ".py",
   "mimetype": "text/x-python",
   "name": "python",
   "nbconvert_exporter": "python",
   "pygments_lexer": "ipython3",
   "version": "3.7.3"
  }
 },
 "nbformat": 4,
 "nbformat_minor": 4
}
