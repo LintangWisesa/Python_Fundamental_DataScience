{
 "cells": [
  {
   "cell_type": "markdown",
   "metadata": {},
   "source": [
    "# Jaccard Index\n",
    "\n",
    "- The __Jaccard index__, also known as __Intersection over Union__ \n",
    "\n",
    "- The __Jaccard similarity coefficient__ (originally given the French name: *coefficient de communauté* by Paul Jaccard), is a statistic used for gauging the __similarity__ and __diversity__ of sample sets. \n",
    "\n",
    "- The Jaccard coefficient measures similarity between finite sample sets, and is defined as the size of the intersection divided by the size of the union of the sample sets:\n",
    "\n",
    "$$ J(A, B) = \\frac {|A \\cap B|} {|A \\cup B|} = \\frac {|A \\cap B|} {|A| + |B| - |A \\cap B|} $$"
   ]
  },
  {
   "cell_type": "code",
   "execution_count": 1,
   "metadata": {},
   "outputs": [],
   "source": [
    "import numpy as np\n",
    "import pandas as pd"
   ]
  },
  {
   "cell_type": "code",
   "execution_count": 2,
   "metadata": {},
   "outputs": [],
   "source": [
    "# Misalkan terdapat data aktual (y) & data hasil prediksi model (yp)\n",
    "y = np.array([1, 1, 1, 0, 1])\n",
    "yp = np.array([0, 1, 1, 1, 1])"
   ]
  },
  {
   "cell_type": "markdown",
   "metadata": {},
   "source": [
    "<hr>\n",
    "\n",
    "### Jaccard Manual calculation\n",
    "\n",
    "$\\displaystyle J(y, yp) = \\frac {|y \\cap yp|} {|y \\cup yp|} = \\frac {|y \\cap yp|} {|y| + |yp| - |y \\cap yp|} $\n",
    "\n",
    "- $\\displaystyle |y \\cap yp| = $ jumlah y & yp yang sama\n",
    "\n",
    "- $\\displaystyle |y \\cup yp| = $ jumlah total data y atau yp"
   ]
  },
  {
   "cell_type": "code",
   "execution_count": 3,
   "metadata": {},
   "outputs": [
    {
     "data": {
      "text/plain": [
       "0.6"
      ]
     },
     "execution_count": 3,
     "metadata": {},
     "output_type": "execute_result"
    }
   ],
   "source": [
    "j = 3 / 5\n",
    "j"
   ]
  },
  {
   "cell_type": "markdown",
   "metadata": {},
   "source": [
    "<hr>\n",
    "\n",
    "### Jaccard Index Using Sklearn\n",
    "\n",
    "- jaccard_score may be a poor metric if there are no positives for some samples or classes. Jaccard is undefined if there are no true or predicted labels, and our implementation will return a score of 0 with a warning."
   ]
  },
  {
   "cell_type": "code",
   "execution_count": 4,
   "metadata": {},
   "outputs": [
    {
     "data": {
      "text/plain": [
       "0.6"
      ]
     },
     "execution_count": 4,
     "metadata": {},
     "output_type": "execute_result"
    }
   ],
   "source": [
    "from sklearn.metrics import jaccard_score\n",
    "\n",
    "jaccard_score(y, yp)"
   ]
  },
  {
   "cell_type": "code",
   "execution_count": 7,
   "metadata": {},
   "outputs": [
    {
     "name": "stderr",
     "output_type": "stream",
     "text": [
      "c:\\python37\\lib\\site-packages\\sklearn\\metrics\\_classification.py:664: FutureWarning: jaccard_similarity_score has been deprecated and replaced with jaccard_score. It will be removed in version 0.23. This implementation has surprising behavior for binary and multiclass classification tasks.\n",
      "  FutureWarning)\n"
     ]
    },
    {
     "data": {
      "text/plain": [
       "0.6"
      ]
     },
     "execution_count": 7,
     "metadata": {},
     "output_type": "execute_result"
    }
   ],
   "source": [
    "from sklearn.metrics import jaccard_similarity_score\n",
    "\n",
    "jaccard_similarity_score(y, yp)"
   ]
  },
  {
   "cell_type": "code",
   "execution_count": 5,
   "metadata": {},
   "outputs": [
    {
     "name": "stdout",
     "output_type": "stream",
     "text": [
      "0.6666666666666666\n",
      "[0.5 0.5 1. ]\n"
     ]
    }
   ],
   "source": [
    "y_true = np.array([[0, 1, 1], [1, 1, 0]])\n",
    "y_pred = np.array([[1, 1, 1], [1, 0, 0]])\n",
    "\n",
    "# binary case: hanya ada 2 val target: 0/1, False/True, No,Yes\n",
    "print(jaccard_score(y_true[0], y_pred[0]))\n",
    "\n",
    "# multilabel case: memiliki >1 dimensi\n",
    "print(jaccard_score(y_true, y_pred, average=None))"
   ]
  },
  {
   "cell_type": "code",
   "execution_count": 6,
   "metadata": {},
   "outputs": [
    {
     "data": {
      "text/plain": [
       "array([1.        , 0.        , 0.33333333])"
      ]
     },
     "execution_count": 6,
     "metadata": {},
     "output_type": "execute_result"
    }
   ],
   "source": [
    "# multiclass case: prediksi >2 val target/kategori\n",
    "y_pred = [0, 2, 1, 2]\n",
    "y_true = [0, 1, 2, 2]\n",
    "jaccard_score(y_true, y_pred, average=None)"
   ]
  },
  {
   "cell_type": "markdown",
   "metadata": {},
   "source": [
    "<hr>\n",
    "\n",
    "### Jaccard Index for Multi-class case"
   ]
  },
  {
   "cell_type": "code",
   "execution_count": 17,
   "metadata": {},
   "outputs": [],
   "source": [
    "aa = np.array([1,2,3,1,2,3])\n",
    "ap = np.array([1,1,2,1,3,3])"
   ]
  },
  {
   "cell_type": "code",
   "execution_count": 21,
   "metadata": {},
   "outputs": [
    {
     "data": {
      "text/plain": [
       "(0.6666666666666666, 0.0, 0.3333333333333333)"
      ]
     },
     "execution_count": 21,
     "metadata": {},
     "output_type": "execute_result"
    }
   ],
   "source": [
    "# Hitung manual, sedikit berbeda dengan rumus asal, krn dihtung per class\n",
    "\n",
    "a1 = 2/3   # jumlah aa = 1 = ap / jumlah class (1,2,3)\n",
    "a2 = 0/3   # jumlah aa = 2 = ap / jumlah class (1,2,3)\n",
    "a3 = 1/3   # jumlah aa = 3 = ap / jumlah class (1,2,3)\n",
    "a1, a2, a3"
   ]
  },
  {
   "cell_type": "code",
   "execution_count": 22,
   "metadata": {},
   "outputs": [
    {
     "name": "stdout",
     "output_type": "stream",
     "text": [
      "[0.66666667 0.         0.33333333]\n",
      "0.3333333333333333\n",
      "0.3333333333333333\n",
      "0.3333333333333333\n"
     ]
    }
   ],
   "source": [
    "# Hitung dengan Sklearn\n",
    "\n",
    "print(jaccard_score(aa, ap, average=None))\n",
    "print(jaccard_score(aa, ap, average='macro'))\n",
    "print(jaccard_score(aa, ap, average='micro'))\n",
    "print(jaccard_score(aa, ap, average='weighted'))"
   ]
  }
 ],
 "metadata": {
  "kernelspec": {
   "display_name": "Python 3",
   "language": "python",
   "name": "python3"
  },
  "language_info": {
   "codemirror_mode": {
    "name": "ipython",
    "version": 3
   },
   "file_extension": ".py",
   "mimetype": "text/x-python",
   "name": "python",
   "nbconvert_exporter": "python",
   "pygments_lexer": "ipython3",
   "version": "3.8.1"
  }
 },
 "nbformat": 4,
 "nbformat_minor": 4
}
