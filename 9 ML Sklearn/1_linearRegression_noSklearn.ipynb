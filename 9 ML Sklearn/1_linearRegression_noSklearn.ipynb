{
 "cells": [
  {
   "cell_type": "markdown",
   "metadata": {},
   "source": [
    "# Linear Regression / Ordinary Least Squares"
   ]
  },
  {
   "cell_type": "code",
   "execution_count": 1,
   "metadata": {},
   "outputs": [],
   "source": [
    "import numpy as np\n",
    "import pandas as pd\n",
    "import matplotlib.pyplot as plt"
   ]
  },
  {
   "cell_type": "code",
   "execution_count": 7,
   "metadata": {},
   "outputs": [
    {
     "data": {
      "text/html": [
       "<div>\n",
       "<style scoped>\n",
       "    .dataframe tbody tr th:only-of-type {\n",
       "        vertical-align: middle;\n",
       "    }\n",
       "\n",
       "    .dataframe tbody tr th {\n",
       "        vertical-align: top;\n",
       "    }\n",
       "\n",
       "    .dataframe thead th {\n",
       "        text-align: right;\n",
       "    }\n",
       "</style>\n",
       "<table border=\"1\" class=\"dataframe\">\n",
       "  <thead>\n",
       "    <tr style=\"text-align: right;\">\n",
       "      <th></th>\n",
       "      <th>mesin x</th>\n",
       "      <th>harga y</th>\n",
       "    </tr>\n",
       "  </thead>\n",
       "  <tbody>\n",
       "    <tr>\n",
       "      <th>0</th>\n",
       "      <td>1000</td>\n",
       "      <td>10</td>\n",
       "    </tr>\n",
       "    <tr>\n",
       "      <th>1</th>\n",
       "      <td>2000</td>\n",
       "      <td>25</td>\n",
       "    </tr>\n",
       "    <tr>\n",
       "      <th>2</th>\n",
       "      <td>3000</td>\n",
       "      <td>35</td>\n",
       "    </tr>\n",
       "    <tr>\n",
       "      <th>3</th>\n",
       "      <td>4000</td>\n",
       "      <td>55</td>\n",
       "    </tr>\n",
       "    <tr>\n",
       "      <th>4</th>\n",
       "      <td>5000</td>\n",
       "      <td>80</td>\n",
       "    </tr>\n",
       "  </tbody>\n",
       "</table>\n",
       "</div>"
      ],
      "text/plain": [
       "   mesin x  harga y\n",
       "0     1000       10\n",
       "1     2000       25\n",
       "2     3000       35\n",
       "3     4000       55\n",
       "4     5000       80"
      ]
     },
     "execution_count": 7,
     "metadata": {},
     "output_type": "execute_result"
    }
   ],
   "source": [
    "data = {\n",
    "    'mesin x': [1000, 2000, 3000, 4000, 5000],\n",
    "    'harga y': [10, 25, 35, 55, 80]\n",
    "}\n",
    "df = pd.DataFrame(data)\n",
    "df"
   ]
  },
  {
   "cell_type": "code",
   "execution_count": 8,
   "metadata": {},
   "outputs": [
    {
     "data": {
      "text/plain": [
       "<matplotlib.legend.Legend at 0xbdc9c10>"
      ]
     },
     "execution_count": 8,
     "metadata": {},
     "output_type": "execute_result"
    },
    {
     "data": {
      "image/png": "[encoded data removed]",
      "text/plain": [
       "<Figure size 432x288 with 1 Axes>"
      ]
     },
     "metadata": {
      "needs_background": "light"
     },
     "output_type": "display_data"
    }
   ],
   "source": [
    "plt.plot(df['mesin x'], df['harga y'], 'ro-')\n",
    "plt.xlabel('Mesin (cc)')\n",
    "plt.ylabel('Harga (juta Rp)')\n",
    "plt.title('Mesin (cc) vs Harga (juta Rp)')\n",
    "plt.legend(['Harga y'])"
   ]
  },
  {
   "cell_type": "code",
   "execution_count": 9,
   "metadata": {},
   "outputs": [
    {
     "data": {
      "text/html": [
       "<div>\n",
       "<style scoped>\n",
       "    .dataframe tbody tr th:only-of-type {\n",
       "        vertical-align: middle;\n",
       "    }\n",
       "\n",
       "    .dataframe tbody tr th {\n",
       "        vertical-align: top;\n",
       "    }\n",
       "\n",
       "    .dataframe thead th {\n",
       "        text-align: right;\n",
       "    }\n",
       "</style>\n",
       "<table border=\"1\" class=\"dataframe\">\n",
       "  <thead>\n",
       "    <tr style=\"text-align: right;\">\n",
       "      <th></th>\n",
       "      <th>mesin x</th>\n",
       "      <th>harga y</th>\n",
       "    </tr>\n",
       "  </thead>\n",
       "  <tbody>\n",
       "    <tr>\n",
       "      <th>mesin x</th>\n",
       "      <td>1.00000</td>\n",
       "      <td>0.98644</td>\n",
       "    </tr>\n",
       "    <tr>\n",
       "      <th>harga y</th>\n",
       "      <td>0.98644</td>\n",
       "      <td>1.00000</td>\n",
       "    </tr>\n",
       "  </tbody>\n",
       "</table>\n",
       "</div>"
      ],
      "text/plain": [
       "         mesin x  harga y\n",
       "mesin x  1.00000  0.98644\n",
       "harga y  0.98644  1.00000"
      ]
     },
     "execution_count": 9,
     "metadata": {},
     "output_type": "execute_result"
    }
   ],
   "source": [
    "# check correlation antara x & y\n",
    "df.corr()"
   ]
  },
  {
   "cell_type": "code",
   "execution_count": 10,
   "metadata": {},
   "outputs": [
    {
     "data": {
      "text/html": [
       "<div>\n",
       "<style scoped>\n",
       "    .dataframe tbody tr th:only-of-type {\n",
       "        vertical-align: middle;\n",
       "    }\n",
       "\n",
       "    .dataframe tbody tr th {\n",
       "        vertical-align: top;\n",
       "    }\n",
       "\n",
       "    .dataframe thead th {\n",
       "        text-align: right;\n",
       "    }\n",
       "</style>\n",
       "<table border=\"1\" class=\"dataframe\">\n",
       "  <thead>\n",
       "    <tr style=\"text-align: right;\">\n",
       "      <th></th>\n",
       "      <th>mesin x</th>\n",
       "      <th>harga y</th>\n",
       "      <th>xy</th>\n",
       "      <th>x^2</th>\n",
       "      <th>y^2</th>\n",
       "    </tr>\n",
       "  </thead>\n",
       "  <tbody>\n",
       "    <tr>\n",
       "      <th>0</th>\n",
       "      <td>1000</td>\n",
       "      <td>10</td>\n",
       "      <td>10000</td>\n",
       "      <td>1000000</td>\n",
       "      <td>100</td>\n",
       "    </tr>\n",
       "    <tr>\n",
       "      <th>1</th>\n",
       "      <td>2000</td>\n",
       "      <td>25</td>\n",
       "      <td>50000</td>\n",
       "      <td>4000000</td>\n",
       "      <td>625</td>\n",
       "    </tr>\n",
       "    <tr>\n",
       "      <th>2</th>\n",
       "      <td>3000</td>\n",
       "      <td>35</td>\n",
       "      <td>105000</td>\n",
       "      <td>9000000</td>\n",
       "      <td>1225</td>\n",
       "    </tr>\n",
       "    <tr>\n",
       "      <th>3</th>\n",
       "      <td>4000</td>\n",
       "      <td>55</td>\n",
       "      <td>220000</td>\n",
       "      <td>16000000</td>\n",
       "      <td>3025</td>\n",
       "    </tr>\n",
       "    <tr>\n",
       "      <th>4</th>\n",
       "      <td>5000</td>\n",
       "      <td>80</td>\n",
       "      <td>400000</td>\n",
       "      <td>25000000</td>\n",
       "      <td>6400</td>\n",
       "    </tr>\n",
       "  </tbody>\n",
       "</table>\n",
       "</div>"
      ],
      "text/plain": [
       "   mesin x  harga y      xy       x^2   y^2\n",
       "0     1000       10   10000   1000000   100\n",
       "1     2000       25   50000   4000000   625\n",
       "2     3000       35  105000   9000000  1225\n",
       "3     4000       55  220000  16000000  3025\n",
       "4     5000       80  400000  25000000  6400"
      ]
     },
     "execution_count": 10,
     "metadata": {},
     "output_type": "execute_result"
    }
   ],
   "source": [
    "# dataframe untuk menghitung m (slope) & c (intercept)\n",
    "df['xy'] = df['mesin x'] * df['harga y']\n",
    "df['x^2'] = df['mesin x'] ** 2\n",
    "df['y^2'] = df['harga y'] ** 2\n",
    "df"
   ]
  },
  {
   "cell_type": "markdown",
   "metadata": {},
   "source": [
    "<hr>\n",
    "\n",
    "### Linear Regression: Gradient (m) & Intercept (c)"
   ]
  },
  {
   "cell_type": "markdown",
   "metadata": {},
   "source": [
    "- Gradient/slope $\\displaystyle m = \\frac {n(\\sum xy) - (\\sum x) (\\sum y)} {n (\\sum x^2) - (\\sum x)^2}$"
   ]
  },
  {
   "cell_type": "code",
   "execution_count": 11,
   "metadata": {},
   "outputs": [
    {
     "data": {
      "text/plain": [
       "0.017"
      ]
     },
     "execution_count": 11,
     "metadata": {},
     "output_type": "execute_result"
    }
   ],
   "source": [
    "# m (slope/gradient)\n",
    "m = ( (df['mesin x'].count() * df['xy'].sum()) - (df['mesin x'].sum() * df['harga y'].sum()) ) / ( (df['mesin x'].count() * df['x^2'].sum()) - (df['mesin x'].sum() ** 2) )\n",
    "m"
   ]
  },
  {
   "cell_type": "markdown",
   "metadata": {},
   "source": [
    "- Intercept $\\displaystyle c = \\frac {(\\sum y)(\\sum x^2) - (\\sum x) (\\sum xy)} {n(\\sum x^2) - (\\sum x)^2}$"
   ]
  },
  {
   "cell_type": "code",
   "execution_count": 12,
   "metadata": {},
   "outputs": [
    {
     "data": {
      "text/plain": [
       "-10.0"
      ]
     },
     "execution_count": 12,
     "metadata": {},
     "output_type": "execute_result"
    }
   ],
   "source": [
    "# c intercept\n",
    "c = ( (df['harga y'].sum() * df['x^2'].sum()) - (df['mesin x'].sum() * df['xy'].sum()) ) / ( (df['mesin x'].count() * df['x^2'].sum()) - (df['mesin x'].sum() ** 2) )\n",
    "c"
   ]
  },
  {
   "cell_type": "markdown",
   "metadata": {},
   "source": [
    "- Prediction $\\displaystyle \\hat{y} = mx + c$"
   ]
  },
  {
   "cell_type": "code",
   "execution_count": 13,
   "metadata": {},
   "outputs": [
    {
     "data": {
      "text/html": [
       "<div>\n",
       "<style scoped>\n",
       "    .dataframe tbody tr th:only-of-type {\n",
       "        vertical-align: middle;\n",
       "    }\n",
       "\n",
       "    .dataframe tbody tr th {\n",
       "        vertical-align: top;\n",
       "    }\n",
       "\n",
       "    .dataframe thead th {\n",
       "        text-align: right;\n",
       "    }\n",
       "</style>\n",
       "<table border=\"1\" class=\"dataframe\">\n",
       "  <thead>\n",
       "    <tr style=\"text-align: right;\">\n",
       "      <th></th>\n",
       "      <th>mesin x</th>\n",
       "      <th>harga y</th>\n",
       "      <th>xy</th>\n",
       "      <th>x^2</th>\n",
       "      <th>y^2</th>\n",
       "      <th>harga ŷ</th>\n",
       "    </tr>\n",
       "  </thead>\n",
       "  <tbody>\n",
       "    <tr>\n",
       "      <th>0</th>\n",
       "      <td>1000</td>\n",
       "      <td>10</td>\n",
       "      <td>10000</td>\n",
       "      <td>1000000</td>\n",
       "      <td>100</td>\n",
       "      <td>7.0</td>\n",
       "    </tr>\n",
       "    <tr>\n",
       "      <th>1</th>\n",
       "      <td>2000</td>\n",
       "      <td>25</td>\n",
       "      <td>50000</td>\n",
       "      <td>4000000</td>\n",
       "      <td>625</td>\n",
       "      <td>24.0</td>\n",
       "    </tr>\n",
       "    <tr>\n",
       "      <th>2</th>\n",
       "      <td>3000</td>\n",
       "      <td>35</td>\n",
       "      <td>105000</td>\n",
       "      <td>9000000</td>\n",
       "      <td>1225</td>\n",
       "      <td>41.0</td>\n",
       "    </tr>\n",
       "    <tr>\n",
       "      <th>3</th>\n",
       "      <td>4000</td>\n",
       "      <td>55</td>\n",
       "      <td>220000</td>\n",
       "      <td>16000000</td>\n",
       "      <td>3025</td>\n",
       "      <td>58.0</td>\n",
       "    </tr>\n",
       "    <tr>\n",
       "      <th>4</th>\n",
       "      <td>5000</td>\n",
       "      <td>80</td>\n",
       "      <td>400000</td>\n",
       "      <td>25000000</td>\n",
       "      <td>6400</td>\n",
       "      <td>75.0</td>\n",
       "    </tr>\n",
       "  </tbody>\n",
       "</table>\n",
       "</div>"
      ],
      "text/plain": [
       "   mesin x  harga y      xy       x^2   y^2  harga ŷ\n",
       "0     1000       10   10000   1000000   100      7.0\n",
       "1     2000       25   50000   4000000   625     24.0\n",
       "2     3000       35  105000   9000000  1225     41.0\n",
       "3     4000       55  220000  16000000  3025     58.0\n",
       "4     5000       80  400000  25000000  6400     75.0"
      ]
     },
     "execution_count": 13,
     "metadata": {},
     "output_type": "execute_result"
    }
   ],
   "source": [
    "# prediksi harga berdasarkan linear regression y' = mx + c\n",
    "df['harga ŷ'] = m * df['mesin x'] + c\n",
    "df"
   ]
  },
  {
   "cell_type": "code",
   "execution_count": 14,
   "metadata": {},
   "outputs": [
    {
     "data": {
      "text/plain": [
       "<matplotlib.legend.Legend at 0xbdf0c10>"
      ]
     },
     "execution_count": 14,
     "metadata": {},
     "output_type": "execute_result"
    },
    {
     "data": {
      "image/png": "[encoded data removed]",
      "text/plain": [
       "<Figure size 432x288 with 1 Axes>"
      ]
     },
     "metadata": {
      "needs_background": "light"
     },
     "output_type": "display_data"
    }
   ],
   "source": [
    "# plot data & prediksi\n",
    "plt.plot(df['mesin x'], df['harga y'], 'ro-')\n",
    "plt.plot(df['mesin x'], df['harga ŷ'], 'go-')\n",
    "plt.xlabel('Mesin (cc)')\n",
    "plt.ylabel('Harga (juta Rp)')\n",
    "plt.title('Mesin (cc) vs Harga (juta Rp)')\n",
    "plt.legend(['Harga y', 'Harga ŷ'])"
   ]
  },
  {
   "cell_type": "code",
   "execution_count": 15,
   "metadata": {},
   "outputs": [
    {
     "data": {
      "text/html": [
       "<div>\n",
       "<style scoped>\n",
       "    .dataframe tbody tr th:only-of-type {\n",
       "        vertical-align: middle;\n",
       "    }\n",
       "\n",
       "    .dataframe tbody tr th {\n",
       "        vertical-align: top;\n",
       "    }\n",
       "\n",
       "    .dataframe thead th {\n",
       "        text-align: right;\n",
       "    }\n",
       "</style>\n",
       "<table border=\"1\" class=\"dataframe\">\n",
       "  <thead>\n",
       "    <tr style=\"text-align: right;\">\n",
       "      <th></th>\n",
       "      <th>mesin x</th>\n",
       "      <th>harga y</th>\n",
       "      <th>xy</th>\n",
       "      <th>x^2</th>\n",
       "      <th>y^2</th>\n",
       "      <th>harga ŷ</th>\n",
       "      <th>|y-ŷ|</th>\n",
       "      <th>|y-ŷ|^2</th>\n",
       "      <th>|y-y̅|</th>\n",
       "      <th>|y-y̅|^2</th>\n",
       "      <th>ln(1+y)</th>\n",
       "      <th>ln(1+ŷ)</th>\n",
       "      <th>|ln(1+y)-ln(1+ŷ)|^2</th>\n",
       "      <th>%error</th>\n",
       "      <th>%err^2</th>\n",
       "    </tr>\n",
       "  </thead>\n",
       "  <tbody>\n",
       "    <tr>\n",
       "      <th>0</th>\n",
       "      <td>1000</td>\n",
       "      <td>10</td>\n",
       "      <td>10000</td>\n",
       "      <td>1000000</td>\n",
       "      <td>100</td>\n",
       "      <td>7.0</td>\n",
       "      <td>3.0</td>\n",
       "      <td>9.0</td>\n",
       "      <td>31.0</td>\n",
       "      <td>961.0</td>\n",
       "      <td>2.397895</td>\n",
       "      <td>2.079442</td>\n",
       "      <td>0.101413</td>\n",
       "      <td>0.300000</td>\n",
       "      <td>0.090000</td>\n",
       "    </tr>\n",
       "    <tr>\n",
       "      <th>1</th>\n",
       "      <td>2000</td>\n",
       "      <td>25</td>\n",
       "      <td>50000</td>\n",
       "      <td>4000000</td>\n",
       "      <td>625</td>\n",
       "      <td>24.0</td>\n",
       "      <td>1.0</td>\n",
       "      <td>1.0</td>\n",
       "      <td>16.0</td>\n",
       "      <td>256.0</td>\n",
       "      <td>3.258097</td>\n",
       "      <td>3.218876</td>\n",
       "      <td>0.001538</td>\n",
       "      <td>0.040000</td>\n",
       "      <td>0.001600</td>\n",
       "    </tr>\n",
       "    <tr>\n",
       "      <th>2</th>\n",
       "      <td>3000</td>\n",
       "      <td>35</td>\n",
       "      <td>105000</td>\n",
       "      <td>9000000</td>\n",
       "      <td>1225</td>\n",
       "      <td>41.0</td>\n",
       "      <td>6.0</td>\n",
       "      <td>36.0</td>\n",
       "      <td>6.0</td>\n",
       "      <td>36.0</td>\n",
       "      <td>3.583519</td>\n",
       "      <td>3.737670</td>\n",
       "      <td>0.023762</td>\n",
       "      <td>0.171429</td>\n",
       "      <td>0.029388</td>\n",
       "    </tr>\n",
       "    <tr>\n",
       "      <th>3</th>\n",
       "      <td>4000</td>\n",
       "      <td>55</td>\n",
       "      <td>220000</td>\n",
       "      <td>16000000</td>\n",
       "      <td>3025</td>\n",
       "      <td>58.0</td>\n",
       "      <td>3.0</td>\n",
       "      <td>9.0</td>\n",
       "      <td>14.0</td>\n",
       "      <td>196.0</td>\n",
       "      <td>4.025352</td>\n",
       "      <td>4.077537</td>\n",
       "      <td>0.002723</td>\n",
       "      <td>0.054545</td>\n",
       "      <td>0.002975</td>\n",
       "    </tr>\n",
       "    <tr>\n",
       "      <th>4</th>\n",
       "      <td>5000</td>\n",
       "      <td>80</td>\n",
       "      <td>400000</td>\n",
       "      <td>25000000</td>\n",
       "      <td>6400</td>\n",
       "      <td>75.0</td>\n",
       "      <td>5.0</td>\n",
       "      <td>25.0</td>\n",
       "      <td>39.0</td>\n",
       "      <td>1521.0</td>\n",
       "      <td>4.394449</td>\n",
       "      <td>4.330733</td>\n",
       "      <td>0.004060</td>\n",
       "      <td>0.062500</td>\n",
       "      <td>0.003906</td>\n",
       "    </tr>\n",
       "  </tbody>\n",
       "</table>\n",
       "</div>"
      ],
      "text/plain": [
       "   mesin x  harga y      xy       x^2   y^2  harga ŷ  |y-ŷ|  |y-ŷ|^2  |y-y̅|  \\\n",
       "0     1000       10   10000   1000000   100      7.0    3.0      9.0    31.0   \n",
       "1     2000       25   50000   4000000   625     24.0    1.0      1.0    16.0   \n",
       "2     3000       35  105000   9000000  1225     41.0    6.0     36.0     6.0   \n",
       "3     4000       55  220000  16000000  3025     58.0    3.0      9.0    14.0   \n",
       "4     5000       80  400000  25000000  6400     75.0    5.0     25.0    39.0   \n",
       "\n",
       "   |y-y̅|^2   ln(1+y)   ln(1+ŷ)  |ln(1+y)-ln(1+ŷ)|^2    %error    %err^2  \n",
       "0     961.0  2.397895  2.079442             0.101413  0.300000  0.090000  \n",
       "1     256.0  3.258097  3.218876             0.001538  0.040000  0.001600  \n",
       "2      36.0  3.583519  3.737670             0.023762  0.171429  0.029388  \n",
       "3     196.0  4.025352  4.077537             0.002723  0.054545  0.002975  \n",
       "4    1521.0  4.394449  4.330733             0.004060  0.062500  0.003906  "
      ]
     },
     "execution_count": 15,
     "metadata": {},
     "output_type": "execute_result"
    }
   ],
   "source": [
    "# selisih harga y dengan harga prediksi ŷ \n",
    "df[\"|y-ŷ|\"] = np.abs(df['harga y'] - df['harga ŷ'])\n",
    "# selisih y-ŷ ** 2\n",
    "df[\"|y-ŷ|^2\"] = (np.abs(df['harga y'] - df['harga ŷ'])) ** 2\n",
    "\n",
    "# selisih harga y dengan harga rata-rata y̅\n",
    "df[\"|y-y̅|\"] = np.abs(df['harga y'] - df['harga y'].mean())\n",
    "# selisih y-y̅ ** 2\n",
    "df[\"|y-y̅|^2\"] = (np.abs(df['harga y'] - df['harga y'].mean())) ** 2\n",
    "\n",
    "# elog(1+y) => ln(1+y) logaritma natural\n",
    "df['ln(1+y)'] = np.log(1 + df['harga y'])\n",
    "# elog(1+ŷ) => ln(1+ŷ) logaritma natural\n",
    "df['ln(1+ŷ)'] = np.log(1 + df['harga ŷ'])\n",
    "# selisih ln(1+y) & ln(1+ŷ) ** 2\n",
    "df['|ln(1+y)-ln(1+ŷ)|^2'] = (np.abs(df['ln(1+y)'] - df['ln(1+ŷ)'])) ** 2\n",
    "\n",
    "# %error = |y-ŷ/y|\n",
    "df['%error'] = np.abs((df['harga y'] - df['harga ŷ']) / df['harga y'])\n",
    "# %error^2 = |y-ŷ/y| ** 2\n",
    "df['%err^2'] = (np.abs((df['harga y'] - df['harga ŷ']) / df['harga y'])) ** 2\n",
    "\n",
    "df"
   ]
  },
  {
   "cell_type": "markdown",
   "metadata": {},
   "source": [
    "<hr>\n",
    "\n",
    "### Evaluation Metrics Linear Regression"
   ]
  },
  {
   "cell_type": "markdown",
   "metadata": {},
   "source": [
    "#### 1. Max Error\n",
    "\n",
    "- __Error__ aka __Residual__: selisih antara y & $\\hat{y}$ \n",
    "\n",
    "- Max Error mencari error/residual terbesar $\\displaystyle maxErr = max(| y - \\hat{y} |)$"
   ]
  },
  {
   "cell_type": "code",
   "execution_count": 16,
   "metadata": {},
   "outputs": [
    {
     "data": {
      "text/plain": [
       "6.0"
      ]
     },
     "execution_count": 16,
     "metadata": {},
     "output_type": "execute_result"
    }
   ],
   "source": [
    "maxErr = round(df['|y-ŷ|'].max())\n",
    "maxErr"
   ]
  },
  {
   "cell_type": "markdown",
   "metadata": {},
   "source": [
    "#### 2. MAE (Mean Absolute Error)\n",
    "\n",
    "- Mean Absolute Error $\\displaystyle = \\frac {1} {n} \\sum | y - \\hat{y} |$"
   ]
  },
  {
   "cell_type": "code",
   "execution_count": 17,
   "metadata": {},
   "outputs": [
    {
     "data": {
      "text/plain": [
       "3.6"
      ]
     },
     "execution_count": 17,
     "metadata": {},
     "output_type": "execute_result"
    }
   ],
   "source": [
    "MAE = round((1/df['mesin x'].count()) * df['|y-ŷ|'].sum(), 2)\n",
    "MAE"
   ]
  },
  {
   "cell_type": "markdown",
   "metadata": {},
   "source": [
    "#### 3. MSE (Mean Squared Error)\n",
    "\n",
    "- __Sum Squared Error (SSE)__ $\\displaystyle = \\sum ( y - \\hat{y} ) ^ 2$\n",
    "\n",
    "- __Mean Squared Error__ = rata-rata dari SSE\n",
    "\n",
    "- Mean Squared Error $\\displaystyle = \\frac {1} {n} \\sum ( y - \\hat{y} ) ^ 2$"
   ]
  },
  {
   "cell_type": "code",
   "execution_count": 18,
   "metadata": {},
   "outputs": [
    {
     "data": {
      "text/plain": [
       "16.0"
      ]
     },
     "execution_count": 18,
     "metadata": {},
     "output_type": "execute_result"
    }
   ],
   "source": [
    "MSE = round((1/df['mesin x'].count()) * df['|y-ŷ|^2'].sum(), 2)\n",
    "MSE"
   ]
  },
  {
   "cell_type": "markdown",
   "metadata": {},
   "source": [
    "#### 4. RMSE (Root of MSE)\n",
    "\n",
    "- Root of Mean Squared Error $=\\displaystyle \\sqrt {\\frac {1} {n} \\sum ( y - \\hat{y} ) ^ 2}$"
   ]
  },
  {
   "cell_type": "code",
   "execution_count": 19,
   "metadata": {},
   "outputs": [
    {
     "data": {
      "text/plain": [
       "4.0"
      ]
     },
     "execution_count": 19,
     "metadata": {},
     "output_type": "execute_result"
    }
   ],
   "source": [
    "RMSE = np.sqrt(MSE)\n",
    "RMSE"
   ]
  },
  {
   "cell_type": "markdown",
   "metadata": {},
   "source": [
    "#### 5. MedAE (Median Absolute Error)\n",
    "\n",
    "- MedAE $= median (| y_1 - \\hat{y}_1 | , ... , | y_n - \\hat{y}_n |)$"
   ]
  },
  {
   "cell_type": "code",
   "execution_count": 20,
   "metadata": {},
   "outputs": [
    {
     "data": {
      "text/plain": [
       "3.0"
      ]
     },
     "execution_count": 20,
     "metadata": {},
     "output_type": "execute_result"
    }
   ],
   "source": [
    "MedAE = df['|y-ŷ|'].median()\n",
    "MedAE"
   ]
  },
  {
   "cell_type": "markdown",
   "metadata": {},
   "source": [
    "#### 6. MSLE (Mean Squared Logarithmic Error)\n",
    "\n",
    "- MSLE $= \\frac {1} {n} \\sum (^elog(1 + y_i) - ^elog(1 + \\hat{y}_i)) ^ 2 = \\frac {1} {n} \\sum (\\ln(1 + y_i) - \\ln(1 + \\hat{y}_i)) ^ 2$ \n",
    "- Di mana $\\ln{x} =  ^e\\log{x}$, dengan $e$ adalah bilangan Euler"
   ]
  },
  {
   "cell_type": "code",
   "execution_count": 21,
   "metadata": {},
   "outputs": [
    {
     "data": {
      "text/plain": [
       "0.026699306626327746"
      ]
     },
     "execution_count": 21,
     "metadata": {},
     "output_type": "execute_result"
    }
   ],
   "source": [
    "MSLE = (1/df['mesin x'].count()) * df['|ln(1+y)-ln(1+ŷ)|^2'].sum()\n",
    "MSLE"
   ]
  },
  {
   "cell_type": "markdown",
   "metadata": {},
   "source": [
    "#### 7. RMSLE (Root of MSLE)\n",
    "\n",
    "- RMSLE $= \\sqrt{\\frac {1} {n} \\sum (\\ln(1 + y_i) - \\ln(1 + \\hat{y}_i)) ^ 2}$ "
   ]
  },
  {
   "cell_type": "code",
   "execution_count": 22,
   "metadata": {},
   "outputs": [
    {
     "data": {
      "text/plain": [
       "0.16339922468092602"
      ]
     },
     "execution_count": 22,
     "metadata": {},
     "output_type": "execute_result"
    }
   ],
   "source": [
    "RMSLE = np.sqrt(MSLE)\n",
    "RMSLE"
   ]
  },
  {
   "cell_type": "markdown",
   "metadata": {},
   "source": [
    "#### 8. MAPE (Mean Absolute Percentage Error)\n",
    "\n",
    "- MAPE $\\displaystyle = \\frac {1} {n} \\sum \\left | \\frac {y - \\hat{y}} {y} \\right | $"
   ]
  },
  {
   "cell_type": "code",
   "execution_count": 23,
   "metadata": {},
   "outputs": [
    {
     "data": {
      "text/plain": [
       "0.12569480519480522"
      ]
     },
     "execution_count": 23,
     "metadata": {},
     "output_type": "execute_result"
    }
   ],
   "source": [
    "MAPE = (1/df['mesin x'].count()) * df['%error'].sum()\n",
    "MAPE"
   ]
  },
  {
   "cell_type": "markdown",
   "metadata": {},
   "source": [
    "#### 9. MSPE (Mean Squared Percentage Error)\n",
    "\n",
    "- MSPE $\\displaystyle = \\frac {1} {n} \\sum \\left ( \\frac {y - \\hat{y}} {y} \\right ) ^ 2 $"
   ]
  },
  {
   "cell_type": "code",
   "execution_count": 24,
   "metadata": {},
   "outputs": [
    {
     "data": {
      "text/plain": [
       "0.025573842342722225"
      ]
     },
     "execution_count": 24,
     "metadata": {},
     "output_type": "execute_result"
    }
   ],
   "source": [
    "MSPE = (1/df['mesin x'].count()) * df['%err^2'].sum()\n",
    "MSPE"
   ]
  },
  {
   "cell_type": "markdown",
   "metadata": {},
   "source": [
    "#### 10. R<sup>2</sup> Score (Coefficient of Determination)\n",
    "\n",
    "- $\\displaystyle R^2 \\textrm{score} = 1 - \\frac {\\sum (y - \\hat{y}) ^ 2} {\\sum (y - \\bar{y}) ^ 2}$\n",
    "\n",
    "- Nilai $\\displaystyle \\sqrt {R^2 \\textrm{score}} = \\textrm{correlation}$"
   ]
  },
  {
   "cell_type": "code",
   "execution_count": 25,
   "metadata": {},
   "outputs": [
    {
     "data": {
      "text/plain": [
       "0.9730639730639731"
      ]
     },
     "execution_count": 25,
     "metadata": {},
     "output_type": "execute_result"
    }
   ],
   "source": [
    "R2 = 1 - (df['|y-ŷ|^2'].sum() / df['|y-y̅|^2'].sum())\n",
    "R2"
   ]
  },
  {
   "cell_type": "code",
   "execution_count": 28,
   "metadata": {},
   "outputs": [
    {
     "data": {
      "text/plain": [
       "0.9864400504156211"
      ]
     },
     "execution_count": 28,
     "metadata": {},
     "output_type": "execute_result"
    }
   ],
   "source": [
    "# akarpangkat2 dari R2 = correlation!\n",
    "R2 ** (0.5)"
   ]
  }
 ],
 "metadata": {
  "kernelspec": {
   "display_name": "Python 3",
   "language": "python",
   "name": "python3"
  },
  "language_info": {
   "codemirror_mode": {
    "name": "ipython",
    "version": 3
   },
   "file_extension": ".py",
   "mimetype": "text/x-python",
   "name": "python",
   "nbconvert_exporter": "python",
   "pygments_lexer": "ipython3",
   "version": "3.8.1"
  }
 },
 "nbformat": 4,
 "nbformat_minor": 4
}
