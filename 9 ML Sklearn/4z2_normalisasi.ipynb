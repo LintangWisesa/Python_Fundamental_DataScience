{
 "cells": [
  {
   "cell_type": "code",
   "execution_count": 11,
   "metadata": {},
   "outputs": [],
   "source": [
    "import pandas as pd\n",
    "import numpy as np\n",
    "import matplotlib.pyplot as plt\n",
    "from sklearn import preprocessing"
   ]
  },
  {
   "cell_type": "code",
   "execution_count": 12,
   "metadata": {},
   "outputs": [
    {
     "data": {
      "text/html": "<div>\n<style scoped>\n    .dataframe tbody tr th:only-of-type {\n        vertical-align: middle;\n    }\n\n    .dataframe tbody tr th {\n        vertical-align: top;\n    }\n\n    .dataframe thead th {\n        text-align: right;\n    }\n</style>\n<table border=\"1\" class=\"dataframe\">\n  <thead>\n    <tr style=\"text-align: right;\">\n      <th></th>\n      <th>TB</th>\n      <th>BB</th>\n    </tr>\n  </thead>\n  <tbody>\n    <tr>\n      <th>0</th>\n      <td>0.80</td>\n      <td>20</td>\n    </tr>\n    <tr>\n      <th>1</th>\n      <td>0.85</td>\n      <td>25</td>\n    </tr>\n    <tr>\n      <th>2</th>\n      <td>0.92</td>\n      <td>21</td>\n    </tr>\n    <tr>\n      <th>3</th>\n      <td>0.88</td>\n      <td>29</td>\n    </tr>\n    <tr>\n      <th>4</th>\n      <td>0.82</td>\n      <td>30</td>\n    </tr>\n    <tr>\n      <th>5</th>\n      <td>0.86</td>\n      <td>21</td>\n    </tr>\n    <tr>\n      <th>6</th>\n      <td>0.87</td>\n      <td>28</td>\n    </tr>\n    <tr>\n      <th>7</th>\n      <td>0.93</td>\n      <td>27</td>\n    </tr>\n    <tr>\n      <th>8</th>\n      <td>0.81</td>\n      <td>29</td>\n    </tr>\n    <tr>\n      <th>9</th>\n      <td>1.00</td>\n      <td>30</td>\n    </tr>\n  </tbody>\n</table>\n</div>",
      "text/plain": "     TB  BB\n0  0.80  20\n1  0.85  25\n2  0.92  21\n3  0.88  29\n4  0.82  30\n5  0.86  21\n6  0.87  28\n7  0.93  27\n8  0.81  29\n9  1.00  30"
     },
     "execution_count": 12,
     "metadata": {},
     "output_type": "execute_result"
    }
   ],
   "source": [
    "data = {\n",
    "    'TB': [0.8, 0.85, 0.92, 0.88, 0.82, 0.86, 0.87, 0.93, 0.81, 1],\n",
    "    'BB': [20, 25, 21, 29, 30, 21, 28, 27, 29, 30]\n",
    "}\n",
    "df = pd.DataFrame(data)\n",
    "df"
   ]
  },
  {
   "cell_type": "markdown",
   "metadata": {},
   "source": [
    "### Normalisasi\n",
    "\n",
    "Normalisasi $\\displaystyle x' = \\frac {x - x_{min}} {x_{max} - x_{min}}$\n",
    "\n",
    "Data ternormalisasi memiliki nilai antara 0 & 1"
   ]
  },
  {
   "cell_type": "markdown",
   "metadata": {},
   "source": [
    "<hr>\n",
    "\n",
    "### 1. Normalisasi dengan pandas"
   ]
  },
  {
   "cell_type": "code",
   "execution_count": 13,
   "metadata": {},
   "outputs": [
    {
     "data": {
      "text/html": "<div>\n<style scoped>\n    .dataframe tbody tr th:only-of-type {\n        vertical-align: middle;\n    }\n\n    .dataframe tbody tr th {\n        vertical-align: top;\n    }\n\n    .dataframe thead th {\n        text-align: right;\n    }\n</style>\n<table border=\"1\" class=\"dataframe\">\n  <thead>\n    <tr style=\"text-align: right;\">\n      <th></th>\n      <th>TB</th>\n      <th>BB</th>\n      <th>TB N pd</th>\n      <th>BB N pd</th>\n    </tr>\n  </thead>\n  <tbody>\n    <tr>\n      <th>0</th>\n      <td>0.80</td>\n      <td>20</td>\n      <td>0.00</td>\n      <td>0.0</td>\n    </tr>\n    <tr>\n      <th>1</th>\n      <td>0.85</td>\n      <td>25</td>\n      <td>0.25</td>\n      <td>0.5</td>\n    </tr>\n    <tr>\n      <th>2</th>\n      <td>0.92</td>\n      <td>21</td>\n      <td>0.60</td>\n      <td>0.1</td>\n    </tr>\n    <tr>\n      <th>3</th>\n      <td>0.88</td>\n      <td>29</td>\n      <td>0.40</td>\n      <td>0.9</td>\n    </tr>\n    <tr>\n      <th>4</th>\n      <td>0.82</td>\n      <td>30</td>\n      <td>0.10</td>\n      <td>1.0</td>\n    </tr>\n    <tr>\n      <th>5</th>\n      <td>0.86</td>\n      <td>21</td>\n      <td>0.30</td>\n      <td>0.1</td>\n    </tr>\n    <tr>\n      <th>6</th>\n      <td>0.87</td>\n      <td>28</td>\n      <td>0.35</td>\n      <td>0.8</td>\n    </tr>\n    <tr>\n      <th>7</th>\n      <td>0.93</td>\n      <td>27</td>\n      <td>0.65</td>\n      <td>0.7</td>\n    </tr>\n    <tr>\n      <th>8</th>\n      <td>0.81</td>\n      <td>29</td>\n      <td>0.05</td>\n      <td>0.9</td>\n    </tr>\n    <tr>\n      <th>9</th>\n      <td>1.00</td>\n      <td>30</td>\n      <td>1.00</td>\n      <td>1.0</td>\n    </tr>\n  </tbody>\n</table>\n</div>",
      "text/plain": "     TB  BB  TB N pd  BB N pd\n0  0.80  20     0.00      0.0\n1  0.85  25     0.25      0.5\n2  0.92  21     0.60      0.1\n3  0.88  29     0.40      0.9\n4  0.82  30     0.10      1.0\n5  0.86  21     0.30      0.1\n6  0.87  28     0.35      0.8\n7  0.93  27     0.65      0.7\n8  0.81  29     0.05      0.9\n9  1.00  30     1.00      1.0"
     },
     "execution_count": 13,
     "metadata": {},
     "output_type": "execute_result"
    }
   ],
   "source": [
    "n1tb = (df['TB'] - df['TB'].min())/(df['TB'].max() - df['TB'].min())\n",
    "n1bb = (df['BB'] - df['BB'].min())/(df['BB'].max() - df['BB'].min())\n",
    "df['TB N pd'] = n1tb\n",
    "df['BB N pd'] = n1bb\n",
    "df"
   ]
  },
  {
   "cell_type": "markdown",
   "metadata": {},
   "source": [
    "<hr>\n",
    "\n",
    "### 2. Normalisasi dengan Sklearn MinMaxScaler"
   ]
  },
  {
   "cell_type": "code",
   "execution_count": 14,
   "metadata": {},
   "outputs": [
    {
     "name": "stdout",
     "output_type": "stream",
     "text": "[[0.  ]\n [0.25]\n [0.6 ]\n [0.4 ]\n [0.1 ]\n [0.3 ]\n [0.35]\n [0.65]\n [0.05]\n [1.  ]]\n[[0. ]\n [0.5]\n [0.1]\n [0.9]\n [1. ]\n [0.1]\n [0.8]\n [0.7]\n [0.9]\n [1. ]]\n"
    }
   ],
   "source": [
    "from sklearn.preprocessing import MinMaxScaler\n",
    "n2tb = MinMaxScaler().fit_transform(df[['TB']])\n",
    "n2bb = MinMaxScaler().fit_transform(df[['BB']])\n",
    "print(n2tb)\n",
    "print(n2bb)"
   ]
  },
  {
   "cell_type": "code",
   "execution_count": 15,
   "metadata": {},
   "outputs": [
    {
     "data": {
      "text/html": "<div>\n<style scoped>\n    .dataframe tbody tr th:only-of-type {\n        vertical-align: middle;\n    }\n\n    .dataframe tbody tr th {\n        vertical-align: top;\n    }\n\n    .dataframe thead th {\n        text-align: right;\n    }\n</style>\n<table border=\"1\" class=\"dataframe\">\n  <thead>\n    <tr style=\"text-align: right;\">\n      <th></th>\n      <th>TB</th>\n      <th>BB</th>\n      <th>TB N pd</th>\n      <th>BB N pd</th>\n      <th>TB n skl</th>\n      <th>BB n skl</th>\n    </tr>\n  </thead>\n  <tbody>\n    <tr>\n      <th>0</th>\n      <td>0.80</td>\n      <td>20</td>\n      <td>0.00</td>\n      <td>0.0</td>\n      <td>0.00</td>\n      <td>0.0</td>\n    </tr>\n    <tr>\n      <th>1</th>\n      <td>0.85</td>\n      <td>25</td>\n      <td>0.25</td>\n      <td>0.5</td>\n      <td>0.25</td>\n      <td>0.5</td>\n    </tr>\n    <tr>\n      <th>2</th>\n      <td>0.92</td>\n      <td>21</td>\n      <td>0.60</td>\n      <td>0.1</td>\n      <td>0.60</td>\n      <td>0.1</td>\n    </tr>\n    <tr>\n      <th>3</th>\n      <td>0.88</td>\n      <td>29</td>\n      <td>0.40</td>\n      <td>0.9</td>\n      <td>0.40</td>\n      <td>0.9</td>\n    </tr>\n    <tr>\n      <th>4</th>\n      <td>0.82</td>\n      <td>30</td>\n      <td>0.10</td>\n      <td>1.0</td>\n      <td>0.10</td>\n      <td>1.0</td>\n    </tr>\n    <tr>\n      <th>5</th>\n      <td>0.86</td>\n      <td>21</td>\n      <td>0.30</td>\n      <td>0.1</td>\n      <td>0.30</td>\n      <td>0.1</td>\n    </tr>\n    <tr>\n      <th>6</th>\n      <td>0.87</td>\n      <td>28</td>\n      <td>0.35</td>\n      <td>0.8</td>\n      <td>0.35</td>\n      <td>0.8</td>\n    </tr>\n    <tr>\n      <th>7</th>\n      <td>0.93</td>\n      <td>27</td>\n      <td>0.65</td>\n      <td>0.7</td>\n      <td>0.65</td>\n      <td>0.7</td>\n    </tr>\n    <tr>\n      <th>8</th>\n      <td>0.81</td>\n      <td>29</td>\n      <td>0.05</td>\n      <td>0.9</td>\n      <td>0.05</td>\n      <td>0.9</td>\n    </tr>\n    <tr>\n      <th>9</th>\n      <td>1.00</td>\n      <td>30</td>\n      <td>1.00</td>\n      <td>1.0</td>\n      <td>1.00</td>\n      <td>1.0</td>\n    </tr>\n  </tbody>\n</table>\n</div>",
      "text/plain": "     TB  BB  TB N pd  BB N pd  TB n skl  BB n skl\n0  0.80  20     0.00      0.0      0.00       0.0\n1  0.85  25     0.25      0.5      0.25       0.5\n2  0.92  21     0.60      0.1      0.60       0.1\n3  0.88  29     0.40      0.9      0.40       0.9\n4  0.82  30     0.10      1.0      0.10       1.0\n5  0.86  21     0.30      0.1      0.30       0.1\n6  0.87  28     0.35      0.8      0.35       0.8\n7  0.93  27     0.65      0.7      0.65       0.7\n8  0.81  29     0.05      0.9      0.05       0.9\n9  1.00  30     1.00      1.0      1.00       1.0"
     },
     "execution_count": 15,
     "metadata": {},
     "output_type": "execute_result"
    }
   ],
   "source": [
    "df['TB n skl'] = n2tb\n",
    "df['BB n skl'] = n2bb\n",
    "df"
   ]
  },
  {
   "cell_type": "markdown",
   "metadata": {},
   "source": [
    "<hr>\n",
    "\n",
    "### 3. Normalisasi dengan Sklearn MinMax_scale"
   ]
  },
  {
   "cell_type": "code",
   "execution_count": 16,
   "metadata": {},
   "outputs": [
    {
     "data": {
      "text/html": "<div>\n<style scoped>\n    .dataframe tbody tr th:only-of-type {\n        vertical-align: middle;\n    }\n\n    .dataframe tbody tr th {\n        vertical-align: top;\n    }\n\n    .dataframe thead th {\n        text-align: right;\n    }\n</style>\n<table border=\"1\" class=\"dataframe\">\n  <thead>\n    <tr style=\"text-align: right;\">\n      <th></th>\n      <th>TB</th>\n      <th>BB</th>\n      <th>TB N pd</th>\n      <th>BB N pd</th>\n      <th>TB n skl</th>\n      <th>BB n skl</th>\n      <th>TB n skl2</th>\n      <th>BB n skl2</th>\n    </tr>\n  </thead>\n  <tbody>\n    <tr>\n      <th>0</th>\n      <td>0.80</td>\n      <td>20</td>\n      <td>0.00</td>\n      <td>0.0</td>\n      <td>0.00</td>\n      <td>0.0</td>\n      <td>0.00</td>\n      <td>0.0</td>\n    </tr>\n    <tr>\n      <th>1</th>\n      <td>0.85</td>\n      <td>25</td>\n      <td>0.25</td>\n      <td>0.5</td>\n      <td>0.25</td>\n      <td>0.5</td>\n      <td>0.25</td>\n      <td>0.5</td>\n    </tr>\n    <tr>\n      <th>2</th>\n      <td>0.92</td>\n      <td>21</td>\n      <td>0.60</td>\n      <td>0.1</td>\n      <td>0.60</td>\n      <td>0.1</td>\n      <td>0.60</td>\n      <td>0.1</td>\n    </tr>\n    <tr>\n      <th>3</th>\n      <td>0.88</td>\n      <td>29</td>\n      <td>0.40</td>\n      <td>0.9</td>\n      <td>0.40</td>\n      <td>0.9</td>\n      <td>0.40</td>\n      <td>0.9</td>\n    </tr>\n    <tr>\n      <th>4</th>\n      <td>0.82</td>\n      <td>30</td>\n      <td>0.10</td>\n      <td>1.0</td>\n      <td>0.10</td>\n      <td>1.0</td>\n      <td>0.10</td>\n      <td>1.0</td>\n    </tr>\n    <tr>\n      <th>5</th>\n      <td>0.86</td>\n      <td>21</td>\n      <td>0.30</td>\n      <td>0.1</td>\n      <td>0.30</td>\n      <td>0.1</td>\n      <td>0.30</td>\n      <td>0.1</td>\n    </tr>\n    <tr>\n      <th>6</th>\n      <td>0.87</td>\n      <td>28</td>\n      <td>0.35</td>\n      <td>0.8</td>\n      <td>0.35</td>\n      <td>0.8</td>\n      <td>0.35</td>\n      <td>0.8</td>\n    </tr>\n    <tr>\n      <th>7</th>\n      <td>0.93</td>\n      <td>27</td>\n      <td>0.65</td>\n      <td>0.7</td>\n      <td>0.65</td>\n      <td>0.7</td>\n      <td>0.65</td>\n      <td>0.7</td>\n    </tr>\n    <tr>\n      <th>8</th>\n      <td>0.81</td>\n      <td>29</td>\n      <td>0.05</td>\n      <td>0.9</td>\n      <td>0.05</td>\n      <td>0.9</td>\n      <td>0.05</td>\n      <td>0.9</td>\n    </tr>\n    <tr>\n      <th>9</th>\n      <td>1.00</td>\n      <td>30</td>\n      <td>1.00</td>\n      <td>1.0</td>\n      <td>1.00</td>\n      <td>1.0</td>\n      <td>1.00</td>\n      <td>1.0</td>\n    </tr>\n  </tbody>\n</table>\n</div>",
      "text/plain": "     TB  BB  TB N pd  BB N pd  TB n skl  BB n skl  TB n skl2  BB n skl2\n0  0.80  20     0.00      0.0      0.00       0.0       0.00        0.0\n1  0.85  25     0.25      0.5      0.25       0.5       0.25        0.5\n2  0.92  21     0.60      0.1      0.60       0.1       0.60        0.1\n3  0.88  29     0.40      0.9      0.40       0.9       0.40        0.9\n4  0.82  30     0.10      1.0      0.10       1.0       0.10        1.0\n5  0.86  21     0.30      0.1      0.30       0.1       0.30        0.1\n6  0.87  28     0.35      0.8      0.35       0.8       0.35        0.8\n7  0.93  27     0.65      0.7      0.65       0.7       0.65        0.7\n8  0.81  29     0.05      0.9      0.05       0.9       0.05        0.9\n9  1.00  30     1.00      1.0      1.00       1.0       1.00        1.0"
     },
     "execution_count": 16,
     "metadata": {},
     "output_type": "execute_result"
    }
   ],
   "source": [
    "from sklearn.preprocessing import minmax_scale\n",
    "df['TB n skl2'] = minmax_scale(df['TB'])\n",
    "df['BB n skl2'] = minmax_scale(df['BB'])\n",
    "df"
   ]
  },
  {
   "cell_type": "markdown",
   "execution_count": 9,
   "metadata": {},
   "outputs": [
    {
     "ename": "SyntaxError",
     "evalue": "invalid syntax (<ipython-input-9-11fc5a79b03d>, line 1)",
     "output_type": "error",
     "traceback": [
      "\u001b[1;36m  File \u001b[1;32m\"<ipython-input-9-11fc5a79b03d>\"\u001b[1;36m, line \u001b[1;32m1\u001b[0m\n\u001b[1;33m    <hr>\u001b[0m\n\u001b[1;37m    ^\u001b[0m\n\u001b[1;31mSyntaxError\u001b[0m\u001b[1;31m:\u001b[0m invalid syntax\n"
     ]
    }
   ],
   "source": [
    "<hr>\n",
    "\n",
    "### Inverse Transform\n",
    "\n",
    "mengembalikan nilai standardisasi ke nilai sebenarnya"
   ]
  },
  {
   "cell_type": "code",
   "execution_count": 20,
   "metadata": {},
   "outputs": [
    {
     "name": "stdout",
     "output_type": "stream",
     "text": "[[ 0.8  20.  ]\n [ 0.85 25.  ]\n [ 0.92 21.  ]\n [ 0.88 29.  ]\n [ 0.82 30.  ]\n [ 0.86 21.  ]\n [ 0.87 28.  ]\n [ 0.93 27.  ]\n [ 0.81 29.  ]\n [ 1.   30.  ]]\n"
    }
   ],
   "source": [
    "# inverse transform\n",
    "scaler = MinMaxScaler()\n",
    "\n",
    "scaler.fit(df[['TB', 'BB']])\n",
    "\n",
    "inv = scaler.inverse_transform(\n",
    "    df[['TB n skl2', 'BB n skl2']]\n",
    ")\n",
    "print(inv)"
   ]
  }
 ],
 "metadata": {
  "kernelspec": {
   "display_name": "Python 3",
   "language": "python",
   "name": "python3"
  },
  "language_info": {
   "codemirror_mode": {
    "name": "ipython",
    "version": 3
   },
   "file_extension": ".py",
   "mimetype": "text/x-python",
   "name": "python",
   "nbconvert_exporter": "python",
   "pygments_lexer": "ipython3",
   "version": "3.7.3-final"
  }
 },
 "nbformat": 4,
 "nbformat_minor": 4
}