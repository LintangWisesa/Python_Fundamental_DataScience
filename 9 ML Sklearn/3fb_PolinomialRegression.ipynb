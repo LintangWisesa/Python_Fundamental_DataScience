{
 "cells": [
  {
   "cell_type": "markdown",
   "metadata": {},
   "source": [
    "# Polinomial Regression"
   ]
  },
  {
   "cell_type": "code",
   "execution_count": 6,
   "metadata": {},
   "outputs": [],
   "source": [
    "import pandas as pd\n",
    "import numpy as np\n",
    "import matplotlib.pyplot as plt"
   ]
  },
  {
   "cell_type": "code",
   "execution_count": 4,
   "metadata": {},
   "outputs": [
    {
     "data": {
      "text/html": [
       "<div>\n",
       "<style scoped>\n",
       "    .dataframe tbody tr th:only-of-type {\n",
       "        vertical-align: middle;\n",
       "    }\n",
       "\n",
       "    .dataframe tbody tr th {\n",
       "        vertical-align: top;\n",
       "    }\n",
       "\n",
       "    .dataframe thead th {\n",
       "        text-align: right;\n",
       "    }\n",
       "</style>\n",
       "<table border=\"1\" class=\"dataframe\">\n",
       "  <thead>\n",
       "    <tr style=\"text-align: right;\">\n",
       "      <th></th>\n",
       "      <th>x</th>\n",
       "      <th>y</th>\n",
       "    </tr>\n",
       "  </thead>\n",
       "  <tbody>\n",
       "    <tr>\n",
       "      <th>0</th>\n",
       "      <td>0.000000</td>\n",
       "      <td>0.000000</td>\n",
       "    </tr>\n",
       "    <tr>\n",
       "      <th>1</th>\n",
       "      <td>0.174533</td>\n",
       "      <td>0.173648</td>\n",
       "    </tr>\n",
       "    <tr>\n",
       "      <th>2</th>\n",
       "      <td>0.349066</td>\n",
       "      <td>0.342020</td>\n",
       "    </tr>\n",
       "    <tr>\n",
       "      <th>3</th>\n",
       "      <td>0.523599</td>\n",
       "      <td>0.500000</td>\n",
       "    </tr>\n",
       "    <tr>\n",
       "      <th>4</th>\n",
       "      <td>0.698132</td>\n",
       "      <td>0.642788</td>\n",
       "    </tr>\n",
       "  </tbody>\n",
       "</table>\n",
       "</div>"
      ],
      "text/plain": [
       "          x         y\n",
       "0  0.000000  0.000000\n",
       "1  0.174533  0.173648\n",
       "2  0.349066  0.342020\n",
       "3  0.523599  0.500000\n",
       "4  0.698132  0.642788"
      ]
     },
     "execution_count": 4,
     "metadata": {},
     "output_type": "execute_result"
    }
   ],
   "source": [
    "# data dummy: sine curve (between 60° and 300°, with step 10°)\n",
    "x = np.array([i*np.pi/180 for i in range(0, 720, 10)])\n",
    "# y = np.sin(x) + np.random.normal(0,0.15,len(x))\n",
    "y = np.sin(x)\n",
    "\n",
    "df = pd.DataFrame({'x': x, 'y': y})\n",
    "df.head()"
   ]
  },
  {
   "cell_type": "code",
   "execution_count": 5,
   "metadata": {},
   "outputs": [
    {
     "data": {
      "text/plain": [
       "[<matplotlib.lines.Line2D at 0x1e5f3ff2470>]"
      ]
     },
     "execution_count": 5,
     "metadata": {},
     "output_type": "execute_result"
    },
    {
     "data": {
      "image/png": "[encoded data removed]",
      "text/plain": [
       "<Figure size 432x288 with 1 Axes>"
      ]
     },
     "metadata": {
      "needs_background": "light"
     },
     "output_type": "display_data"
    }
   ],
   "source": [
    "plt.plot(df['x'], df['y'])"
   ]
  },
  {
   "cell_type": "markdown",
   "metadata": {},
   "source": [
    "<hr>\n",
    "\n",
    "#### Terhadap data tersebut, dilakukan percobaan model machine learning dengan algoritma: \n",
    "- Linear regression,\n",
    "- Ridge regression ($\\displaystyle \\alpha = 1$), \n",
    "- Lasso regression ($\\displaystyle \\alpha = 1$), dan \n",
    "- Elastic-net regression ($\\displaystyle \\alpha = 1$)."
   ]
  },
  {
   "cell_type": "code",
   "execution_count": 9,
   "metadata": {},
   "outputs": [],
   "source": [
    "from sklearn.linear_model import LinearRegression, Ridge, Lasso, ElasticNet"
   ]
  },
  {
   "cell_type": "code",
   "execution_count": 10,
   "metadata": {},
   "outputs": [],
   "source": [
    "modelA = LinearRegression()\n",
    "modelB = Ridge(alpha=1)\n",
    "modelC = Lasso(alpha=1)\n",
    "modelD = ElasticNet(alpha=1)"
   ]
  },
  {
   "cell_type": "code",
   "execution_count": 14,
   "metadata": {},
   "outputs": [
    {
     "data": {
      "text/plain": [
       "ElasticNet(alpha=1, copy_X=True, fit_intercept=True, l1_ratio=0.5,\n",
       "           max_iter=1000, normalize=False, positive=False, precompute=False,\n",
       "           random_state=None, selection='cyclic', tol=0.0001, warm_start=False)"
      ]
     },
     "execution_count": 14,
     "metadata": {},
     "output_type": "execute_result"
    }
   ],
   "source": [
    "# train model\n",
    "modelA.fit(df[['x']], df['y'])\n",
    "modelB.fit(df[['x']], df['y'])\n",
    "modelC.fit(df[['x']], df['y'])\n",
    "modelD.fit(df[['x']], df['y'])"
   ]
  },
  {
   "cell_type": "code",
   "execution_count": 16,
   "metadata": {},
   "outputs": [
    {
     "data": {
      "text/html": [
       "<div>\n",
       "<style scoped>\n",
       "    .dataframe tbody tr th:only-of-type {\n",
       "        vertical-align: middle;\n",
       "    }\n",
       "\n",
       "    .dataframe tbody tr th {\n",
       "        vertical-align: top;\n",
       "    }\n",
       "\n",
       "    .dataframe thead th {\n",
       "        text-align: right;\n",
       "    }\n",
       "</style>\n",
       "<table border=\"1\" class=\"dataframe\">\n",
       "  <thead>\n",
       "    <tr style=\"text-align: right;\">\n",
       "      <th></th>\n",
       "      <th>x</th>\n",
       "      <th>y</th>\n",
       "      <th>y\"A</th>\n",
       "      <th>y\"B</th>\n",
       "      <th>y\"C</th>\n",
       "      <th>y\"D</th>\n",
       "    </tr>\n",
       "  </thead>\n",
       "  <tbody>\n",
       "    <tr>\n",
       "      <th>0</th>\n",
       "      <td>0.000000</td>\n",
       "      <td>0.000000</td>\n",
       "      <td>0.469728</td>\n",
       "      <td>0.469233</td>\n",
       "      <td>-2.698459e-17</td>\n",
       "      <td>0.225689</td>\n",
       "    </tr>\n",
       "    <tr>\n",
       "      <th>1</th>\n",
       "      <td>0.174533</td>\n",
       "      <td>0.173648</td>\n",
       "      <td>0.456496</td>\n",
       "      <td>0.456015</td>\n",
       "      <td>-2.698459e-17</td>\n",
       "      <td>0.219332</td>\n",
       "    </tr>\n",
       "    <tr>\n",
       "      <th>2</th>\n",
       "      <td>0.349066</td>\n",
       "      <td>0.342020</td>\n",
       "      <td>0.443265</td>\n",
       "      <td>0.442797</td>\n",
       "      <td>-2.698459e-17</td>\n",
       "      <td>0.212974</td>\n",
       "    </tr>\n",
       "    <tr>\n",
       "      <th>3</th>\n",
       "      <td>0.523599</td>\n",
       "      <td>0.500000</td>\n",
       "      <td>0.430033</td>\n",
       "      <td>0.429579</td>\n",
       "      <td>-2.698459e-17</td>\n",
       "      <td>0.206617</td>\n",
       "    </tr>\n",
       "    <tr>\n",
       "      <th>4</th>\n",
       "      <td>0.698132</td>\n",
       "      <td>0.642788</td>\n",
       "      <td>0.416801</td>\n",
       "      <td>0.416362</td>\n",
       "      <td>-2.698459e-17</td>\n",
       "      <td>0.200259</td>\n",
       "    </tr>\n",
       "  </tbody>\n",
       "</table>\n",
       "</div>"
      ],
      "text/plain": [
       "          x         y       y\"A       y\"B           y\"C       y\"D\n",
       "0  0.000000  0.000000  0.469728  0.469233 -2.698459e-17  0.225689\n",
       "1  0.174533  0.173648  0.456496  0.456015 -2.698459e-17  0.219332\n",
       "2  0.349066  0.342020  0.443265  0.442797 -2.698459e-17  0.212974\n",
       "3  0.523599  0.500000  0.430033  0.429579 -2.698459e-17  0.206617\n",
       "4  0.698132  0.642788  0.416801  0.416362 -2.698459e-17  0.200259"
      ]
     },
     "execution_count": 16,
     "metadata": {},
     "output_type": "execute_result"
    }
   ],
   "source": [
    "# prediksi data df['x']\n",
    "df['y\"A'] = modelA.predict(df[['x']])\n",
    "df['y\"B'] = modelB.predict(df[['x']])\n",
    "df['y\"C'] = modelC.predict(df[['x']])\n",
    "df['y\"D'] = modelD.predict(df[['x']])\n",
    "df.head()"
   ]
  },
  {
   "cell_type": "code",
   "execution_count": 18,
   "metadata": {},
   "outputs": [
    {
     "data": {
      "text/plain": [
       "<matplotlib.legend.Legend at 0x1e5f6832d30>"
      ]
     },
     "execution_count": 18,
     "metadata": {},
     "output_type": "execute_result"
    },
    {
     "data": {
      "image/png": "[encoded data removed]",
      "text/plain": [
       "<Figure size 432x288 with 1 Axes>"
      ]
     },
     "metadata": {
      "needs_background": "light"
     },
     "output_type": "display_data"
    }
   ],
   "source": [
    "# plot best fit line masing2 model\n",
    "plt.plot(df['x'], df['y'], 'k.')\n",
    "plt.plot(df['x'], df['y\"A'], 'r-')\n",
    "plt.plot(df['x'], df['y\"B'], 'y-')\n",
    "plt.plot(df['x'], df['y\"C'], 'b-')\n",
    "plt.plot(df['x'], df['y\"D'], 'm-')\n",
    "plt.legend(['Data', 'Linear', 'Ridge', 'Lasso', 'ElasticNet'])"
   ]
  },
  {
   "cell_type": "markdown",
   "metadata": {},
   "source": [
    "Hasil prediksi: \n",
    "\n",
    "- __High BIAS__ (tidak mampu mendeteksi hubungan x & y sebenarnya)\n",
    "\n",
    "- __High VARIANCE__ (selisih data point dg best fit line amat jauh)\n",
    "\n",
    "Sehingga dapat disimpulkan ke-4 metode regresi di atas tidak cocok."
   ]
  },
  {
   "cell_type": "markdown",
   "metadata": {},
   "source": [
    "<hr>\n",
    "\n",
    "# Polinomial Regression\n",
    "\n",
    "- Polinomial regression $ \\displaystyle y = m_1 x + m_2 x^2 + m_n x^n ... + c $\n",
    "\n",
    "- Pada dasarnya adalah multivariate linear regressi dengan menggunakan nilai polinomial x sebagai predictornya {$ x, x^2, x^3, x^4 .... x^n $}"
   ]
  },
  {
   "cell_type": "markdown",
   "metadata": {},
   "source": [
    "<hr>\n",
    "\n",
    "### 1. Poli Regression: Multivariate Linear Regression Sklearn"
   ]
  },
  {
   "cell_type": "code",
   "execution_count": 22,
   "metadata": {},
   "outputs": [
    {
     "data": {
      "text/html": [
       "<div>\n",
       "<style scoped>\n",
       "    .dataframe tbody tr th:only-of-type {\n",
       "        vertical-align: middle;\n",
       "    }\n",
       "\n",
       "    .dataframe tbody tr th {\n",
       "        vertical-align: top;\n",
       "    }\n",
       "\n",
       "    .dataframe thead th {\n",
       "        text-align: right;\n",
       "    }\n",
       "</style>\n",
       "<table border=\"1\" class=\"dataframe\">\n",
       "  <thead>\n",
       "    <tr style=\"text-align: right;\">\n",
       "      <th></th>\n",
       "      <th>x</th>\n",
       "      <th>y</th>\n",
       "    </tr>\n",
       "  </thead>\n",
       "  <tbody>\n",
       "    <tr>\n",
       "      <th>0</th>\n",
       "      <td>0.000000</td>\n",
       "      <td>0.000000</td>\n",
       "    </tr>\n",
       "    <tr>\n",
       "      <th>1</th>\n",
       "      <td>0.174533</td>\n",
       "      <td>0.173648</td>\n",
       "    </tr>\n",
       "    <tr>\n",
       "      <th>2</th>\n",
       "      <td>0.349066</td>\n",
       "      <td>0.342020</td>\n",
       "    </tr>\n",
       "    <tr>\n",
       "      <th>3</th>\n",
       "      <td>0.523599</td>\n",
       "      <td>0.500000</td>\n",
       "    </tr>\n",
       "    <tr>\n",
       "      <th>4</th>\n",
       "      <td>0.698132</td>\n",
       "      <td>0.642788</td>\n",
       "    </tr>\n",
       "  </tbody>\n",
       "</table>\n",
       "</div>"
      ],
      "text/plain": [
       "          x         y\n",
       "0  0.000000  0.000000\n",
       "1  0.174533  0.173648\n",
       "2  0.349066  0.342020\n",
       "3  0.523599  0.500000\n",
       "4  0.698132  0.642788"
      ]
     },
     "execution_count": 22,
     "metadata": {},
     "output_type": "execute_result"
    }
   ],
   "source": [
    "# data dummy: sine curve (between 60° and 300°, with step 10°)\n",
    "x = np.array([i*np.pi/180 for i in range(0, 720, 10)])\n",
    "# y = np.sin(x) + np.random.normal(0,0.15,len(x))\n",
    "y = np.sin(x)\n",
    "\n",
    "df = pd.DataFrame({'x': x, 'y': y})\n",
    "df.head()"
   ]
  },
  {
   "cell_type": "code",
   "execution_count": 23,
   "metadata": {},
   "outputs": [
    {
     "data": {
      "text/html": [
       "<div>\n",
       "<style scoped>\n",
       "    .dataframe tbody tr th:only-of-type {\n",
       "        vertical-align: middle;\n",
       "    }\n",
       "\n",
       "    .dataframe tbody tr th {\n",
       "        vertical-align: top;\n",
       "    }\n",
       "\n",
       "    .dataframe thead th {\n",
       "        text-align: right;\n",
       "    }\n",
       "</style>\n",
       "<table border=\"1\" class=\"dataframe\">\n",
       "  <thead>\n",
       "    <tr style=\"text-align: right;\">\n",
       "      <th></th>\n",
       "      <th>x</th>\n",
       "      <th>y</th>\n",
       "      <th>x2</th>\n",
       "      <th>x3</th>\n",
       "      <th>x4</th>\n",
       "      <th>x5</th>\n",
       "      <th>x6</th>\n",
       "      <th>x7</th>\n",
       "      <th>x8</th>\n",
       "      <th>x9</th>\n",
       "      <th>x10</th>\n",
       "    </tr>\n",
       "  </thead>\n",
       "  <tbody>\n",
       "    <tr>\n",
       "      <th>0</th>\n",
       "      <td>0.000000</td>\n",
       "      <td>0.000000</td>\n",
       "      <td>0.000000</td>\n",
       "      <td>0.000000</td>\n",
       "      <td>0.000000</td>\n",
       "      <td>0.000000</td>\n",
       "      <td>0.000000</td>\n",
       "      <td>0.000000</td>\n",
       "      <td>0.000000e+00</td>\n",
       "      <td>0.000000e+00</td>\n",
       "      <td>0.000000e+00</td>\n",
       "    </tr>\n",
       "    <tr>\n",
       "      <th>1</th>\n",
       "      <td>0.174533</td>\n",
       "      <td>0.173648</td>\n",
       "      <td>0.030462</td>\n",
       "      <td>0.005317</td>\n",
       "      <td>0.000928</td>\n",
       "      <td>0.000162</td>\n",
       "      <td>0.000028</td>\n",
       "      <td>0.000005</td>\n",
       "      <td>8.610313e-07</td>\n",
       "      <td>1.502783e-07</td>\n",
       "      <td>2.622851e-08</td>\n",
       "    </tr>\n",
       "    <tr>\n",
       "      <th>2</th>\n",
       "      <td>0.349066</td>\n",
       "      <td>0.342020</td>\n",
       "      <td>0.121847</td>\n",
       "      <td>0.042533</td>\n",
       "      <td>0.014847</td>\n",
       "      <td>0.005182</td>\n",
       "      <td>0.001809</td>\n",
       "      <td>0.000631</td>\n",
       "      <td>2.204240e-04</td>\n",
       "      <td>7.694250e-05</td>\n",
       "      <td>2.685800e-05</td>\n",
       "    </tr>\n",
       "    <tr>\n",
       "      <th>3</th>\n",
       "      <td>0.523599</td>\n",
       "      <td>0.500000</td>\n",
       "      <td>0.274156</td>\n",
       "      <td>0.143548</td>\n",
       "      <td>0.075161</td>\n",
       "      <td>0.039354</td>\n",
       "      <td>0.020606</td>\n",
       "      <td>0.010789</td>\n",
       "      <td>5.649226e-03</td>\n",
       "      <td>2.957928e-03</td>\n",
       "      <td>1.548767e-03</td>\n",
       "    </tr>\n",
       "    <tr>\n",
       "      <th>4</th>\n",
       "      <td>0.698132</td>\n",
       "      <td>0.642788</td>\n",
       "      <td>0.487388</td>\n",
       "      <td>0.340261</td>\n",
       "      <td>0.237547</td>\n",
       "      <td>0.165839</td>\n",
       "      <td>0.115777</td>\n",
       "      <td>0.080828</td>\n",
       "      <td>5.642855e-02</td>\n",
       "      <td>3.939456e-02</td>\n",
       "      <td>2.750259e-02</td>\n",
       "    </tr>\n",
       "  </tbody>\n",
       "</table>\n",
       "</div>"
      ],
      "text/plain": [
       "          x         y        x2        x3        x4        x5        x6  \\\n",
       "0  0.000000  0.000000  0.000000  0.000000  0.000000  0.000000  0.000000   \n",
       "1  0.174533  0.173648  0.030462  0.005317  0.000928  0.000162  0.000028   \n",
       "2  0.349066  0.342020  0.121847  0.042533  0.014847  0.005182  0.001809   \n",
       "3  0.523599  0.500000  0.274156  0.143548  0.075161  0.039354  0.020606   \n",
       "4  0.698132  0.642788  0.487388  0.340261  0.237547  0.165839  0.115777   \n",
       "\n",
       "         x7            x8            x9           x10  \n",
       "0  0.000000  0.000000e+00  0.000000e+00  0.000000e+00  \n",
       "1  0.000005  8.610313e-07  1.502783e-07  2.622851e-08  \n",
       "2  0.000631  2.204240e-04  7.694250e-05  2.685800e-05  \n",
       "3  0.010789  5.649226e-03  2.957928e-03  1.548767e-03  \n",
       "4  0.080828  5.642855e-02  3.939456e-02  2.750259e-02  "
      ]
     },
     "execution_count": 23,
     "metadata": {},
     "output_type": "execute_result"
    }
   ],
   "source": [
    "# membuat x^2, x^3, .... x^n degree hingga best fit line optimal\n",
    "for i in range (2, 11):\n",
    "    df[f'x{i}'] = df['x'] ** i\n",
    "    \n",
    "df.head()"
   ]
  },
  {
   "cell_type": "code",
   "execution_count": 33,
   "metadata": {},
   "outputs": [
    {
     "data": {
      "text/plain": [
       "LinearRegression(copy_X=True, fit_intercept=True, n_jobs=None, normalize=False)"
      ]
     },
     "execution_count": 33,
     "metadata": {},
     "output_type": "execute_result"
    }
   ],
   "source": [
    "# training model dg data x, x^2, x^3 ... x^10 sebagai predictor\n",
    "# dicoba sampai degree 10\n",
    "\n",
    "model = LinearRegression()\n",
    "\n",
    "# model.fit(\n",
    "#     df[['x', 'x1', 'x2', 'x3', 'x4', 'x5', 'x6', 'x7', 'x8', 'x9', 'x10']],\n",
    "#     df['y']\n",
    "# )\n",
    "# atau\n",
    "\n",
    "xn = ['x']\n",
    "xn.extend(['x%d'%i for i in range(2, 11)])\n",
    "# xn\n",
    "model.fit(df[xn], df['y'])"
   ]
  },
  {
   "cell_type": "code",
   "execution_count": 34,
   "metadata": {},
   "outputs": [
    {
     "data": {
      "text/html": [
       "<div>\n",
       "<style scoped>\n",
       "    .dataframe tbody tr th:only-of-type {\n",
       "        vertical-align: middle;\n",
       "    }\n",
       "\n",
       "    .dataframe tbody tr th {\n",
       "        vertical-align: top;\n",
       "    }\n",
       "\n",
       "    .dataframe thead th {\n",
       "        text-align: right;\n",
       "    }\n",
       "</style>\n",
       "<table border=\"1\" class=\"dataframe\">\n",
       "  <thead>\n",
       "    <tr style=\"text-align: right;\">\n",
       "      <th></th>\n",
       "      <th>x</th>\n",
       "      <th>y</th>\n",
       "      <th>x2</th>\n",
       "      <th>x3</th>\n",
       "      <th>x4</th>\n",
       "      <th>x5</th>\n",
       "      <th>x6</th>\n",
       "      <th>x7</th>\n",
       "      <th>x8</th>\n",
       "      <th>x9</th>\n",
       "      <th>x10</th>\n",
       "      <th>y\"</th>\n",
       "    </tr>\n",
       "  </thead>\n",
       "  <tbody>\n",
       "    <tr>\n",
       "      <th>0</th>\n",
       "      <td>0.000000</td>\n",
       "      <td>0.000000</td>\n",
       "      <td>0.000000</td>\n",
       "      <td>0.000000</td>\n",
       "      <td>0.000000</td>\n",
       "      <td>0.000000</td>\n",
       "      <td>0.000000</td>\n",
       "      <td>0.000000</td>\n",
       "      <td>0.000000e+00</td>\n",
       "      <td>0.000000e+00</td>\n",
       "      <td>0.000000e+00</td>\n",
       "      <td>-0.006865</td>\n",
       "    </tr>\n",
       "    <tr>\n",
       "      <th>1</th>\n",
       "      <td>0.174533</td>\n",
       "      <td>0.173648</td>\n",
       "      <td>0.030462</td>\n",
       "      <td>0.005317</td>\n",
       "      <td>0.000928</td>\n",
       "      <td>0.000162</td>\n",
       "      <td>0.000028</td>\n",
       "      <td>0.000005</td>\n",
       "      <td>8.610313e-07</td>\n",
       "      <td>1.502783e-07</td>\n",
       "      <td>2.622851e-08</td>\n",
       "      <td>0.179245</td>\n",
       "    </tr>\n",
       "    <tr>\n",
       "      <th>2</th>\n",
       "      <td>0.349066</td>\n",
       "      <td>0.342020</td>\n",
       "      <td>0.121847</td>\n",
       "      <td>0.042533</td>\n",
       "      <td>0.014847</td>\n",
       "      <td>0.005182</td>\n",
       "      <td>0.001809</td>\n",
       "      <td>0.000631</td>\n",
       "      <td>2.204240e-04</td>\n",
       "      <td>7.694250e-05</td>\n",
       "      <td>2.685800e-05</td>\n",
       "      <td>0.348880</td>\n",
       "    </tr>\n",
       "    <tr>\n",
       "      <th>3</th>\n",
       "      <td>0.523599</td>\n",
       "      <td>0.500000</td>\n",
       "      <td>0.274156</td>\n",
       "      <td>0.143548</td>\n",
       "      <td>0.075161</td>\n",
       "      <td>0.039354</td>\n",
       "      <td>0.020606</td>\n",
       "      <td>0.010789</td>\n",
       "      <td>5.649226e-03</td>\n",
       "      <td>2.957928e-03</td>\n",
       "      <td>1.548767e-03</td>\n",
       "      <td>0.503433</td>\n",
       "    </tr>\n",
       "    <tr>\n",
       "      <th>4</th>\n",
       "      <td>0.698132</td>\n",
       "      <td>0.642788</td>\n",
       "      <td>0.487388</td>\n",
       "      <td>0.340261</td>\n",
       "      <td>0.237547</td>\n",
       "      <td>0.165839</td>\n",
       "      <td>0.115777</td>\n",
       "      <td>0.080828</td>\n",
       "      <td>5.642855e-02</td>\n",
       "      <td>3.939456e-02</td>\n",
       "      <td>2.750259e-02</td>\n",
       "      <td>0.641930</td>\n",
       "    </tr>\n",
       "  </tbody>\n",
       "</table>\n",
       "</div>"
      ],
      "text/plain": [
       "          x         y        x2        x3        x4        x5        x6  \\\n",
       "0  0.000000  0.000000  0.000000  0.000000  0.000000  0.000000  0.000000   \n",
       "1  0.174533  0.173648  0.030462  0.005317  0.000928  0.000162  0.000028   \n",
       "2  0.349066  0.342020  0.121847  0.042533  0.014847  0.005182  0.001809   \n",
       "3  0.523599  0.500000  0.274156  0.143548  0.075161  0.039354  0.020606   \n",
       "4  0.698132  0.642788  0.487388  0.340261  0.237547  0.165839  0.115777   \n",
       "\n",
       "         x7            x8            x9           x10        y\"  \n",
       "0  0.000000  0.000000e+00  0.000000e+00  0.000000e+00 -0.006865  \n",
       "1  0.000005  8.610313e-07  1.502783e-07  2.622851e-08  0.179245  \n",
       "2  0.000631  2.204240e-04  7.694250e-05  2.685800e-05  0.348880  \n",
       "3  0.010789  5.649226e-03  2.957928e-03  1.548767e-03  0.503433  \n",
       "4  0.080828  5.642855e-02  3.939456e-02  2.750259e-02  0.641930  "
      ]
     },
     "execution_count": 34,
     "metadata": {},
     "output_type": "execute_result"
    }
   ],
   "source": [
    "# prediksi\n",
    "df['y\"'] = model.predict(df[xn])\n",
    "df.head()"
   ]
  },
  {
   "cell_type": "code",
   "execution_count": 35,
   "metadata": {},
   "outputs": [
    {
     "data": {
      "text/plain": [
       "[<matplotlib.lines.Line2D at 0x1e5f69f0c88>]"
      ]
     },
     "execution_count": 35,
     "metadata": {},
     "output_type": "execute_result"
    },
    {
     "data": {
      "image/png": "[encoded data removed]",
      "text/plain": [
       "<Figure size 432x288 with 1 Axes>"
      ]
     },
     "metadata": {
      "needs_background": "light"
     },
     "output_type": "display_data"
    }
   ],
   "source": [
    "# plot\n",
    "plt.plot(df['x'], df['y'], 'r.')\n",
    "plt.plot(df['x'], df['y\"'], 'y-')"
   ]
  },
  {
   "cell_type": "markdown",
   "metadata": {},
   "source": [
    "__Polinomial Regression Done!__"
   ]
  },
  {
   "cell_type": "markdown",
   "metadata": {},
   "source": [
    "<hr>\n",
    "\n",
    "### 2. Poli Regression: Pipeline, Polinomial & Linear Regr Sklearn"
   ]
  },
  {
   "cell_type": "code",
   "execution_count": 36,
   "metadata": {},
   "outputs": [
    {
     "data": {
      "text/html": [
       "<div>\n",
       "<style scoped>\n",
       "    .dataframe tbody tr th:only-of-type {\n",
       "        vertical-align: middle;\n",
       "    }\n",
       "\n",
       "    .dataframe tbody tr th {\n",
       "        vertical-align: top;\n",
       "    }\n",
       "\n",
       "    .dataframe thead th {\n",
       "        text-align: right;\n",
       "    }\n",
       "</style>\n",
       "<table border=\"1\" class=\"dataframe\">\n",
       "  <thead>\n",
       "    <tr style=\"text-align: right;\">\n",
       "      <th></th>\n",
       "      <th>x</th>\n",
       "      <th>y</th>\n",
       "    </tr>\n",
       "  </thead>\n",
       "  <tbody>\n",
       "    <tr>\n",
       "      <th>0</th>\n",
       "      <td>0.000000</td>\n",
       "      <td>0.000000</td>\n",
       "    </tr>\n",
       "    <tr>\n",
       "      <th>1</th>\n",
       "      <td>0.174533</td>\n",
       "      <td>0.173648</td>\n",
       "    </tr>\n",
       "    <tr>\n",
       "      <th>2</th>\n",
       "      <td>0.349066</td>\n",
       "      <td>0.342020</td>\n",
       "    </tr>\n",
       "    <tr>\n",
       "      <th>3</th>\n",
       "      <td>0.523599</td>\n",
       "      <td>0.500000</td>\n",
       "    </tr>\n",
       "    <tr>\n",
       "      <th>4</th>\n",
       "      <td>0.698132</td>\n",
       "      <td>0.642788</td>\n",
       "    </tr>\n",
       "  </tbody>\n",
       "</table>\n",
       "</div>"
      ],
      "text/plain": [
       "          x         y\n",
       "0  0.000000  0.000000\n",
       "1  0.174533  0.173648\n",
       "2  0.349066  0.342020\n",
       "3  0.523599  0.500000\n",
       "4  0.698132  0.642788"
      ]
     },
     "execution_count": 36,
     "metadata": {},
     "output_type": "execute_result"
    }
   ],
   "source": [
    "# data dummy: sine curve (between 60° and 300°, with step 10°)\n",
    "x = np.array([i*np.pi/180 for i in range(0, 720, 10)])\n",
    "# y = np.sin(x) + np.random.normal(0,0.15,len(x))\n",
    "y = np.sin(x)\n",
    "\n",
    "df = pd.DataFrame({'x': x, 'y': y})\n",
    "df.head()"
   ]
  },
  {
   "cell_type": "markdown",
   "metadata": {},
   "source": [
    "### Polynomial Features"
   ]
  },
  {
   "cell_type": "code",
   "execution_count": 47,
   "metadata": {},
   "outputs": [],
   "source": [
    "# polinomial features\n",
    "from sklearn.preprocessing import PolynomialFeatures\n",
    "a = np.array([2,4,6])\n",
    "\n",
    "# polinomial 3 degree, without 0 degree (3, include_bias=False)\n",
    "poly = PolynomialFeatures(3, include_bias=False)"
   ]
  },
  {
   "cell_type": "code",
   "execution_count": 48,
   "metadata": {},
   "outputs": [
    {
     "data": {
      "text/plain": [
       "array([[  2.,   4.,   8.],\n",
       "       [  4.,  16.,  64.],\n",
       "       [  6.,  36., 216.]])"
      ]
     },
     "execution_count": 48,
     "metadata": {},
     "output_type": "execute_result"
    }
   ],
   "source": [
    "poly.fit(a.reshape(-1, 1))\n",
    "poly.transform(a.reshape(-1, 1))"
   ]
  },
  {
   "cell_type": "code",
   "execution_count": 49,
   "metadata": {},
   "outputs": [
    {
     "data": {
      "text/plain": [
       "array([[  2.,   4.,   8.],\n",
       "       [  4.,  16.,  64.],\n",
       "       [  6.,  36., 216.]])"
      ]
     },
     "execution_count": 49,
     "metadata": {},
     "output_type": "execute_result"
    }
   ],
   "source": [
    "poly.fit_transform(a.reshape(-1, 1))"
   ]
  },
  {
   "cell_type": "markdown",
   "metadata": {},
   "source": [
    "### Pipeline"
   ]
  },
  {
   "cell_type": "code",
   "execution_count": 54,
   "metadata": {},
   "outputs": [
    {
     "data": {
      "text/plain": [
       "array([[0.],\n",
       "       [0.],\n",
       "       [0.],\n",
       "       [0.],\n",
       "       [0.],\n",
       "       [0.],\n",
       "       [0.],\n",
       "       [0.],\n",
       "       [1.],\n",
       "       [1.]])"
      ]
     },
     "execution_count": 54,
     "metadata": {},
     "output_type": "execute_result"
    }
   ],
   "source": [
    "# data B akan distandardisasi dg standardscaler() lalu binarizer()\n",
    "from sklearn.preprocessing import StandardScaler, Binarizer\n",
    "\n",
    "b = np.arange(1, 11)\n",
    "\n",
    "b = StandardScaler().fit_transform(b.reshape(-1, 1))\n",
    "# b\n",
    "b = Binarizer(threshold=1.0).fit_transform(b.reshape(-1, 1))\n",
    "b"
   ]
  },
  {
   "cell_type": "code",
   "execution_count": 56,
   "metadata": {},
   "outputs": [
    {
     "data": {
      "text/plain": [
       "array([[0.],\n",
       "       [0.],\n",
       "       [0.],\n",
       "       [0.],\n",
       "       [0.],\n",
       "       [0.],\n",
       "       [0.],\n",
       "       [0.],\n",
       "       [1.],\n",
       "       [1.]])"
      ]
     },
     "execution_count": 56,
     "metadata": {},
     "output_type": "execute_result"
    }
   ],
   "source": [
    "# data C akan di-standardscaler() lalu binarizer() DENGAN PIPELINE\n",
    "from sklearn.pipeline import make_pipeline\n",
    "\n",
    "c = np.arange(1, 11)\n",
    "\n",
    "pipe = make_pipeline(StandardScaler(), Binarizer(threshold=1.0))\n",
    "pipe.fit_transform(c.reshape(-1, 1))"
   ]
  },
  {
   "cell_type": "markdown",
   "metadata": {},
   "source": [
    "<hr>\n",
    "\n",
    "### Back to main problem: Polynomial Regression"
   ]
  },
  {
   "cell_type": "code",
   "execution_count": 58,
   "metadata": {},
   "outputs": [
    {
     "data": {
      "text/html": [
       "<div>\n",
       "<style scoped>\n",
       "    .dataframe tbody tr th:only-of-type {\n",
       "        vertical-align: middle;\n",
       "    }\n",
       "\n",
       "    .dataframe tbody tr th {\n",
       "        vertical-align: top;\n",
       "    }\n",
       "\n",
       "    .dataframe thead th {\n",
       "        text-align: right;\n",
       "    }\n",
       "</style>\n",
       "<table border=\"1\" class=\"dataframe\">\n",
       "  <thead>\n",
       "    <tr style=\"text-align: right;\">\n",
       "      <th></th>\n",
       "      <th>x</th>\n",
       "      <th>y</th>\n",
       "      <th>y\"</th>\n",
       "    </tr>\n",
       "  </thead>\n",
       "  <tbody>\n",
       "    <tr>\n",
       "      <th>0</th>\n",
       "      <td>0.000000</td>\n",
       "      <td>0.000000</td>\n",
       "      <td>-0.006864</td>\n",
       "    </tr>\n",
       "    <tr>\n",
       "      <th>1</th>\n",
       "      <td>0.174533</td>\n",
       "      <td>0.173648</td>\n",
       "      <td>0.179246</td>\n",
       "    </tr>\n",
       "    <tr>\n",
       "      <th>2</th>\n",
       "      <td>0.349066</td>\n",
       "      <td>0.342020</td>\n",
       "      <td>0.348880</td>\n",
       "    </tr>\n",
       "    <tr>\n",
       "      <th>3</th>\n",
       "      <td>0.523599</td>\n",
       "      <td>0.500000</td>\n",
       "      <td>0.503433</td>\n",
       "    </tr>\n",
       "    <tr>\n",
       "      <th>4</th>\n",
       "      <td>0.698132</td>\n",
       "      <td>0.642788</td>\n",
       "      <td>0.641930</td>\n",
       "    </tr>\n",
       "  </tbody>\n",
       "</table>\n",
       "</div>"
      ],
      "text/plain": [
       "          x         y        y\"\n",
       "0  0.000000  0.000000 -0.006864\n",
       "1  0.174533  0.173648  0.179246\n",
       "2  0.349066  0.342020  0.348880\n",
       "3  0.523599  0.500000  0.503433\n",
       "4  0.698132  0.642788  0.641930"
      ]
     },
     "execution_count": 58,
     "metadata": {},
     "output_type": "execute_result"
    }
   ],
   "source": [
    "# membuat pipeline model: polynomial lalu regresi linear\n",
    "polyReg = make_pipeline(\n",
    "    PolynomialFeatures(10, include_bias=False),\n",
    "    LinearRegression()\n",
    ")\n",
    "\n",
    "# train model\n",
    "polyReg.fit(df[['x']], df['y'])\n",
    "\n",
    "# predict y\"\n",
    "df['y\"'] = polyReg.predict(df[['x']])\n",
    "df.head()"
   ]
  },
  {
   "cell_type": "code",
   "execution_count": 59,
   "metadata": {},
   "outputs": [
    {
     "data": {
      "text/plain": [
       "[<matplotlib.lines.Line2D at 0x1e5f79a9828>]"
      ]
     },
     "execution_count": 59,
     "metadata": {},
     "output_type": "execute_result"
    },
    {
     "data": {
      "image/png": "[encoded data removed]",
      "text/plain": [
       "<Figure size 432x288 with 1 Axes>"
      ]
     },
     "metadata": {
      "needs_background": "light"
     },
     "output_type": "display_data"
    }
   ],
   "source": [
    "# plot\n",
    "plt.plot(df['x'], df['y'], 'r.')\n",
    "plt.plot(df['x'], df['y\"'], 'y-')"
   ]
  }
 ],
 "metadata": {
  "kernelspec": {
   "display_name": "Python 3",
   "language": "python",
   "name": "python3"
  },
  "language_info": {
   "codemirror_mode": {
    "name": "ipython",
    "version": 3
   },
   "file_extension": ".py",
   "mimetype": "text/x-python",
   "name": "python",
   "nbconvert_exporter": "python",
   "pygments_lexer": "ipython3",
   "version": "3.7.3"
  }
 },
 "nbformat": 4,
 "nbformat_minor": 4
}
