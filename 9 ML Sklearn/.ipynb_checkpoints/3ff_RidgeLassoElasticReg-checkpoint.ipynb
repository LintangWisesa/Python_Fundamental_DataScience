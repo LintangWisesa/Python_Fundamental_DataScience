{
 "cells": [
  {
   "cell_type": "markdown",
   "metadata": {},
   "source": [
    "# Ridge Regression"
   ]
  },
  {
   "cell_type": "code",
   "execution_count": 166,
   "metadata": {},
   "outputs": [],
   "source": [
    "import pandas as pd\n",
    "import numpy as np\n",
    "import matplotlib.pyplot as plt\n",
    "from sklearn.linear_model import LinearRegression"
   ]
  },
  {
   "cell_type": "code",
   "execution_count": 167,
   "metadata": {},
   "outputs": [
    {
     "data": {
      "text/html": [
       "<div>\n",
       "<style scoped>\n",
       "    .dataframe tbody tr th:only-of-type {\n",
       "        vertical-align: middle;\n",
       "    }\n",
       "\n",
       "    .dataframe tbody tr th {\n",
       "        vertical-align: top;\n",
       "    }\n",
       "\n",
       "    .dataframe thead th {\n",
       "        text-align: right;\n",
       "    }\n",
       "</style>\n",
       "<table border=\"1\" class=\"dataframe\">\n",
       "  <thead>\n",
       "    <tr style=\"text-align: right;\">\n",
       "      <th></th>\n",
       "      <th>x</th>\n",
       "      <th>y</th>\n",
       "    </tr>\n",
       "  </thead>\n",
       "  <tbody>\n",
       "    <tr>\n",
       "      <th>0</th>\n",
       "      <td>0</td>\n",
       "      <td>-0.968547</td>\n",
       "    </tr>\n",
       "    <tr>\n",
       "      <th>1</th>\n",
       "      <td>1</td>\n",
       "      <td>1.706791</td>\n",
       "    </tr>\n",
       "    <tr>\n",
       "      <th>2</th>\n",
       "      <td>2</td>\n",
       "      <td>0.585305</td>\n",
       "    </tr>\n",
       "    <tr>\n",
       "      <th>3</th>\n",
       "      <td>3</td>\n",
       "      <td>3.931035</td>\n",
       "    </tr>\n",
       "    <tr>\n",
       "      <th>4</th>\n",
       "      <td>4</td>\n",
       "      <td>4.718419</td>\n",
       "    </tr>\n",
       "  </tbody>\n",
       "</table>\n",
       "</div>"
      ],
      "text/plain": [
       "   x         y\n",
       "0  0 -0.968547\n",
       "1  1  1.706791\n",
       "2  2  0.585305\n",
       "3  3  3.931035\n",
       "4  4  4.718419"
      ]
     },
     "execution_count": 167,
     "metadata": {},
     "output_type": "execute_result"
    }
   ],
   "source": [
    "data = {\n",
    "    'x': np.arange(10),\n",
    "    'y': np.arange(10) + np.random.randn(10)\n",
    "#     'y': np.arange(10)\n",
    "}\n",
    "df = pd.DataFrame(data)\n",
    "df.head()"
   ]
  },
  {
   "cell_type": "markdown",
   "metadata": {},
   "source": [
    "<hr>\n",
    "\n",
    "### Linear Regression tanpa splitting dataset"
   ]
  },
  {
   "cell_type": "code",
   "execution_count": 168,
   "metadata": {},
   "outputs": [
    {
     "data": {
      "text/html": [
       "<div>\n",
       "<style scoped>\n",
       "    .dataframe tbody tr th:only-of-type {\n",
       "        vertical-align: middle;\n",
       "    }\n",
       "\n",
       "    .dataframe tbody tr th {\n",
       "        vertical-align: top;\n",
       "    }\n",
       "\n",
       "    .dataframe thead th {\n",
       "        text-align: right;\n",
       "    }\n",
       "</style>\n",
       "<table border=\"1\" class=\"dataframe\">\n",
       "  <thead>\n",
       "    <tr style=\"text-align: right;\">\n",
       "      <th></th>\n",
       "      <th>x</th>\n",
       "      <th>y</th>\n",
       "      <th>y\"</th>\n",
       "    </tr>\n",
       "  </thead>\n",
       "  <tbody>\n",
       "    <tr>\n",
       "      <th>0</th>\n",
       "      <td>0</td>\n",
       "      <td>-0.968547</td>\n",
       "      <td>0.026238</td>\n",
       "    </tr>\n",
       "    <tr>\n",
       "      <th>1</th>\n",
       "      <td>1</td>\n",
       "      <td>1.706791</td>\n",
       "      <td>0.969559</td>\n",
       "    </tr>\n",
       "    <tr>\n",
       "      <th>2</th>\n",
       "      <td>2</td>\n",
       "      <td>0.585305</td>\n",
       "      <td>1.912881</td>\n",
       "    </tr>\n",
       "    <tr>\n",
       "      <th>3</th>\n",
       "      <td>3</td>\n",
       "      <td>3.931035</td>\n",
       "      <td>2.856203</td>\n",
       "    </tr>\n",
       "    <tr>\n",
       "      <th>4</th>\n",
       "      <td>4</td>\n",
       "      <td>4.718419</td>\n",
       "      <td>3.799525</td>\n",
       "    </tr>\n",
       "  </tbody>\n",
       "</table>\n",
       "</div>"
      ],
      "text/plain": [
       "   x         y        y\"\n",
       "0  0 -0.968547  0.026238\n",
       "1  1  1.706791  0.969559\n",
       "2  2  0.585305  1.912881\n",
       "3  3  3.931035  2.856203\n",
       "4  4  4.718419  3.799525"
      ]
     },
     "execution_count": 168,
     "metadata": {},
     "output_type": "execute_result"
    }
   ],
   "source": [
    "model = LinearRegression()\n",
    "model.fit(df[['x']], df['y'])\n",
    "\n",
    "df['y\"'] = model.predict(df[['x']])\n",
    "df.head()"
   ]
  },
  {
   "cell_type": "code",
   "execution_count": 169,
   "metadata": {},
   "outputs": [
    {
     "data": {
      "text/plain": [
       "[<matplotlib.lines.Line2D at 0x2a4e6411160>]"
      ]
     },
     "execution_count": 169,
     "metadata": {},
     "output_type": "execute_result"
    },
    {
     "data": {
      "image/png": "[encoded data removed]",
      "text/plain": [
       "<Figure size 432x288 with 1 Axes>"
      ]
     },
     "metadata": {
      "needs_background": "light"
     },
     "output_type": "display_data"
    }
   ],
   "source": [
    "plt.plot(df['x'], df['y'], 'ro')\n",
    "plt.plot(df['x'], df['y\"'], 'g-')"
   ]
  },
  {
   "cell_type": "code",
   "execution_count": 170,
   "metadata": {},
   "outputs": [
    {
     "name": "stdout",
     "output_type": "stream",
     "text": [
      "MSE: 1.3426598912815935\n",
      "RMSE: 1.1587320187522192\n"
     ]
    }
   ],
   "source": [
    "# RMSE\n",
    "from sklearn.metrics import mean_squared_error\n",
    "print('MSE:', mean_squared_error(df['y'], df['y\"']))\n",
    "print('RMSE:', np.sqrt(mean_squared_error(df['y'], df['y\"'])))"
   ]
  },
  {
   "cell_type": "markdown",
   "metadata": {},
   "source": [
    "<hr>\n",
    "\n",
    "### Linear Regression: split data, namun hanya 2 data pertama sbg training"
   ]
  },
  {
   "cell_type": "code",
   "execution_count": 171,
   "metadata": {},
   "outputs": [
    {
     "data": {
      "text/html": [
       "<div>\n",
       "<style scoped>\n",
       "    .dataframe tbody tr th:only-of-type {\n",
       "        vertical-align: middle;\n",
       "    }\n",
       "\n",
       "    .dataframe tbody tr th {\n",
       "        vertical-align: top;\n",
       "    }\n",
       "\n",
       "    .dataframe thead th {\n",
       "        text-align: right;\n",
       "    }\n",
       "</style>\n",
       "<table border=\"1\" class=\"dataframe\">\n",
       "  <thead>\n",
       "    <tr style=\"text-align: right;\">\n",
       "      <th></th>\n",
       "      <th>x</th>\n",
       "      <th>y</th>\n",
       "      <th>y\"</th>\n",
       "      <th>y\"2</th>\n",
       "    </tr>\n",
       "  </thead>\n",
       "  <tbody>\n",
       "    <tr>\n",
       "      <th>0</th>\n",
       "      <td>0</td>\n",
       "      <td>-0.968547</td>\n",
       "      <td>0.026238</td>\n",
       "      <td>-0.968547</td>\n",
       "    </tr>\n",
       "    <tr>\n",
       "      <th>1</th>\n",
       "      <td>1</td>\n",
       "      <td>1.706791</td>\n",
       "      <td>0.969559</td>\n",
       "      <td>1.706791</td>\n",
       "    </tr>\n",
       "    <tr>\n",
       "      <th>2</th>\n",
       "      <td>2</td>\n",
       "      <td>0.585305</td>\n",
       "      <td>1.912881</td>\n",
       "      <td>4.382129</td>\n",
       "    </tr>\n",
       "    <tr>\n",
       "      <th>3</th>\n",
       "      <td>3</td>\n",
       "      <td>3.931035</td>\n",
       "      <td>2.856203</td>\n",
       "      <td>7.057468</td>\n",
       "    </tr>\n",
       "    <tr>\n",
       "      <th>4</th>\n",
       "      <td>4</td>\n",
       "      <td>4.718419</td>\n",
       "      <td>3.799525</td>\n",
       "      <td>9.732806</td>\n",
       "    </tr>\n",
       "    <tr>\n",
       "      <th>5</th>\n",
       "      <td>5</td>\n",
       "      <td>5.166696</td>\n",
       "      <td>4.742846</td>\n",
       "      <td>12.408144</td>\n",
       "    </tr>\n",
       "    <tr>\n",
       "      <th>6</th>\n",
       "      <td>6</td>\n",
       "      <td>7.080921</td>\n",
       "      <td>5.686168</td>\n",
       "      <td>15.083482</td>\n",
       "    </tr>\n",
       "    <tr>\n",
       "      <th>7</th>\n",
       "      <td>7</td>\n",
       "      <td>4.197313</td>\n",
       "      <td>6.629490</td>\n",
       "      <td>17.758820</td>\n",
       "    </tr>\n",
       "    <tr>\n",
       "      <th>8</th>\n",
       "      <td>8</td>\n",
       "      <td>7.862285</td>\n",
       "      <td>7.572812</td>\n",
       "      <td>20.434158</td>\n",
       "    </tr>\n",
       "    <tr>\n",
       "      <th>9</th>\n",
       "      <td>9</td>\n",
       "      <td>8.431637</td>\n",
       "      <td>8.516133</td>\n",
       "      <td>23.109496</td>\n",
       "    </tr>\n",
       "  </tbody>\n",
       "</table>\n",
       "</div>"
      ],
      "text/plain": [
       "   x         y        y\"        y\"2\n",
       "0  0 -0.968547  0.026238  -0.968547\n",
       "1  1  1.706791  0.969559   1.706791\n",
       "2  2  0.585305  1.912881   4.382129\n",
       "3  3  3.931035  2.856203   7.057468\n",
       "4  4  4.718419  3.799525   9.732806\n",
       "5  5  5.166696  4.742846  12.408144\n",
       "6  6  7.080921  5.686168  15.083482\n",
       "7  7  4.197313  6.629490  17.758820\n",
       "8  8  7.862285  7.572812  20.434158\n",
       "9  9  8.431637  8.516133  23.109496"
      ]
     },
     "execution_count": 171,
     "metadata": {},
     "output_type": "execute_result"
    }
   ],
   "source": [
    "# fit model hanya dari 2 data pertama\n",
    "model.fit(df[['x']].iloc[:2], df['y'].iloc[:2])\n",
    "df['y\"2'] = model.predict(df[['x']])\n",
    "df"
   ]
  },
  {
   "cell_type": "code",
   "execution_count": 172,
   "metadata": {},
   "outputs": [
    {
     "data": {
      "text/plain": [
       "<matplotlib.legend.Legend at 0x2a4e6461f60>"
      ]
     },
     "execution_count": 172,
     "metadata": {},
     "output_type": "execute_result"
    },
    {
     "data": {
      "image/png": "[encoded data removed]",
      "text/plain": [
       "<Figure size 432x288 with 1 Axes>"
      ]
     },
     "metadata": {
      "needs_background": "light"
     },
     "output_type": "display_data"
    }
   ],
   "source": [
    "plt.plot(df['x'], df['y'], 'ro')\n",
    "plt.plot(df['x'], df['y\"'], 'g-')\n",
    "plt.plot(df['x'], df['y\"2'], 'b-')\n",
    "plt.legend(['original data', 'best fit line', 'best fit line 2'])"
   ]
  },
  {
   "cell_type": "markdown",
   "metadata": {},
   "source": [
    "<hr>\n",
    "\n",
    "### Ridge Regression\n",
    "\n",
    "L2 regularization: menambahkan ralat/penalty MSE = MSE $\\displaystyle + \\lambda \\times m^2$\n",
    "\n",
    "Di Sklearn, kekuatan nilai penalty dilambangkan dengan alpha $\\displaystyle \\alpha$\n",
    "\n",
    "Jika nilai penalty = 0, maka hasil akan sama dengan __Linear Regression__ biasa"
   ]
  },
  {
   "cell_type": "code",
   "execution_count": 173,
   "metadata": {},
   "outputs": [],
   "source": [
    "from sklearn.linear_model import Ridge"
   ]
  },
  {
   "cell_type": "code",
   "execution_count": 176,
   "metadata": {},
   "outputs": [
    {
     "data": {
      "text/html": [
       "<div>\n",
       "<style scoped>\n",
       "    .dataframe tbody tr th:only-of-type {\n",
       "        vertical-align: middle;\n",
       "    }\n",
       "\n",
       "    .dataframe tbody tr th {\n",
       "        vertical-align: top;\n",
       "    }\n",
       "\n",
       "    .dataframe thead th {\n",
       "        text-align: right;\n",
       "    }\n",
       "</style>\n",
       "<table border=\"1\" class=\"dataframe\">\n",
       "  <thead>\n",
       "    <tr style=\"text-align: right;\">\n",
       "      <th></th>\n",
       "      <th>x</th>\n",
       "      <th>y</th>\n",
       "      <th>y\"</th>\n",
       "      <th>y\"2</th>\n",
       "      <th>y\"Ridge</th>\n",
       "    </tr>\n",
       "  </thead>\n",
       "  <tbody>\n",
       "    <tr>\n",
       "      <th>0</th>\n",
       "      <td>0</td>\n",
       "      <td>-0.968547</td>\n",
       "      <td>0.026238</td>\n",
       "      <td>-0.968547</td>\n",
       "      <td>-0.145366</td>\n",
       "    </tr>\n",
       "    <tr>\n",
       "      <th>1</th>\n",
       "      <td>1</td>\n",
       "      <td>1.706791</td>\n",
       "      <td>0.969559</td>\n",
       "      <td>1.706791</td>\n",
       "      <td>0.883610</td>\n",
       "    </tr>\n",
       "    <tr>\n",
       "      <th>2</th>\n",
       "      <td>2</td>\n",
       "      <td>0.585305</td>\n",
       "      <td>1.912881</td>\n",
       "      <td>4.382129</td>\n",
       "      <td>1.912587</td>\n",
       "    </tr>\n",
       "    <tr>\n",
       "      <th>3</th>\n",
       "      <td>3</td>\n",
       "      <td>3.931035</td>\n",
       "      <td>2.856203</td>\n",
       "      <td>7.057468</td>\n",
       "      <td>2.941563</td>\n",
       "    </tr>\n",
       "    <tr>\n",
       "      <th>4</th>\n",
       "      <td>4</td>\n",
       "      <td>4.718419</td>\n",
       "      <td>3.799525</td>\n",
       "      <td>9.732806</td>\n",
       "      <td>3.970539</td>\n",
       "    </tr>\n",
       "    <tr>\n",
       "      <th>5</th>\n",
       "      <td>5</td>\n",
       "      <td>5.166696</td>\n",
       "      <td>4.742846</td>\n",
       "      <td>12.408144</td>\n",
       "      <td>4.999515</td>\n",
       "    </tr>\n",
       "    <tr>\n",
       "      <th>6</th>\n",
       "      <td>6</td>\n",
       "      <td>7.080921</td>\n",
       "      <td>5.686168</td>\n",
       "      <td>15.083482</td>\n",
       "      <td>6.028491</td>\n",
       "    </tr>\n",
       "    <tr>\n",
       "      <th>7</th>\n",
       "      <td>7</td>\n",
       "      <td>4.197313</td>\n",
       "      <td>6.629490</td>\n",
       "      <td>17.758820</td>\n",
       "      <td>7.057468</td>\n",
       "    </tr>\n",
       "    <tr>\n",
       "      <th>8</th>\n",
       "      <td>8</td>\n",
       "      <td>7.862285</td>\n",
       "      <td>7.572812</td>\n",
       "      <td>20.434158</td>\n",
       "      <td>8.086444</td>\n",
       "    </tr>\n",
       "    <tr>\n",
       "      <th>9</th>\n",
       "      <td>9</td>\n",
       "      <td>8.431637</td>\n",
       "      <td>8.516133</td>\n",
       "      <td>23.109496</td>\n",
       "      <td>9.115420</td>\n",
       "    </tr>\n",
       "  </tbody>\n",
       "</table>\n",
       "</div>"
      ],
      "text/plain": [
       "   x         y        y\"        y\"2   y\"Ridge\n",
       "0  0 -0.968547  0.026238  -0.968547 -0.145366\n",
       "1  1  1.706791  0.969559   1.706791  0.883610\n",
       "2  2  0.585305  1.912881   4.382129  1.912587\n",
       "3  3  3.931035  2.856203   7.057468  2.941563\n",
       "4  4  4.718419  3.799525   9.732806  3.970539\n",
       "5  5  5.166696  4.742846  12.408144  4.999515\n",
       "6  6  7.080921  5.686168  15.083482  6.028491\n",
       "7  7  4.197313  6.629490  17.758820  7.057468\n",
       "8  8  7.862285  7.572812  20.434158  8.086444\n",
       "9  9  8.431637  8.516133  23.109496  9.115420"
      ]
     },
     "execution_count": 176,
     "metadata": {},
     "output_type": "execute_result"
    }
   ],
   "source": [
    "# modelR = Ridge(alpha=0) # alpha=0 == linear regression biasa, alpha default = 1\n",
    "modelR = Ridge(alpha=0.8)\n",
    "modelR.fit(df[['x']].iloc[:2], df['y'].iloc[:2])\n",
    "df['y\"Ridge'] = modelR.predict(df[['x']])\n",
    "df"
   ]
  },
  {
   "cell_type": "code",
   "execution_count": 177,
   "metadata": {},
   "outputs": [
    {
     "data": {
      "text/plain": [
       "<matplotlib.legend.Legend at 0x2a4e6542e80>"
      ]
     },
     "execution_count": 177,
     "metadata": {},
     "output_type": "execute_result"
    },
    {
     "data": {
      "image/png": "[encoded data removed]",
      "text/plain": [
       "<Figure size 432x288 with 1 Axes>"
      ]
     },
     "metadata": {
      "needs_background": "light"
     },
     "output_type": "display_data"
    }
   ],
   "source": [
    "plt.plot(df['x'], df['y'], 'ro')\n",
    "plt.plot(df['x'], df['y\"'], 'g-')\n",
    "plt.plot(df['x'], df['y\"2'], 'b-')\n",
    "plt.plot(df['x'], df['y\"Ridge'], 'y-')\n",
    "plt.legend(['original data', 'best fit line', 'best fit line 2', 'best fit ridge'])"
   ]
  },
  {
   "cell_type": "markdown",
   "metadata": {},
   "source": [
    "<hr>\n",
    "\n",
    "### Lasso Regression\n",
    "\n",
    "L1 regularization: menambahkan ralat/penalty MSE = MSE $\\displaystyle + \\lambda \\times |m|$\n",
    "\n",
    "Di Sklearn, kekuatan nilai penalty dilambangkan dengan alpha $\\displaystyle \\alpha$\n",
    "\n",
    "Jika nilai penalty = 0, maka hasil akan sama dengan __Linear Regression__ biasa"
   ]
  },
  {
   "cell_type": "code",
   "execution_count": 198,
   "metadata": {},
   "outputs": [
    {
     "data": {
      "text/html": [
       "<div>\n",
       "<style scoped>\n",
       "    .dataframe tbody tr th:only-of-type {\n",
       "        vertical-align: middle;\n",
       "    }\n",
       "\n",
       "    .dataframe tbody tr th {\n",
       "        vertical-align: top;\n",
       "    }\n",
       "\n",
       "    .dataframe thead th {\n",
       "        text-align: right;\n",
       "    }\n",
       "</style>\n",
       "<table border=\"1\" class=\"dataframe\">\n",
       "  <thead>\n",
       "    <tr style=\"text-align: right;\">\n",
       "      <th></th>\n",
       "      <th>x</th>\n",
       "      <th>y</th>\n",
       "      <th>y\"</th>\n",
       "      <th>y\"2</th>\n",
       "      <th>y\"Ridge</th>\n",
       "      <th>y\"Lasso</th>\n",
       "    </tr>\n",
       "  </thead>\n",
       "  <tbody>\n",
       "    <tr>\n",
       "      <th>0</th>\n",
       "      <td>0</td>\n",
       "      <td>-0.968547</td>\n",
       "      <td>0.026238</td>\n",
       "      <td>-0.968547</td>\n",
       "      <td>-0.145366</td>\n",
       "      <td>-0.168547</td>\n",
       "    </tr>\n",
       "    <tr>\n",
       "      <th>1</th>\n",
       "      <td>1</td>\n",
       "      <td>1.706791</td>\n",
       "      <td>0.969559</td>\n",
       "      <td>1.706791</td>\n",
       "      <td>0.883610</td>\n",
       "      <td>0.906791</td>\n",
       "    </tr>\n",
       "    <tr>\n",
       "      <th>2</th>\n",
       "      <td>2</td>\n",
       "      <td>0.585305</td>\n",
       "      <td>1.912881</td>\n",
       "      <td>4.382129</td>\n",
       "      <td>1.912587</td>\n",
       "      <td>1.982129</td>\n",
       "    </tr>\n",
       "    <tr>\n",
       "      <th>3</th>\n",
       "      <td>3</td>\n",
       "      <td>3.931035</td>\n",
       "      <td>2.856203</td>\n",
       "      <td>7.057468</td>\n",
       "      <td>2.941563</td>\n",
       "      <td>3.057468</td>\n",
       "    </tr>\n",
       "    <tr>\n",
       "      <th>4</th>\n",
       "      <td>4</td>\n",
       "      <td>4.718419</td>\n",
       "      <td>3.799525</td>\n",
       "      <td>9.732806</td>\n",
       "      <td>3.970539</td>\n",
       "      <td>4.132806</td>\n",
       "    </tr>\n",
       "    <tr>\n",
       "      <th>5</th>\n",
       "      <td>5</td>\n",
       "      <td>5.166696</td>\n",
       "      <td>4.742846</td>\n",
       "      <td>12.408144</td>\n",
       "      <td>4.999515</td>\n",
       "      <td>5.208144</td>\n",
       "    </tr>\n",
       "    <tr>\n",
       "      <th>6</th>\n",
       "      <td>6</td>\n",
       "      <td>7.080921</td>\n",
       "      <td>5.686168</td>\n",
       "      <td>15.083482</td>\n",
       "      <td>6.028491</td>\n",
       "      <td>6.283482</td>\n",
       "    </tr>\n",
       "    <tr>\n",
       "      <th>7</th>\n",
       "      <td>7</td>\n",
       "      <td>4.197313</td>\n",
       "      <td>6.629490</td>\n",
       "      <td>17.758820</td>\n",
       "      <td>7.057468</td>\n",
       "      <td>7.358820</td>\n",
       "    </tr>\n",
       "    <tr>\n",
       "      <th>8</th>\n",
       "      <td>8</td>\n",
       "      <td>7.862285</td>\n",
       "      <td>7.572812</td>\n",
       "      <td>20.434158</td>\n",
       "      <td>8.086444</td>\n",
       "      <td>8.434158</td>\n",
       "    </tr>\n",
       "    <tr>\n",
       "      <th>9</th>\n",
       "      <td>9</td>\n",
       "      <td>8.431637</td>\n",
       "      <td>8.516133</td>\n",
       "      <td>23.109496</td>\n",
       "      <td>9.115420</td>\n",
       "      <td>9.509496</td>\n",
       "    </tr>\n",
       "  </tbody>\n",
       "</table>\n",
       "</div>"
      ],
      "text/plain": [
       "   x         y        y\"        y\"2   y\"Ridge   y\"Lasso\n",
       "0  0 -0.968547  0.026238  -0.968547 -0.145366 -0.168547\n",
       "1  1  1.706791  0.969559   1.706791  0.883610  0.906791\n",
       "2  2  0.585305  1.912881   4.382129  1.912587  1.982129\n",
       "3  3  3.931035  2.856203   7.057468  2.941563  3.057468\n",
       "4  4  4.718419  3.799525   9.732806  3.970539  4.132806\n",
       "5  5  5.166696  4.742846  12.408144  4.999515  5.208144\n",
       "6  6  7.080921  5.686168  15.083482  6.028491  6.283482\n",
       "7  7  4.197313  6.629490  17.758820  7.057468  7.358820\n",
       "8  8  7.862285  7.572812  20.434158  8.086444  8.434158\n",
       "9  9  8.431637  8.516133  23.109496  9.115420  9.509496"
      ]
     },
     "execution_count": 198,
     "metadata": {},
     "output_type": "execute_result"
    }
   ],
   "source": [
    "from sklearn.linear_model import Lasso\n",
    "\n",
    "modelL = Lasso(alpha=0.4)\n",
    "modelL.fit(df[['x']].iloc[:2], df['y'].iloc[:2])\n",
    "df['y\"Lasso'] = modelL.predict(df[['x']])\n",
    "df"
   ]
  },
  {
   "cell_type": "code",
   "execution_count": 199,
   "metadata": {},
   "outputs": [
    {
     "data": {
      "text/plain": [
       "<matplotlib.legend.Legend at 0x2a4e7a2fa90>"
      ]
     },
     "execution_count": 199,
     "metadata": {},
     "output_type": "execute_result"
    },
    {
     "data": {
      "image/png": "[encoded data removed]",
      "text/plain": [
       "<Figure size 432x288 with 1 Axes>"
      ]
     },
     "metadata": {
      "needs_background": "light"
     },
     "output_type": "display_data"
    }
   ],
   "source": [
    "plt.plot(df['x'], df['y'], 'ro')\n",
    "plt.plot(df['x'], df['y\"'], 'g-')\n",
    "plt.plot(df['x'], df['y\"2'], 'b-')\n",
    "plt.plot(df['x'], df['y\"Ridge'], 'y-')\n",
    "plt.plot(df['x'], df['y\"Lasso'], 'm-')\n",
    "plt.legend(['original data', 'best fit line', 'best fit line 2', 'best Ridge', 'best Lasso'])"
   ]
  },
  {
   "cell_type": "markdown",
   "metadata": {},
   "source": [
    "<hr>\n",
    "\n",
    "### Elastic-Net Regression\n",
    "\n",
    "L1+L2 regularization: menambahkan ralat/penalty MSE = MSE $\\displaystyle + \\lambda_{ridge} \\times m^2 + \\lambda_{lasso} \\times |m|$\n",
    "\n",
    "Di Sklearn, kekuatan nilai penalty dilambangkan dengan alpha $\\displaystyle \\alpha$\n",
    "\n",
    "Jika nilai penalty = 0, maka hasil akan sama dengan __Linear Regression__ biasa"
   ]
  },
  {
   "cell_type": "code",
   "execution_count": 201,
   "metadata": {},
   "outputs": [
    {
     "data": {
      "text/html": [
       "<div>\n",
       "<style scoped>\n",
       "    .dataframe tbody tr th:only-of-type {\n",
       "        vertical-align: middle;\n",
       "    }\n",
       "\n",
       "    .dataframe tbody tr th {\n",
       "        vertical-align: top;\n",
       "    }\n",
       "\n",
       "    .dataframe thead th {\n",
       "        text-align: right;\n",
       "    }\n",
       "</style>\n",
       "<table border=\"1\" class=\"dataframe\">\n",
       "  <thead>\n",
       "    <tr style=\"text-align: right;\">\n",
       "      <th></th>\n",
       "      <th>x</th>\n",
       "      <th>y</th>\n",
       "      <th>y\"</th>\n",
       "      <th>y\"2</th>\n",
       "      <th>y\"Ridge</th>\n",
       "      <th>y\"Lasso</th>\n",
       "      <th>y\"Elastic</th>\n",
       "    </tr>\n",
       "  </thead>\n",
       "  <tbody>\n",
       "    <tr>\n",
       "      <th>0</th>\n",
       "      <td>0</td>\n",
       "      <td>-0.968547</td>\n",
       "      <td>0.026238</td>\n",
       "      <td>-0.968547</td>\n",
       "      <td>-0.145366</td>\n",
       "      <td>-0.168547</td>\n",
       "      <td>-0.151805</td>\n",
       "    </tr>\n",
       "    <tr>\n",
       "      <th>1</th>\n",
       "      <td>1</td>\n",
       "      <td>1.706791</td>\n",
       "      <td>0.969559</td>\n",
       "      <td>1.706791</td>\n",
       "      <td>0.883610</td>\n",
       "      <td>0.906791</td>\n",
       "      <td>0.890050</td>\n",
       "    </tr>\n",
       "    <tr>\n",
       "      <th>2</th>\n",
       "      <td>2</td>\n",
       "      <td>0.585305</td>\n",
       "      <td>1.912881</td>\n",
       "      <td>4.382129</td>\n",
       "      <td>1.912587</td>\n",
       "      <td>1.982129</td>\n",
       "      <td>1.931904</td>\n",
       "    </tr>\n",
       "    <tr>\n",
       "      <th>3</th>\n",
       "      <td>3</td>\n",
       "      <td>3.931035</td>\n",
       "      <td>2.856203</td>\n",
       "      <td>7.057468</td>\n",
       "      <td>2.941563</td>\n",
       "      <td>3.057468</td>\n",
       "      <td>2.973759</td>\n",
       "    </tr>\n",
       "    <tr>\n",
       "      <th>4</th>\n",
       "      <td>4</td>\n",
       "      <td>4.718419</td>\n",
       "      <td>3.799525</td>\n",
       "      <td>9.732806</td>\n",
       "      <td>3.970539</td>\n",
       "      <td>4.132806</td>\n",
       "      <td>4.015613</td>\n",
       "    </tr>\n",
       "    <tr>\n",
       "      <th>5</th>\n",
       "      <td>5</td>\n",
       "      <td>5.166696</td>\n",
       "      <td>4.742846</td>\n",
       "      <td>12.408144</td>\n",
       "      <td>4.999515</td>\n",
       "      <td>5.208144</td>\n",
       "      <td>5.057468</td>\n",
       "    </tr>\n",
       "    <tr>\n",
       "      <th>6</th>\n",
       "      <td>6</td>\n",
       "      <td>7.080921</td>\n",
       "      <td>5.686168</td>\n",
       "      <td>15.083482</td>\n",
       "      <td>6.028491</td>\n",
       "      <td>6.283482</td>\n",
       "      <td>6.099322</td>\n",
       "    </tr>\n",
       "    <tr>\n",
       "      <th>7</th>\n",
       "      <td>7</td>\n",
       "      <td>4.197313</td>\n",
       "      <td>6.629490</td>\n",
       "      <td>17.758820</td>\n",
       "      <td>7.057468</td>\n",
       "      <td>7.358820</td>\n",
       "      <td>7.141177</td>\n",
       "    </tr>\n",
       "    <tr>\n",
       "      <th>8</th>\n",
       "      <td>8</td>\n",
       "      <td>7.862285</td>\n",
       "      <td>7.572812</td>\n",
       "      <td>20.434158</td>\n",
       "      <td>8.086444</td>\n",
       "      <td>8.434158</td>\n",
       "      <td>8.183031</td>\n",
       "    </tr>\n",
       "    <tr>\n",
       "      <th>9</th>\n",
       "      <td>9</td>\n",
       "      <td>8.431637</td>\n",
       "      <td>8.516133</td>\n",
       "      <td>23.109496</td>\n",
       "      <td>9.115420</td>\n",
       "      <td>9.509496</td>\n",
       "      <td>9.224886</td>\n",
       "    </tr>\n",
       "  </tbody>\n",
       "</table>\n",
       "</div>"
      ],
      "text/plain": [
       "   x         y        y\"        y\"2   y\"Ridge   y\"Lasso  y\"Elastic\n",
       "0  0 -0.968547  0.026238  -0.968547 -0.145366 -0.168547  -0.151805\n",
       "1  1  1.706791  0.969559   1.706791  0.883610  0.906791   0.890050\n",
       "2  2  0.585305  1.912881   4.382129  1.912587  1.982129   1.931904\n",
       "3  3  3.931035  2.856203   7.057468  2.941563  3.057468   2.973759\n",
       "4  4  4.718419  3.799525   9.732806  3.970539  4.132806   4.015613\n",
       "5  5  5.166696  4.742846  12.408144  4.999515  5.208144   5.057468\n",
       "6  6  7.080921  5.686168  15.083482  6.028491  6.283482   6.099322\n",
       "7  7  4.197313  6.629490  17.758820  7.057468  7.358820   7.141177\n",
       "8  8  7.862285  7.572812  20.434158  8.086444  8.434158   8.183031\n",
       "9  9  8.431637  8.516133  23.109496  9.115420  9.509496   9.224886"
      ]
     },
     "execution_count": 201,
     "metadata": {},
     "output_type": "execute_result"
    }
   ],
   "source": [
    "from sklearn.linear_model import ElasticNet\n",
    "\n",
    "modelE = ElasticNet(alpha=0.4)\n",
    "modelE.fit(df[['x']].iloc[:2], df['y'].iloc[:2])\n",
    "df['y\"Elastic'] = modelE.predict(df[['x']])\n",
    "df"
   ]
  },
  {
   "cell_type": "code",
   "execution_count": 203,
   "metadata": {},
   "outputs": [
    {
     "data": {
      "text/plain": [
       "<matplotlib.legend.Legend at 0x2a4e8b92e80>"
      ]
     },
     "execution_count": 203,
     "metadata": {},
     "output_type": "execute_result"
    },
    {
     "data": {
      "image/png": "[encoded data removed]",
      "text/plain": [
       "<Figure size 432x288 with 1 Axes>"
      ]
     },
     "metadata": {
      "needs_background": "light"
     },
     "output_type": "display_data"
    }
   ],
   "source": [
    "plt.plot(df['x'], df['y'], 'ro')\n",
    "plt.plot(df['x'], df['y\"'], 'g-')\n",
    "plt.plot(df['x'], df['y\"2'], 'b-')\n",
    "plt.plot(df['x'], df['y\"Ridge'], 'y-')\n",
    "plt.plot(df['x'], df['y\"Lasso'], 'm-')\n",
    "plt.plot(df['x'], df['y\"Elastic'], 'k-')\n",
    "plt.legend(['original data', 'best fit line', 'best fit line 2', 'best Ridge', 'best Lasso', 'best ElasticNet'])"
   ]
  }
 ],
 "metadata": {
  "kernelspec": {
   "display_name": "Python 3",
   "language": "python",
   "name": "python3"
  },
  "language_info": {
   "codemirror_mode": {
    "name": "ipython",
    "version": 3
   },
   "file_extension": ".py",
   "mimetype": "text/x-python",
   "name": "python",
   "nbconvert_exporter": "python",
   "pygments_lexer": "ipython3",
   "version": "3.7.3"
  }
 },
 "nbformat": 4,
 "nbformat_minor": 4
}
