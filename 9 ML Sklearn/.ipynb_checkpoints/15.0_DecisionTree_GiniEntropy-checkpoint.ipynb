{
 "cells": [
  {
   "cell_type": "code",
   "execution_count": 1,
   "metadata": {},
   "outputs": [],
   "source": [
    "import numpy as np\n",
    "import pandas as pd\n",
    "import matplotlib.pyplot as plt"
   ]
  },
  {
   "cell_type": "code",
   "execution_count": 2,
   "metadata": {},
   "outputs": [
    {
     "data": {
      "text/html": [
       "<div>\n",
       "<style scoped>\n",
       "    .dataframe tbody tr th:only-of-type {\n",
       "        vertical-align: middle;\n",
       "    }\n",
       "\n",
       "    .dataframe tbody tr th {\n",
       "        vertical-align: top;\n",
       "    }\n",
       "\n",
       "    .dataframe thead th {\n",
       "        text-align: right;\n",
       "    }\n",
       "</style>\n",
       "<table border=\"1\" class=\"dataframe\">\n",
       "  <thead>\n",
       "    <tr style=\"text-align: right;\">\n",
       "      <th></th>\n",
       "      <th>sarjana</th>\n",
       "      <th>diterima</th>\n",
       "    </tr>\n",
       "  </thead>\n",
       "  <tbody>\n",
       "    <tr>\n",
       "      <th>0</th>\n",
       "      <td>0</td>\n",
       "      <td>0</td>\n",
       "    </tr>\n",
       "    <tr>\n",
       "      <th>1</th>\n",
       "      <td>0</td>\n",
       "      <td>0</td>\n",
       "    </tr>\n",
       "    <tr>\n",
       "      <th>2</th>\n",
       "      <td>0</td>\n",
       "      <td>1</td>\n",
       "    </tr>\n",
       "    <tr>\n",
       "      <th>3</th>\n",
       "      <td>1</td>\n",
       "      <td>0</td>\n",
       "    </tr>\n",
       "    <tr>\n",
       "      <th>4</th>\n",
       "      <td>1</td>\n",
       "      <td>1</td>\n",
       "    </tr>\n",
       "    <tr>\n",
       "      <th>5</th>\n",
       "      <td>1</td>\n",
       "      <td>1</td>\n",
       "    </tr>\n",
       "  </tbody>\n",
       "</table>\n",
       "</div>"
      ],
      "text/plain": [
       "   sarjana  diterima\n",
       "0        0         0\n",
       "1        0         0\n",
       "2        0         1\n",
       "3        1         0\n",
       "4        1         1\n",
       "5        1         1"
      ]
     },
     "execution_count": 2,
     "metadata": {},
     "output_type": "execute_result"
    }
   ],
   "source": [
    "df = pd.DataFrame({\n",
    "    'sarjana': [0, 0, 0, 1, 1, 1],\n",
    "    'diterima': [0, 0, 1, 0, 1, 1]\n",
    "})\n",
    "# 1 root & 2 leaf = stump\n",
    "# root node / starting question\n",
    "# leaves / conclusion\n",
    "# internal node / question branch\n",
    "df"
   ]
  },
  {
   "cell_type": "raw",
   "metadata": {},
   "source": [
    "    Sarjana ?\n",
    "        |\n",
    "true ___|___ false\n",
    "     |      |\n",
    "    dtrm    dtrm\n",
    "    2+ 1-   1+ 2-"
   ]
  },
  {
   "cell_type": "markdown",
   "metadata": {},
   "source": [
    "### Gini Impurity\n",
    "\n",
    "- Hitung Gini untuk tiap leaf dalam feature: __gini S1True__ & __gini S1False__\n",
    "- Gini $\\displaystyle = 1 - $ (probability TRUE) $^2 - $ (probability FALSE) $^2$\n",
    "- Hitung Gini total untuk 1 feature: __gini S1__"
   ]
  },
  {
   "cell_type": "raw",
   "metadata": {},
   "source": [
    "    Sarjana ?\n",
    "        |\n",
    "true ___|___ false\n",
    "     |      |\n",
    "    dtrm    dtrm\n",
    "    2+ 1-   1+ 2-\n",
    "  g:0.4444  g:0.4444\n",
    "    \n",
    "- giniS1True = 1 - (2/3)^2 - (1/3)^2 = 0.44444\n",
    "- giniS1False = 1 - (1/3)^2 - (2/3)^2 = 0.44444\n",
    "# - giniSarjana = sum (totalDataLEAFx / totalData) * giniLEAFx\n",
    "- giniSarajana = (3/6)*0.44444 + (3/6)*0.44444"
   ]
  },
  {
   "cell_type": "code",
   "execution_count": 4,
   "metadata": {},
   "outputs": [
    {
     "data": {
      "text/plain": [
       "(0.4444444444444445, 0.4444444444444445, 0.4444444444444445)"
      ]
     },
     "execution_count": 4,
     "metadata": {},
     "output_type": "execute_result"
    }
   ],
   "source": [
    "giniS1True = 1 - (2/3)**2 - (1/3)**2\n",
    "giniS1False = 1 - (2/3)**2 - (1/3)**2\n",
    "giniS1 = (3/6)*giniS1True + (3/6)*giniS1False\n",
    "giniS1True, giniS1False, giniS1"
   ]
  },
  {
   "cell_type": "code",
   "execution_count": 5,
   "metadata": {},
   "outputs": [
    {
     "data": {
      "text/plain": [
       "0"
      ]
     },
     "execution_count": 5,
     "metadata": {},
     "output_type": "execute_result"
    }
   ],
   "source": [
    "from sklearn import tree\n",
    "model = tree.DecisionTreeClassifier()\n",
    "model.fit(df[['sarjana']], df['diterima'])\n",
    "model.predict([[0]])[0]"
   ]
  },
  {
   "cell_type": "code",
   "execution_count": 6,
   "metadata": {},
   "outputs": [
    {
     "data": {
      "text/plain": [
       "[Text(167.4, 163.07999999999998, 'X[0] <= 0.5\\ngini = 0.5\\nsamples = 6\\nvalue = [3, 3]'),\n",
       " Text(83.7, 54.360000000000014, 'gini = 0.444\\nsamples = 3\\nvalue = [2, 1]'),\n",
       " Text(251.10000000000002, 54.360000000000014, 'gini = 0.444\\nsamples = 3\\nvalue = [1, 2]')]"
      ]
     },
     "execution_count": 6,
     "metadata": {},
     "output_type": "execute_result"
    },
    {
     "data": {
      "image/png": "[encoded data removed]",
      "text/plain": [
       "<Figure size 432x288 with 1 Axes>"
      ]
     },
     "metadata": {
      "needs_background": "light"
     },
     "output_type": "display_data"
    }
   ],
   "source": [
    "tree.plot_tree(model.fit(df[['sarjana']], df['diterima']))"
   ]
  },
  {
   "cell_type": "code",
   "execution_count": null,
   "metadata": {},
   "outputs": [],
   "source": [
    "tree.export_graphviz(\n",
    "    model.fit(df[['sarjana']], df['diterima']),\n",
    "    out_file = 'decision.dot',\n",
    "    feature_names = ['Sarjana'],\n",
    "    class_names = ['Diterima', 'Tidak diterima']\n",
    ")\n",
    "\n",
    "### [https://dreampuf.github.io/GraphvizOnline](https://dreampuf.github.io/GraphvizOnline)"
   ]
  },
  {
   "cell_type": "markdown",
   "metadata": {},
   "source": [
    "### Entropy & Gain\n",
    "\n",
    "- Hitung Entropy untuk tiap leaf di feature: E(s1True) & E(s1False)\n",
    "- Entropy $\\displaystyle = \\sum -p_i \\cdot log_2 (p_i)$\n",
    "- Gain = E - E.feature"
   ]
  },
  {
   "cell_type": "raw",
   "metadata": {},
   "source": [
    "    Sarjana ?\n",
    "        |\n",
    "true ___|___ false\n",
    "     |      |\n",
    "    dtrm    dtrm\n",
    "    2+ 1-   1+ 2-\n",
    "  e:0.918    e:0.918"
   ]
  },
  {
   "cell_type": "code",
   "execution_count": 7,
   "metadata": {},
   "outputs": [
    {
     "data": {
      "text/plain": [
       "(0.38997500048077083, 0.5283208335737187, 0.9182958340544896)"
      ]
     },
     "execution_count": 7,
     "metadata": {},
     "output_type": "execute_result"
    }
   ],
   "source": [
    "Es1TruedTrue = -1 * (2/3) * np.log2(2/3)\n",
    "Es1TruedFalse = -1 * (1/3) * np.log2(1/3)\n",
    "Es1True = Es1TruedTrue + Es1TruedFalse\n",
    "Es1TruedTrue, Es1TruedFalse, Es1True"
   ]
  },
  {
   "cell_type": "code",
   "execution_count": 8,
   "metadata": {},
   "outputs": [
    {
     "data": {
      "text/plain": [
       "(0.5283208335737187, 0.38997500048077083, 0.9182958340544896)"
      ]
     },
     "execution_count": 8,
     "metadata": {},
     "output_type": "execute_result"
    }
   ],
   "source": [
    "Es1FalsedTrue = -1 * (1/3) * np.log2(1/3)\n",
    "Es1FalsedFalse = -1 * (2/3) * np.log2(2/3)\n",
    "Es1False = Es1FalsedTrue + Es1FalsedFalse\n",
    "Es1FalsedTrue, Es1FalsedFalse, Es1False"
   ]
  },
  {
   "cell_type": "code",
   "execution_count": 9,
   "metadata": {},
   "outputs": [
    {
     "data": {
      "text/plain": [
       "1.0"
      ]
     },
     "execution_count": 9,
     "metadata": {},
     "output_type": "execute_result"
    }
   ],
   "source": [
    "Esarjana = -1 * (3/6) * np.log2(3/6) + -1 * (3/6) * np.log2(3/6)\n",
    "Esarjana"
   ]
  },
  {
   "cell_type": "code",
   "execution_count": 10,
   "metadata": {},
   "outputs": [
    {
     "data": {
      "text/plain": [
       "0.08170416594551044"
      ]
     },
     "execution_count": 10,
     "metadata": {},
     "output_type": "execute_result"
    }
   ],
   "source": [
    "# information Gain s1true = E sarjana - E s1 true\n",
    "gains1true = Esarjana - Es1True\n",
    "gains1true"
   ]
  },
  {
   "cell_type": "code",
   "execution_count": 11,
   "metadata": {},
   "outputs": [
    {
     "data": {
      "text/plain": [
       "0"
      ]
     },
     "execution_count": 11,
     "metadata": {},
     "output_type": "execute_result"
    }
   ],
   "source": [
    "from sklearn import tree\n",
    "model = tree.DecisionTreeClassifier(criterion='entropy')\n",
    "model.fit(df[['sarjana']], df['diterima'])\n",
    "model.predict([[0]])[0]"
   ]
  },
  {
   "cell_type": "code",
   "execution_count": 12,
   "metadata": {},
   "outputs": [
    {
     "data": {
      "text/plain": [
       "[Text(167.4, 163.07999999999998, 'X[0] <= 0.5\\nentropy = 1.0\\nsamples = 6\\nvalue = [3, 3]'),\n",
       " Text(83.7, 54.360000000000014, 'entropy = 0.918\\nsamples = 3\\nvalue = [2, 1]'),\n",
       " Text(251.10000000000002, 54.360000000000014, 'entropy = 0.918\\nsamples = 3\\nvalue = [1, 2]')]"
      ]
     },
     "execution_count": 12,
     "metadata": {},
     "output_type": "execute_result"
    },
    {
     "data": {
      "image/png": "[encoded data removed]",
      "text/plain": [
       "<Figure size 432x288 with 1 Axes>"
      ]
     },
     "metadata": {
      "needs_background": "light"
     },
     "output_type": "display_data"
    }
   ],
   "source": [
    "tree.plot_tree(model.fit(df[['sarjana']], df['diterima']))"
   ]
  },
  {
   "cell_type": "code",
   "execution_count": 13,
   "metadata": {},
   "outputs": [
    {
     "data": {
      "text/html": [
       "<div>\n",
       "<style scoped>\n",
       "    .dataframe tbody tr th:only-of-type {\n",
       "        vertical-align: middle;\n",
       "    }\n",
       "\n",
       "    .dataframe tbody tr th {\n",
       "        vertical-align: top;\n",
       "    }\n",
       "\n",
       "    .dataframe thead th {\n",
       "        text-align: right;\n",
       "    }\n",
       "</style>\n",
       "<table border=\"1\" class=\"dataframe\">\n",
       "  <thead>\n",
       "    <tr style=\"text-align: right;\">\n",
       "      <th></th>\n",
       "      <th>diterima</th>\n",
       "      <th>sarjana</th>\n",
       "      <th>sehat</th>\n",
       "      <th>supel</th>\n",
       "    </tr>\n",
       "  </thead>\n",
       "  <tbody>\n",
       "    <tr>\n",
       "      <th>0</th>\n",
       "      <td>1</td>\n",
       "      <td>0</td>\n",
       "      <td>1</td>\n",
       "      <td>1</td>\n",
       "    </tr>\n",
       "    <tr>\n",
       "      <th>1</th>\n",
       "      <td>1</td>\n",
       "      <td>1</td>\n",
       "      <td>0</td>\n",
       "      <td>0</td>\n",
       "    </tr>\n",
       "    <tr>\n",
       "      <th>2</th>\n",
       "      <td>0</td>\n",
       "      <td>0</td>\n",
       "      <td>1</td>\n",
       "      <td>1</td>\n",
       "    </tr>\n",
       "    <tr>\n",
       "      <th>3</th>\n",
       "      <td>0</td>\n",
       "      <td>0</td>\n",
       "      <td>0</td>\n",
       "      <td>1</td>\n",
       "    </tr>\n",
       "    <tr>\n",
       "      <th>4</th>\n",
       "      <td>0</td>\n",
       "      <td>1</td>\n",
       "      <td>0</td>\n",
       "      <td>1</td>\n",
       "    </tr>\n",
       "  </tbody>\n",
       "</table>\n",
       "</div>"
      ],
      "text/plain": [
       "   diterima  sarjana  sehat  supel\n",
       "0         1        0      1      1\n",
       "1         1        1      0      0\n",
       "2         0        0      1      1\n",
       "3         0        0      0      1\n",
       "4         0        1      0      1"
      ]
     },
     "execution_count": 13,
     "metadata": {},
     "output_type": "execute_result"
    }
   ],
   "source": [
    "df = pd.DataFrame([\n",
    "    {'sarjana':0, 'sehat':1, 'supel':1, 'diterima':1},\n",
    "    {'sarjana':1, 'sehat':0, 'supel':0, 'diterima':1},\n",
    "    {'sarjana':0, 'sehat':1, 'supel':1, 'diterima':0},\n",
    "    {'sarjana':0, 'sehat':0, 'supel':1, 'diterima':0},\n",
    "    {'sarjana':1, 'sehat':0, 'supel':1, 'diterima':0},\n",
    "])\n",
    "df"
   ]
  },
  {
   "cell_type": "raw",
   "metadata": {},
   "source": [
    "    Sarjana ?\n",
    "        |\n",
    "true ___|___ false\n",
    "     |      |\n",
    "    dtrm    dtrm\n",
    "    2+ 0-   0+ 3-\n",
    "\n",
    "- gini s1True = 1 - (2/2)^2 - (0/2)^2 = 0\n",
    "- gini s1False = 1 - (0/3)^2 - (3/3)^2 = 0\n",
    "- gini Sarjana = (2/5) * 0 + (3/5) * 0 = 0\n",
    "\n",
    "    Sehat ?\n",
    "        |\n",
    "true ___|___ false\n",
    "     |      |\n",
    "    dtrm    dtrm\n",
    "    1+ 1-   1+ 2-\n",
    "\n",
    "- gini sehatTrue = 1 - (1/2)^2 - (1/2)^2 = 0.5\n",
    "- gini sehatFalse = 1 - (1/3)^2 - (2/3)^2 = 0.44444\n",
    "- gini Sehat = (2/5)*0.5 + (3/5)*0.44444 = 0.46"
   ]
  },
  {
   "cell_type": "code",
   "execution_count": 14,
   "metadata": {},
   "outputs": [
    {
     "data": {
      "text/plain": [
       "0"
      ]
     },
     "execution_count": 14,
     "metadata": {},
     "output_type": "execute_result"
    }
   ],
   "source": [
    "from sklearn import tree\n",
    "model = tree.DecisionTreeClassifier(criterion='gini')\n",
    "model.fit(df[['sarjana', 'sehat', 'supel']], df['diterima'])\n",
    "model.predict([[0, 1, 1]])[0]"
   ]
  },
  {
   "cell_type": "code",
   "execution_count": 15,
   "metadata": {},
   "outputs": [
    {
     "data": {
      "text/plain": [
       "[Text(133.92000000000002, 181.2, 'X[2] <= 0.5\\ngini = 0.48\\nsamples = 5\\nvalue = [3, 2]'),\n",
       " Text(66.96000000000001, 108.72, 'gini = 0.0\\nsamples = 1\\nvalue = [0, 1]'),\n",
       " Text(200.88000000000002, 108.72, 'X[1] <= 0.5\\ngini = 0.375\\nsamples = 4\\nvalue = [3, 1]'),\n",
       " Text(133.92000000000002, 36.23999999999998, 'gini = 0.0\\nsamples = 2\\nvalue = [2, 0]'),\n",
       " Text(267.84000000000003, 36.23999999999998, 'gini = 0.5\\nsamples = 2\\nvalue = [1, 1]')]"
      ]
     },
     "execution_count": 15,
     "metadata": {},
     "output_type": "execute_result"
    },
    {
     "data": {
      "image/png": "[encoded data removed]",
      "text/plain": [
       "<Figure size 432x288 with 1 Axes>"
      ]
     },
     "metadata": {
      "needs_background": "light"
     },
     "output_type": "display_data"
    }
   ],
   "source": [
    "tree.plot_tree(\n",
    "    model.fit(df[['sarjana', 'sehat', 'supel']], df['diterima'])\n",
    ")"
   ]
  },
  {
   "cell_type": "code",
   "execution_count": 16,
   "metadata": {},
   "outputs": [],
   "source": [
    "tree.export_graphviz(\n",
    "    model.fit(df[['sarjana', 'sehat', 'supel']], df['diterima']),\n",
    "    out_file = 'decision2.dot',\n",
    "    feature_names = ['Sarjana', 'Sehat', 'Supel'],\n",
    "    class_names = ['Diterima', 'Tidak diterima']\n",
    ")"
   ]
  },
  {
   "cell_type": "code",
   "execution_count": 17,
   "metadata": {},
   "outputs": [],
   "source": [
    "from sklearn.datasets import load_iris\n",
    "x = load_iris()"
   ]
  },
  {
   "cell_type": "code",
   "execution_count": 19,
   "metadata": {},
   "outputs": [
    {
     "data": {
      "text/plain": [
       "DecisionTreeClassifier(ccp_alpha=0.0, class_weight=None, criterion='gini',\n",
       "                       max_depth=None, max_features=None, max_leaf_nodes=None,\n",
       "                       min_impurity_decrease=0.0, min_impurity_split=None,\n",
       "                       min_samples_leaf=1, min_samples_split=2,\n",
       "                       min_weight_fraction_leaf=0.0, presort='deprecated',\n",
       "                       random_state=None, splitter='best')"
      ]
     },
     "execution_count": 19,
     "metadata": {},
     "output_type": "execute_result"
    }
   ],
   "source": [
    "df = pd.DataFrame(x['data'], columns=['sl','sw','pl','pw'])\n",
    "df['target'] = x['target']\n",
    "model = tree.DecisionTreeClassifier()\n",
    "model.fit(df[['sl','sw','pl','pw']], df['target'])\n",
    "\n",
    "# tree.export_graphviz(\n",
    "#     model.fit(df[['sl','sw','pl','pw']], df['target']),\n",
    "#     out_file = 'decisionIris.dot',\n",
    "#     feature_names = ['SL', 'SW', 'PL', 'PW'],\n",
    "#     class_names = x['target_names']\n",
    "# )"
   ]
  }
 ],
 "metadata": {
  "kernelspec": {
   "display_name": "Python 3",
   "language": "python",
   "name": "python3"
  },
  "language_info": {
   "codemirror_mode": {
    "name": "ipython",
    "version": 3
   },
   "file_extension": ".py",
   "mimetype": "text/x-python",
   "name": "python",
   "nbconvert_exporter": "python",
   "pygments_lexer": "ipython3",
   "version": "3.7.3"
  }
 },
 "nbformat": 4,
 "nbformat_minor": 4
}
