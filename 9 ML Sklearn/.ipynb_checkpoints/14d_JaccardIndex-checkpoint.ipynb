{
 "cells": [
  {
   "cell_type": "markdown",
   "metadata": {},
   "source": [
    "# Jaccard Index\n",
    "\n",
    "- The __Jaccard index__, also known as __Intersection over Union__ \n",
    "\n",
    "- The __Jaccard similarity coefficient__ (originally given the French name: *coefficient de communauté* by Paul Jaccard), is a statistic used for gauging the __similarity__ and __diversity__ of sample sets. \n",
    "\n",
    "- The Jaccard coefficient measures similarity between finite sample sets, and is defined as the size of the intersection divided by the size of the union of the sample sets:\n",
    "\n",
    "$$ J(A, B) = \\frac {|A \\cap B|} {|A \\cup B|} = \\frac {|A \\cap B|} {|A| + |B| - |A \\cap B|} $$"
   ]
  },
  {
   "cell_type": "code",
   "execution_count": 3,
   "metadata": {},
   "outputs": [],
   "source": [
    "import numpy as np\n",
    "import pandas as pd"
   ]
  },
  {
   "cell_type": "code",
   "execution_count": 54,
   "metadata": {},
   "outputs": [],
   "source": [
    "# Misalkan terdapat data aktual (y) & data hasil prediksi model (yp)\n",
    "y = np.array([1, 1, 1, 0, 1])\n",
    "yp = np.array([0, 1, 1, 1, 1])"
   ]
  },
  {
   "cell_type": "markdown",
   "metadata": {},
   "source": [
    "<hr>\n",
    "\n",
    "### Jaccard Manual calculation\n",
    "\n",
    "$\\displaystyle J(y, yp) = \\frac {|y \\cap yp|} {|y \\cup yp|} = \\frac {|y \\cap yp|} {|y| + |yp| - |y \\cap yp|} $\n",
    "\n",
    "- $\\displaystyle |y \\cap yp| = $ jumlah y & yp yang sama\n",
    "\n",
    "- $\\displaystyle |y \\cup yp| = $ jumlah total data y atau yp"
   ]
  },
  {
   "cell_type": "code",
   "execution_count": 57,
   "metadata": {},
   "outputs": [
    {
     "data": {
      "text/plain": [
       "0.6"
      ]
     },
     "execution_count": 57,
     "metadata": {},
     "output_type": "execute_result"
    }
   ],
   "source": [
    "j = 3 / 5\n",
    "j"
   ]
  },
  {
   "cell_type": "markdown",
   "metadata": {},
   "source": [
    "<hr>\n",
    "\n",
    "### Jaccard Using Sklearn"
   ]
  },
  {
   "cell_type": "code",
   "execution_count": 58,
   "metadata": {},
   "outputs": [
    {
     "data": {
      "text/plain": [
       "0.6"
      ]
     },
     "execution_count": 58,
     "metadata": {},
     "output_type": "execute_result"
    }
   ],
   "source": [
    "from sklearn.metrics import jaccard_score\n",
    "\n",
    "jaccard_score(y, yp)"
   ]
  },
  {
   "cell_type": "code",
   "execution_count": 62,
   "metadata": {},
   "outputs": [
    {
     "name": "stdout",
     "output_type": "stream",
     "text": [
      "0.6666666666666666\n",
      "[0.5 0.5 1. ]\n"
     ]
    }
   ],
   "source": [
    "y_true = np.array([[0, 1, 1], [1, 1, 0]])\n",
    "y_pred = np.array([[1, 1, 1], [1, 0, 0]])\n",
    "\n",
    "# binary case: hanya ada 2 val target: 0/1, False/True, No,Yes\n",
    "print(jaccard_score(y_true[0], y_pred[0]))\n",
    "\n",
    "# multilabel case: memiliki >1 dimensi\n",
    "print(jaccard_score(y_true, y_pred, average=None))"
   ]
  },
  {
   "cell_type": "code",
   "execution_count": 63,
   "metadata": {},
   "outputs": [
    {
     "data": {
      "text/plain": [
       "array([1.        , 0.        , 0.33333333])"
      ]
     },
     "execution_count": 63,
     "metadata": {},
     "output_type": "execute_result"
    }
   ],
   "source": [
    "# multiclass case: prediksi >2 val target/kategori\n",
    "y_pred = [0, 2, 1, 2]\n",
    "y_true = [0, 1, 2, 2]\n",
    "jaccard_score(y_true, y_pred, average=None)"
   ]
  }
 ],
 "metadata": {
  "kernelspec": {
   "display_name": "Python 3",
   "language": "python",
   "name": "python3"
  },
  "language_info": {
   "codemirror_mode": {
    "name": "ipython",
    "version": 3
   },
   "file_extension": ".py",
   "mimetype": "text/x-python",
   "name": "python",
   "nbconvert_exporter": "python",
   "pygments_lexer": "ipython3",
   "version": "3.7.3"
  }
 },
 "nbformat": 4,
 "nbformat_minor": 4
}
