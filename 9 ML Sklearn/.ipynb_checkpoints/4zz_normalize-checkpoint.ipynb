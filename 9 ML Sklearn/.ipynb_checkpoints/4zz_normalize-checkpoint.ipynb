{
 "cells": [
  {
   "cell_type": "markdown",
   "metadata": {},
   "source": [
    "# Normalize\n",
    "\n",
    "Scale input vectors individually to unit norm. Scaling inputs to unit norms is a common operation for text classification or clustering.\n",
    "\n",
    "https://towardsdatascience.com/preprocessing-with-sklearn-a-complete-and-comprehensive-guide-670cb98fcfb9"
   ]
  },
  {
   "cell_type": "code",
   "execution_count": 1,
   "metadata": {},
   "outputs": [],
   "source": [
    "import pandas as pd\n",
    "import numpy as np\n",
    "import matplotlib.pyplot as plt\n",
    "import seaborn as sb\n",
    "\n",
    "from sklearn import preprocessing\n",
    "from sklearn.preprocessing import Normalizer"
   ]
  },
  {
   "cell_type": "code",
   "execution_count": 2,
   "metadata": {},
   "outputs": [
    {
     "data": {
      "text/html": [
       "<div>\n",
       "<style scoped>\n",
       "    .dataframe tbody tr th:only-of-type {\n",
       "        vertical-align: middle;\n",
       "    }\n",
       "\n",
       "    .dataframe tbody tr th {\n",
       "        vertical-align: top;\n",
       "    }\n",
       "\n",
       "    .dataframe thead th {\n",
       "        text-align: right;\n",
       "    }\n",
       "</style>\n",
       "<table border=\"1\" class=\"dataframe\">\n",
       "  <thead>\n",
       "    <tr style=\"text-align: right;\">\n",
       "      <th></th>\n",
       "      <th>TB</th>\n",
       "    </tr>\n",
       "  </thead>\n",
       "  <tbody>\n",
       "    <tr>\n",
       "      <th>0</th>\n",
       "      <td>169.6</td>\n",
       "    </tr>\n",
       "    <tr>\n",
       "      <th>1</th>\n",
       "      <td>166.8</td>\n",
       "    </tr>\n",
       "    <tr>\n",
       "      <th>2</th>\n",
       "      <td>157.1</td>\n",
       "    </tr>\n",
       "    <tr>\n",
       "      <th>3</th>\n",
       "      <td>181.1</td>\n",
       "    </tr>\n",
       "    <tr>\n",
       "      <th>4</th>\n",
       "      <td>158.4</td>\n",
       "    </tr>\n",
       "    <tr>\n",
       "      <th>5</th>\n",
       "      <td>165.6</td>\n",
       "    </tr>\n",
       "    <tr>\n",
       "      <th>6</th>\n",
       "      <td>166.7</td>\n",
       "    </tr>\n",
       "    <tr>\n",
       "      <th>7</th>\n",
       "      <td>156.5</td>\n",
       "    </tr>\n",
       "    <tr>\n",
       "      <th>8</th>\n",
       "      <td>168.1</td>\n",
       "    </tr>\n",
       "    <tr>\n",
       "      <th>9</th>\n",
       "      <td>165.3</td>\n",
       "    </tr>\n",
       "  </tbody>\n",
       "</table>\n",
       "</div>"
      ],
      "text/plain": [
       "      TB\n",
       "0  169.6\n",
       "1  166.8\n",
       "2  157.1\n",
       "3  181.1\n",
       "4  158.4\n",
       "5  165.6\n",
       "6  166.7\n",
       "7  156.5\n",
       "8  168.1\n",
       "9  165.3"
      ]
     },
     "execution_count": 2,
     "metadata": {},
     "output_type": "execute_result"
    }
   ],
   "source": [
    "data = [169.6,166.8,157.1,181.1,158.4,165.6,166.7,156.5,168.1,165.3]\n",
    "df = pd.DataFrame(data, columns=['TB'])\n",
    "df"
   ]
  },
  {
   "cell_type": "markdown",
   "metadata": {},
   "source": [
    "- Normalization:\n",
    "    - Max norm $\\displaystyle x' = \\frac {x} {x_\\textrm{max}}$\n",
    "    - L1 norm $\\displaystyle x' = \\frac {x} {\\sum x}$\n",
    "    - L2 norm $\\displaystyle x' = \\frac {x} {\\sqrt {\\sum x^2}}$"
   ]
  },
  {
   "cell_type": "code",
   "execution_count": 26,
   "metadata": {},
   "outputs": [
    {
     "data": {
      "text/plain": [
       "0    0.936499\n",
       "1    0.921038\n",
       "2    0.867477\n",
       "3    1.000000\n",
       "4    0.874655\n",
       "5    0.914412\n",
       "6    0.920486\n",
       "7    0.864163\n",
       "8    0.928216\n",
       "9    0.912755\n",
       "Name: TB, dtype: float64"
      ]
     },
     "execution_count": 26,
     "metadata": {},
     "output_type": "execute_result"
    }
   ],
   "source": [
    "# 0. Manual normalization calculation\n",
    "# Norm: MAX = x_normalized = x / max(x)\n",
    "\n",
    "df['TB'] / df['TB'].max()"
   ]
  },
  {
   "cell_type": "code",
   "execution_count": 27,
   "metadata": {},
   "outputs": [
    {
     "data": {
      "text/plain": [
       "0    0.102465\n",
       "1    0.100773\n",
       "2    0.094913\n",
       "3    0.109413\n",
       "4    0.095698\n",
       "5    0.100048\n",
       "6    0.100713\n",
       "7    0.094551\n",
       "8    0.101559\n",
       "9    0.099867\n",
       "Name: TB, dtype: float64"
      ]
     },
     "execution_count": 27,
     "metadata": {},
     "output_type": "execute_result"
    }
   ],
   "source": [
    "# Norm: L1 = x_normalized = x / sum(x)\n",
    "\n",
    "df['TB'] / df['TB'].sum()"
   ]
  },
  {
   "cell_type": "code",
   "execution_count": 28,
   "metadata": {},
   "outputs": [
    {
     "data": {
      "text/plain": [
       "0    0.323744\n",
       "1    0.318399\n",
       "2    0.299883\n",
       "3    0.345696\n",
       "4    0.302365\n",
       "5    0.316108\n",
       "6    0.318208\n",
       "7    0.298738\n",
       "8    0.320881\n",
       "9    0.315536\n",
       "Name: TB, dtype: float64"
      ]
     },
     "execution_count": 28,
     "metadata": {},
     "output_type": "execute_result"
    }
   ],
   "source": [
    "# Norm: L2 = x_normalized = x / sqrt(sum(x ** 2))\n",
    "\n",
    "df['TB'] / np.sqrt(np.sum(df['TB'] ** 2))"
   ]
  },
  {
   "cell_type": "code",
   "execution_count": 19,
   "metadata": {},
   "outputs": [
    {
     "name": "stdout",
     "output_type": "stream",
     "text": [
      "[[0.93649917 0.9210381  0.86747653 1.         0.87465489 0.91441193\n",
      "  0.92048592 0.86416345 0.92821645 0.91275538]]\n",
      "[[0.10246496 0.10077332 0.094913   0.10941276 0.09569841 0.10004833\n",
      "  0.1007129  0.09455051 0.10155872 0.09986709]]\n",
      "[[0.32374385 0.31839902 0.29988301 0.34569582 0.30236454 0.31610838\n",
      "  0.31820813 0.29873769 0.32088055 0.31553572]]\n"
     ]
    }
   ],
   "source": [
    "# 1. Normalizer(): normalize works on row\n",
    "\n",
    "print(Normalizer(norm='max').fit_transform([df['TB'].values]))\n",
    "print(Normalizer(norm='l1').fit_transform([df['TB'].values]))\n",
    "print(Normalizer(norm='l2').fit_transform([df['TB'].values]))"
   ]
  },
  {
   "cell_type": "code",
   "execution_count": 21,
   "metadata": {},
   "outputs": [
    {
     "name": "stdout",
     "output_type": "stream",
     "text": [
      "[[0.93649917]\n",
      " [0.9210381 ]\n",
      " [0.86747653]\n",
      " [1.        ]\n",
      " [0.87465489]\n",
      " [0.91441193]\n",
      " [0.92048592]\n",
      " [0.86416345]\n",
      " [0.92821645]\n",
      " [0.91275538]]\n",
      "[[0.10246496]\n",
      " [0.10077332]\n",
      " [0.094913  ]\n",
      " [0.10941276]\n",
      " [0.09569841]\n",
      " [0.10004833]\n",
      " [0.1007129 ]\n",
      " [0.09455051]\n",
      " [0.10155872]\n",
      " [0.09986709]]\n",
      "[[0.32374385]\n",
      " [0.31839902]\n",
      " [0.29988301]\n",
      " [0.34569582]\n",
      " [0.30236454]\n",
      " [0.31610838]\n",
      " [0.31820813]\n",
      " [0.29873769]\n",
      " [0.32088055]\n",
      " [0.31553572]]\n"
     ]
    }
   ],
   "source": [
    "# 2. normalize(): normalize works on row\n",
    "\n",
    "print(preprocessing.normalize(df[['TB']], axis=0, norm='max'))\n",
    "print(preprocessing.normalize(df[['TB']], axis=0, norm='l1'))\n",
    "print(preprocessing.normalize(df[['TB']], axis=0, norm='l2'))"
   ]
  }
 ],
 "metadata": {
  "kernelspec": {
   "display_name": "Python 3",
   "language": "python",
   "name": "python3"
  },
  "language_info": {
   "codemirror_mode": {
    "name": "ipython",
    "version": 3
   },
   "file_extension": ".py",
   "mimetype": "text/x-python",
   "name": "python",
   "nbconvert_exporter": "python",
   "pygments_lexer": "ipython3",
   "version": "3.8.1"
  }
 },
 "nbformat": 4,
 "nbformat_minor": 4
}
