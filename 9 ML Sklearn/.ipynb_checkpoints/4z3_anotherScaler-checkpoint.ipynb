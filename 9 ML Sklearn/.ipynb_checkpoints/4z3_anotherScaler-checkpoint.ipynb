{
 "cells": [
  {
   "cell_type": "markdown",
   "metadata": {},
   "source": [
    "# Feature Scaling\n",
    "\n",
    "- Standardization\n",
    "- Normalization\n",
    "- Maximum Absolute Scaler\n",
    "- Robust Scaler\n",
    "- Binarizer"
   ]
  },
  {
   "cell_type": "code",
   "execution_count": 40,
   "metadata": {},
   "outputs": [],
   "source": [
    "import pandas as pd\n",
    "import numpy as np\n",
    "import matplotlib.pyplot as plt\n",
    "from sklearn import preprocessing"
   ]
  },
  {
   "cell_type": "code",
   "execution_count": 14,
   "metadata": {},
   "outputs": [
    {
     "data": {
      "text/html": [
       "<div>\n",
       "<style scoped>\n",
       "    .dataframe tbody tr th:only-of-type {\n",
       "        vertical-align: middle;\n",
       "    }\n",
       "\n",
       "    .dataframe tbody tr th {\n",
       "        vertical-align: top;\n",
       "    }\n",
       "\n",
       "    .dataframe thead th {\n",
       "        text-align: right;\n",
       "    }\n",
       "</style>\n",
       "<table border=\"1\" class=\"dataframe\">\n",
       "  <thead>\n",
       "    <tr style=\"text-align: right;\">\n",
       "      <th></th>\n",
       "      <th>TB</th>\n",
       "      <th>BB</th>\n",
       "    </tr>\n",
       "  </thead>\n",
       "  <tbody>\n",
       "    <tr>\n",
       "      <th>0</th>\n",
       "      <td>0.80</td>\n",
       "      <td>20</td>\n",
       "    </tr>\n",
       "    <tr>\n",
       "      <th>1</th>\n",
       "      <td>0.85</td>\n",
       "      <td>25</td>\n",
       "    </tr>\n",
       "    <tr>\n",
       "      <th>2</th>\n",
       "      <td>0.92</td>\n",
       "      <td>21</td>\n",
       "    </tr>\n",
       "    <tr>\n",
       "      <th>3</th>\n",
       "      <td>0.88</td>\n",
       "      <td>29</td>\n",
       "    </tr>\n",
       "    <tr>\n",
       "      <th>4</th>\n",
       "      <td>0.82</td>\n",
       "      <td>30</td>\n",
       "    </tr>\n",
       "    <tr>\n",
       "      <th>5</th>\n",
       "      <td>0.86</td>\n",
       "      <td>21</td>\n",
       "    </tr>\n",
       "    <tr>\n",
       "      <th>6</th>\n",
       "      <td>0.87</td>\n",
       "      <td>28</td>\n",
       "    </tr>\n",
       "    <tr>\n",
       "      <th>7</th>\n",
       "      <td>0.93</td>\n",
       "      <td>27</td>\n",
       "    </tr>\n",
       "    <tr>\n",
       "      <th>8</th>\n",
       "      <td>0.81</td>\n",
       "      <td>29</td>\n",
       "    </tr>\n",
       "    <tr>\n",
       "      <th>9</th>\n",
       "      <td>1.00</td>\n",
       "      <td>30</td>\n",
       "    </tr>\n",
       "  </tbody>\n",
       "</table>\n",
       "</div>"
      ],
      "text/plain": [
       "     TB  BB\n",
       "0  0.80  20\n",
       "1  0.85  25\n",
       "2  0.92  21\n",
       "3  0.88  29\n",
       "4  0.82  30\n",
       "5  0.86  21\n",
       "6  0.87  28\n",
       "7  0.93  27\n",
       "8  0.81  29\n",
       "9  1.00  30"
      ]
     },
     "execution_count": 14,
     "metadata": {},
     "output_type": "execute_result"
    }
   ],
   "source": [
    "data = {\n",
    "    'TB': [0.8, 0.85, 0.92, 0.88, 0.82, 0.86, 0.87, 0.93, 0.81, 1],\n",
    "    'BB': [20, 25, 21, 29, 30, 21, 28, 27, 29, 30]\n",
    "}\n",
    "df = pd.DataFrame(data)\n",
    "df"
   ]
  },
  {
   "cell_type": "markdown",
   "metadata": {},
   "source": [
    "<hr>\n",
    "\n",
    "### 3. Maximum Absolute Scaler\n",
    "\n",
    "- Maximum Absolute Scaler formula $\\displaystyle x' = \\frac {x} {|x_{\\textrm{max}}|}$\n",
    "\n",
    "- Data hasil scaler memiliki range antara __-1__ hingga __1__."
   ]
  },
  {
   "cell_type": "code",
   "execution_count": 10,
   "metadata": {},
   "outputs": [
    {
     "data": {
      "text/plain": [
       "0    0.666667\n",
       "1    0.833333\n",
       "2    0.700000\n",
       "3    0.966667\n",
       "4    1.000000\n",
       "5    0.700000\n",
       "6    0.933333\n",
       "7    0.900000\n",
       "8    0.966667\n",
       "9    1.000000\n",
       "Name: BB, dtype: float64"
      ]
     },
     "execution_count": 10,
     "metadata": {},
     "output_type": "execute_result"
    }
   ],
   "source": [
    "# 1. MaxAbsScaler without sklearn\n",
    "df['BB'] / df['BB'].max()"
   ]
  },
  {
   "cell_type": "code",
   "execution_count": 11,
   "metadata": {},
   "outputs": [
    {
     "data": {
      "text/plain": [
       "array([[0.66666667],\n",
       "       [0.83333333],\n",
       "       [0.7       ],\n",
       "       [0.96666667],\n",
       "       [1.        ],\n",
       "       [0.7       ],\n",
       "       [0.93333333],\n",
       "       [0.9       ],\n",
       "       [0.96666667],\n",
       "       [1.        ]])"
      ]
     },
     "execution_count": 11,
     "metadata": {},
     "output_type": "execute_result"
    }
   ],
   "source": [
    "# 2. MaxAbsScaler using skelarn\n",
    "from sklearn.preprocessing import MaxAbsScaler\n",
    "MaxAbsScaler().fit_transform(df[['BB']])"
   ]
  },
  {
   "cell_type": "code",
   "execution_count": 13,
   "metadata": {},
   "outputs": [
    {
     "data": {
      "text/plain": [
       "array([0.66666667, 0.83333333, 0.7       , 0.96666667, 1.        ,\n",
       "       0.7       , 0.93333333, 0.9       , 0.96666667, 1.        ])"
      ]
     },
     "execution_count": 13,
     "metadata": {},
     "output_type": "execute_result"
    }
   ],
   "source": [
    "# 3. MaxAbsScaler using skelarn\n",
    "from sklearn.preprocessing import maxabs_scale\n",
    "maxabs_scale(df['BB'])"
   ]
  },
  {
   "cell_type": "markdown",
   "metadata": {},
   "source": [
    "<hr>\n",
    "\n",
    "### 4. Robust Scaler\n",
    "\n",
    "- Robust Scaler formula $\\displaystyle x' = \\frac {x - \\textrm{median}(x)} {\\textrm{IQR}} = \\frac {x - Q_2} {Q_3 - Q_1}$"
   ]
  },
  {
   "cell_type": "code",
   "execution_count": 28,
   "metadata": {},
   "outputs": [
    {
     "data": {
      "text/plain": [
       "(0.865, 0.8275, 0.865, 0.91)"
      ]
     },
     "execution_count": 28,
     "metadata": {},
     "output_type": "execute_result"
    }
   ],
   "source": [
    "med = df['TB'].median()\n",
    "q1 = np.quantile(df['TB'], .25) \n",
    "q2 = np.quantile(df['TB'], .5) \n",
    "q3 = np.quantile(df['TB'], .75)\n",
    "med, q1, q2, q3"
   ]
  },
  {
   "cell_type": "code",
   "execution_count": 29,
   "metadata": {},
   "outputs": [
    {
     "data": {
      "text/plain": [
       "0   -0.787879\n",
       "1   -0.181818\n",
       "2    0.666667\n",
       "3    0.181818\n",
       "4   -0.545455\n",
       "5   -0.060606\n",
       "6    0.060606\n",
       "7    0.787879\n",
       "8   -0.666667\n",
       "9    1.636364\n",
       "Name: TB, dtype: float64"
      ]
     },
     "execution_count": 29,
     "metadata": {},
     "output_type": "execute_result"
    }
   ],
   "source": [
    "# 1. robust scaler manual calculation\n",
    "(df['TB'] - q2) / (q3 - q1)"
   ]
  },
  {
   "cell_type": "code",
   "execution_count": 30,
   "metadata": {},
   "outputs": [
    {
     "data": {
      "text/plain": [
       "array([[-0.78787879],\n",
       "       [-0.18181818],\n",
       "       [ 0.66666667],\n",
       "       [ 0.18181818],\n",
       "       [-0.54545455],\n",
       "       [-0.06060606],\n",
       "       [ 0.06060606],\n",
       "       [ 0.78787879],\n",
       "       [-0.66666667],\n",
       "       [ 1.63636364]])"
      ]
     },
     "execution_count": 30,
     "metadata": {},
     "output_type": "execute_result"
    }
   ],
   "source": [
    "# 2. robust scaler using sklearn\n",
    "from sklearn.preprocessing import RobustScaler\n",
    "RobustScaler(quantile_range=(25, 75)).fit_transform(df[['TB']])"
   ]
  },
  {
   "cell_type": "markdown",
   "metadata": {},
   "source": [
    "<hr>\n",
    "\n",
    "### 5. Binarizer\n",
    "\n",
    "- Binarizer mengubah data menjadi nilai biner (__0__ atau __1__) dengan syarat _threshold_ tertentu. Misal _threshold_ = __20__, maka data <= 20 akan menjadi __0__ dan data > 20 akan menjadi __1__."
   ]
  },
  {
   "cell_type": "code",
   "execution_count": 39,
   "metadata": {},
   "outputs": [
    {
     "data": {
      "text/plain": [
       "0    0\n",
       "1    0\n",
       "2    1\n",
       "3    1\n",
       "4    0\n",
       "5    1\n",
       "6    1\n",
       "7    1\n",
       "8    0\n",
       "9    1\n",
       "Name: TB, dtype: int64"
      ]
     },
     "execution_count": 39,
     "metadata": {},
     "output_type": "execute_result"
    }
   ],
   "source": [
    "# 1. manual binarizer\n",
    "threshold = 0.85\n",
    "df['TB'].apply(lambda x: 0 if x <= threshold else 1)"
   ]
  },
  {
   "cell_type": "code",
   "execution_count": 38,
   "metadata": {},
   "outputs": [
    {
     "data": {
      "text/plain": [
       "array([[0.],\n",
       "       [0.],\n",
       "       [1.],\n",
       "       [1.],\n",
       "       [0.],\n",
       "       [1.],\n",
       "       [1.],\n",
       "       [1.],\n",
       "       [0.],\n",
       "       [1.]])"
      ]
     },
     "execution_count": 38,
     "metadata": {},
     "output_type": "execute_result"
    }
   ],
   "source": [
    "# 2. sklearn binarizer\n",
    "from sklearn.preprocessing import Binarizer\n",
    "Binarizer(threshold=0.85).fit_transform(df[['TB']])"
   ]
  }
 ],
 "metadata": {
  "kernelspec": {
   "display_name": "Python 3.8.1 32-bit",
   "language": "python",
   "name": "python38132bit17e97fd0e138494882eb6a23af8acc7d"
  },
  "language_info": {
   "codemirror_mode": {
    "name": "ipython",
    "version": 3
   },
   "file_extension": ".py",
   "mimetype": "text/x-python",
   "name": "python",
   "nbconvert_exporter": "python",
   "pygments_lexer": "ipython3",
   "version": "3.8.1"
  }
 },
 "nbformat": 4,
 "nbformat_minor": 4
}
