{
 "cells": [
  {
   "cell_type": "markdown",
   "metadata": {},
   "source": [
    "# Cross Validation\n",
    "\n",
    "<hr>\n",
    "\n",
    "### Best practices:\n",
    "\n",
    "- Split dataset: training set & testing set\n",
    "- Split training set: training set & validation set\n",
    "- Misal training set displit 3: A B C, maka: \n",
    "    - model di train dengan AB lalu divalidate dengan C\n",
    "    - model di train dengan AC lalu divalidate dengan B\n",
    "    - model di train dengan BC lalu divalidate dengan A\n",
    "- Dari situ didapatkan score masing2 CV (crossval), ambil rata2 untuk evaluasi model.\n",
    "\n",
    "\n",
    "<img src=\"https://scikit-learn.org/stable/_images/grid_search_workflow.png\" width=\"50%\" height=\"50%\"/>\n",
    "\n",
    "<hr>\n",
    "\n",
    "### Hyperparameter Tuning\n",
    "\n",
    "- Selama dilakukan cross validation, dapat sekaligus dicari nilai hyperparameter terbaik.\n",
    "- Hasilnya digunakan pada model final & digunakan untuk predict testing set.\n",
    "\n",
    "<img src=\"https://scikit-learn.org/stable/_images/grid_search_cross_validation.png\" width=\"50%\" height=\"50%\"/>\n"
   ]
  },
  {
   "cell_type": "markdown",
   "metadata": {},
   "source": [
    "<hr>\n",
    "\n",
    "# K-Fold Cross Validation"
   ]
  },
  {
   "cell_type": "code",
   "execution_count": 2,
   "metadata": {},
   "outputs": [],
   "source": [
    "from sklearn.model_selection import KFold\n",
    "kf = KFold(n_splits=3) # jumlah 'lipatan', max = jumlah sample\n",
    "# kf = KFold(n_splits=9)"
   ]
  },
  {
   "cell_type": "code",
   "execution_count": 6,
   "metadata": {},
   "outputs": [
    {
     "name": "stdout",
     "output_type": "stream",
     "text": [
      "[3 4 5 6 7 8] [0 1 2]\n",
      "[0 1 2 6 7 8] [3 4 5]\n",
      "[0 1 2 3 4 5] [6 7 8]\n"
     ]
    }
   ],
   "source": [
    "x = [1,2,3,4,5,6,7,8,9]\n",
    "for train, validate in kf.split(x):\n",
    "    print(train, validate)\n",
    "\n",
    "# train: data utk train\n",
    "# validate: data utk validate"
   ]
  },
  {
   "cell_type": "code",
   "execution_count": null,
   "metadata": {},
   "outputs": [],
   "source": []
  }
 ],
 "metadata": {
  "kernelspec": {
   "display_name": "Python 3",
   "language": "python",
   "name": "python3"
  },
  "language_info": {
   "codemirror_mode": {
    "name": "ipython",
    "version": 3
   },
   "file_extension": ".py",
   "mimetype": "text/x-python",
   "name": "python",
   "nbconvert_exporter": "python",
   "pygments_lexer": "ipython3",
   "version": "3.7.3"
  }
 },
 "nbformat": 4,
 "nbformat_minor": 4
}
