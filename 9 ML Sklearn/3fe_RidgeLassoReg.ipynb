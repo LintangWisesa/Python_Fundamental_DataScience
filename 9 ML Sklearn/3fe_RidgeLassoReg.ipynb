{
 "cells": [
  {
   "cell_type": "markdown",
   "metadata": {},
   "source": [
    "# Ridge Regression"
   ]
  },
  {
   "cell_type": "code",
   "execution_count": 143,
   "metadata": {},
   "outputs": [],
   "source": [
    "import pandas as pd\n",
    "import numpy as np\n",
    "import matplotlib.pyplot as plt\n",
    "from sklearn.linear_model import LinearRegression"
   ]
  },
  {
   "cell_type": "code",
   "execution_count": 144,
   "metadata": {},
   "outputs": [
    {
     "data": {
      "text/html": [
       "<div>\n",
       "<style scoped>\n",
       "    .dataframe tbody tr th:only-of-type {\n",
       "        vertical-align: middle;\n",
       "    }\n",
       "\n",
       "    .dataframe tbody tr th {\n",
       "        vertical-align: top;\n",
       "    }\n",
       "\n",
       "    .dataframe thead th {\n",
       "        text-align: right;\n",
       "    }\n",
       "</style>\n",
       "<table border=\"1\" class=\"dataframe\">\n",
       "  <thead>\n",
       "    <tr style=\"text-align: right;\">\n",
       "      <th></th>\n",
       "      <th>x</th>\n",
       "      <th>y</th>\n",
       "    </tr>\n",
       "  </thead>\n",
       "  <tbody>\n",
       "    <tr>\n",
       "      <th>0</th>\n",
       "      <td>0</td>\n",
       "      <td>0.350588</td>\n",
       "    </tr>\n",
       "    <tr>\n",
       "      <th>1</th>\n",
       "      <td>1</td>\n",
       "      <td>2.377078</td>\n",
       "    </tr>\n",
       "    <tr>\n",
       "      <th>2</th>\n",
       "      <td>2</td>\n",
       "      <td>1.691862</td>\n",
       "    </tr>\n",
       "    <tr>\n",
       "      <th>3</th>\n",
       "      <td>3</td>\n",
       "      <td>1.255050</td>\n",
       "    </tr>\n",
       "    <tr>\n",
       "      <th>4</th>\n",
       "      <td>4</td>\n",
       "      <td>4.840782</td>\n",
       "    </tr>\n",
       "  </tbody>\n",
       "</table>\n",
       "</div>"
      ],
      "text/plain": [
       "   x         y\n",
       "0  0  0.350588\n",
       "1  1  2.377078\n",
       "2  2  1.691862\n",
       "3  3  1.255050\n",
       "4  4  4.840782"
      ]
     },
     "execution_count": 144,
     "metadata": {},
     "output_type": "execute_result"
    }
   ],
   "source": [
    "data = {\n",
    "    'x': np.arange(10),\n",
    "    'y': np.arange(10) + np.random.randn(10)\n",
    "#     'y': np.arange(10)\n",
    "}\n",
    "df = pd.DataFrame(data)\n",
    "df.head()"
   ]
  },
  {
   "cell_type": "markdown",
   "metadata": {},
   "source": [
    "<hr>\n",
    "\n",
    "### Linear Regression tanpa splitting dataset"
   ]
  },
  {
   "cell_type": "code",
   "execution_count": 145,
   "metadata": {},
   "outputs": [
    {
     "data": {
      "text/html": [
       "<div>\n",
       "<style scoped>\n",
       "    .dataframe tbody tr th:only-of-type {\n",
       "        vertical-align: middle;\n",
       "    }\n",
       "\n",
       "    .dataframe tbody tr th {\n",
       "        vertical-align: top;\n",
       "    }\n",
       "\n",
       "    .dataframe thead th {\n",
       "        text-align: right;\n",
       "    }\n",
       "</style>\n",
       "<table border=\"1\" class=\"dataframe\">\n",
       "  <thead>\n",
       "    <tr style=\"text-align: right;\">\n",
       "      <th></th>\n",
       "      <th>x</th>\n",
       "      <th>y</th>\n",
       "      <th>y\"</th>\n",
       "    </tr>\n",
       "  </thead>\n",
       "  <tbody>\n",
       "    <tr>\n",
       "      <th>0</th>\n",
       "      <td>0</td>\n",
       "      <td>0.350588</td>\n",
       "      <td>0.194154</td>\n",
       "    </tr>\n",
       "    <tr>\n",
       "      <th>1</th>\n",
       "      <td>1</td>\n",
       "      <td>2.377078</td>\n",
       "      <td>1.215549</td>\n",
       "    </tr>\n",
       "    <tr>\n",
       "      <th>2</th>\n",
       "      <td>2</td>\n",
       "      <td>1.691862</td>\n",
       "      <td>2.236944</td>\n",
       "    </tr>\n",
       "    <tr>\n",
       "      <th>3</th>\n",
       "      <td>3</td>\n",
       "      <td>1.255050</td>\n",
       "      <td>3.258338</td>\n",
       "    </tr>\n",
       "    <tr>\n",
       "      <th>4</th>\n",
       "      <td>4</td>\n",
       "      <td>4.840782</td>\n",
       "      <td>4.279733</td>\n",
       "    </tr>\n",
       "  </tbody>\n",
       "</table>\n",
       "</div>"
      ],
      "text/plain": [
       "   x         y        y\"\n",
       "0  0  0.350588  0.194154\n",
       "1  1  2.377078  1.215549\n",
       "2  2  1.691862  2.236944\n",
       "3  3  1.255050  3.258338\n",
       "4  4  4.840782  4.279733"
      ]
     },
     "execution_count": 145,
     "metadata": {},
     "output_type": "execute_result"
    }
   ],
   "source": [
    "model = LinearRegression()\n",
    "model.fit(df[['x']], df['y'])\n",
    "\n",
    "df['y\"'] = model.predict(df[['x']])\n",
    "df.head()"
   ]
  },
  {
   "cell_type": "code",
   "execution_count": 146,
   "metadata": {},
   "outputs": [
    {
     "data": {
      "text/plain": [
       "[<matplotlib.lines.Line2D at 0x20fdc494908>]"
      ]
     },
     "execution_count": 146,
     "metadata": {},
     "output_type": "execute_result"
    },
    {
     "data": {
      "image/png": "[encoded data removed]",
      "text/plain": [
       "<Figure size 432x288 with 1 Axes>"
      ]
     },
     "metadata": {
      "needs_background": "light"
     },
     "output_type": "display_data"
    }
   ],
   "source": [
    "plt.plot(df['x'], df['y'], 'ro')\n",
    "plt.plot(df['x'], df['y\"'], 'g-')"
   ]
  },
  {
   "cell_type": "code",
   "execution_count": 147,
   "metadata": {},
   "outputs": [
    {
     "name": "stdout",
     "output_type": "stream",
     "text": [
      "MSE: 0.7667457603032612\n",
      "RMSE: 0.8756402002553682\n"
     ]
    }
   ],
   "source": [
    "# RMSE\n",
    "from sklearn.metrics import mean_squared_error\n",
    "print('MSE:', mean_squared_error(df['y'], df['y\"']))\n",
    "print('RMSE:', np.sqrt(mean_squared_error(df['y'], df['y\"'])))"
   ]
  },
  {
   "cell_type": "markdown",
   "metadata": {},
   "source": [
    "<hr>\n",
    "\n",
    "### Linear Regression: split data, namun hanya 2 data pertama sbg training"
   ]
  },
  {
   "cell_type": "code",
   "execution_count": 148,
   "metadata": {},
   "outputs": [
    {
     "data": {
      "text/html": [
       "<div>\n",
       "<style scoped>\n",
       "    .dataframe tbody tr th:only-of-type {\n",
       "        vertical-align: middle;\n",
       "    }\n",
       "\n",
       "    .dataframe tbody tr th {\n",
       "        vertical-align: top;\n",
       "    }\n",
       "\n",
       "    .dataframe thead th {\n",
       "        text-align: right;\n",
       "    }\n",
       "</style>\n",
       "<table border=\"1\" class=\"dataframe\">\n",
       "  <thead>\n",
       "    <tr style=\"text-align: right;\">\n",
       "      <th></th>\n",
       "      <th>x</th>\n",
       "      <th>y</th>\n",
       "      <th>y\"</th>\n",
       "      <th>y\"2</th>\n",
       "    </tr>\n",
       "  </thead>\n",
       "  <tbody>\n",
       "    <tr>\n",
       "      <th>0</th>\n",
       "      <td>0</td>\n",
       "      <td>0.350588</td>\n",
       "      <td>0.194154</td>\n",
       "      <td>0.350588</td>\n",
       "    </tr>\n",
       "    <tr>\n",
       "      <th>1</th>\n",
       "      <td>1</td>\n",
       "      <td>2.377078</td>\n",
       "      <td>1.215549</td>\n",
       "      <td>2.377078</td>\n",
       "    </tr>\n",
       "    <tr>\n",
       "      <th>2</th>\n",
       "      <td>2</td>\n",
       "      <td>1.691862</td>\n",
       "      <td>2.236944</td>\n",
       "      <td>4.403569</td>\n",
       "    </tr>\n",
       "    <tr>\n",
       "      <th>3</th>\n",
       "      <td>3</td>\n",
       "      <td>1.255050</td>\n",
       "      <td>3.258338</td>\n",
       "      <td>6.430059</td>\n",
       "    </tr>\n",
       "    <tr>\n",
       "      <th>4</th>\n",
       "      <td>4</td>\n",
       "      <td>4.840782</td>\n",
       "      <td>4.279733</td>\n",
       "      <td>8.456550</td>\n",
       "    </tr>\n",
       "    <tr>\n",
       "      <th>5</th>\n",
       "      <td>5</td>\n",
       "      <td>5.180799</td>\n",
       "      <td>5.301128</td>\n",
       "      <td>10.483040</td>\n",
       "    </tr>\n",
       "    <tr>\n",
       "      <th>6</th>\n",
       "      <td>6</td>\n",
       "      <td>6.899308</td>\n",
       "      <td>6.322523</td>\n",
       "      <td>12.509531</td>\n",
       "    </tr>\n",
       "    <tr>\n",
       "      <th>7</th>\n",
       "      <td>7</td>\n",
       "      <td>8.242535</td>\n",
       "      <td>7.343918</td>\n",
       "      <td>14.536021</td>\n",
       "    </tr>\n",
       "    <tr>\n",
       "      <th>8</th>\n",
       "      <td>8</td>\n",
       "      <td>7.648955</td>\n",
       "      <td>8.365312</td>\n",
       "      <td>16.562512</td>\n",
       "    </tr>\n",
       "    <tr>\n",
       "      <th>9</th>\n",
       "      <td>9</td>\n",
       "      <td>9.417348</td>\n",
       "      <td>9.386707</td>\n",
       "      <td>18.589002</td>\n",
       "    </tr>\n",
       "  </tbody>\n",
       "</table>\n",
       "</div>"
      ],
      "text/plain": [
       "   x         y        y\"        y\"2\n",
       "0  0  0.350588  0.194154   0.350588\n",
       "1  1  2.377078  1.215549   2.377078\n",
       "2  2  1.691862  2.236944   4.403569\n",
       "3  3  1.255050  3.258338   6.430059\n",
       "4  4  4.840782  4.279733   8.456550\n",
       "5  5  5.180799  5.301128  10.483040\n",
       "6  6  6.899308  6.322523  12.509531\n",
       "7  7  8.242535  7.343918  14.536021\n",
       "8  8  7.648955  8.365312  16.562512\n",
       "9  9  9.417348  9.386707  18.589002"
      ]
     },
     "execution_count": 148,
     "metadata": {},
     "output_type": "execute_result"
    }
   ],
   "source": [
    "# fit model hanya dari 2 data pertama\n",
    "model.fit(df[['x']].iloc[:2], df['y'].iloc[:2])\n",
    "df['y\"2'] = model.predict(df[['x']])\n",
    "df"
   ]
  },
  {
   "cell_type": "code",
   "execution_count": 149,
   "metadata": {},
   "outputs": [
    {
     "data": {
      "text/plain": [
       "<matplotlib.legend.Legend at 0x20fdc4ef978>"
      ]
     },
     "execution_count": 149,
     "metadata": {},
     "output_type": "execute_result"
    },
    {
     "data": {
      "image/png": "[encoded data removed]",
      "text/plain": [
       "<Figure size 432x288 with 1 Axes>"
      ]
     },
     "metadata": {
      "needs_background": "light"
     },
     "output_type": "display_data"
    }
   ],
   "source": [
    "plt.plot(df['x'], df['y'], 'ro')\n",
    "plt.plot(df['x'], df['y\"'], 'g-')\n",
    "plt.plot(df['x'], df['y\"2'], 'b-')\n",
    "plt.legend(['original data', 'best fit line', 'best fit line 2'])"
   ]
  },
  {
   "cell_type": "markdown",
   "metadata": {},
   "source": [
    "<hr>\n",
    "\n",
    "### Ridge Regression\n",
    "\n",
    "L2 regularization: menambahkan ralat/penalty MSE = MSE $\\displaystyle + \\lambda \\times m^2$\n",
    "\n",
    "Di Sklearn, kekuatan nilai penalty dilambangkan dengan alpha $\\displaystyle \\alpha$\n",
    "\n",
    "Jika nilai penalty = 0, maka hasil akan sama dengan __Linear Regression__ biasa"
   ]
  },
  {
   "cell_type": "code",
   "execution_count": 150,
   "metadata": {},
   "outputs": [],
   "source": [
    "from sklearn.linear_model import Ridge"
   ]
  },
  {
   "cell_type": "code",
   "execution_count": 155,
   "metadata": {},
   "outputs": [
    {
     "data": {
      "text/html": [
       "<div>\n",
       "<style scoped>\n",
       "    .dataframe tbody tr th:only-of-type {\n",
       "        vertical-align: middle;\n",
       "    }\n",
       "\n",
       "    .dataframe tbody tr th {\n",
       "        vertical-align: top;\n",
       "    }\n",
       "\n",
       "    .dataframe thead th {\n",
       "        text-align: right;\n",
       "    }\n",
       "</style>\n",
       "<table border=\"1\" class=\"dataframe\">\n",
       "  <thead>\n",
       "    <tr style=\"text-align: right;\">\n",
       "      <th></th>\n",
       "      <th>x</th>\n",
       "      <th>y</th>\n",
       "      <th>y\"</th>\n",
       "      <th>y\"2</th>\n",
       "      <th>y\"Ridge</th>\n",
       "    </tr>\n",
       "  </thead>\n",
       "  <tbody>\n",
       "    <tr>\n",
       "      <th>0</th>\n",
       "      <td>0</td>\n",
       "      <td>0.350588</td>\n",
       "      <td>0.194154</td>\n",
       "      <td>0.350588</td>\n",
       "      <td>1.026085</td>\n",
       "    </tr>\n",
       "    <tr>\n",
       "      <th>1</th>\n",
       "      <td>1</td>\n",
       "      <td>2.377078</td>\n",
       "      <td>1.215549</td>\n",
       "      <td>2.377078</td>\n",
       "      <td>1.701582</td>\n",
       "    </tr>\n",
       "    <tr>\n",
       "      <th>2</th>\n",
       "      <td>2</td>\n",
       "      <td>1.691862</td>\n",
       "      <td>2.236944</td>\n",
       "      <td>4.403569</td>\n",
       "      <td>2.377078</td>\n",
       "    </tr>\n",
       "    <tr>\n",
       "      <th>3</th>\n",
       "      <td>3</td>\n",
       "      <td>1.255050</td>\n",
       "      <td>3.258338</td>\n",
       "      <td>6.430059</td>\n",
       "      <td>3.052575</td>\n",
       "    </tr>\n",
       "    <tr>\n",
       "      <th>4</th>\n",
       "      <td>4</td>\n",
       "      <td>4.840782</td>\n",
       "      <td>4.279733</td>\n",
       "      <td>8.456550</td>\n",
       "      <td>3.728072</td>\n",
       "    </tr>\n",
       "    <tr>\n",
       "      <th>5</th>\n",
       "      <td>5</td>\n",
       "      <td>5.180799</td>\n",
       "      <td>5.301128</td>\n",
       "      <td>10.483040</td>\n",
       "      <td>4.403569</td>\n",
       "    </tr>\n",
       "    <tr>\n",
       "      <th>6</th>\n",
       "      <td>6</td>\n",
       "      <td>6.899308</td>\n",
       "      <td>6.322523</td>\n",
       "      <td>12.509531</td>\n",
       "      <td>5.079066</td>\n",
       "    </tr>\n",
       "    <tr>\n",
       "      <th>7</th>\n",
       "      <td>7</td>\n",
       "      <td>8.242535</td>\n",
       "      <td>7.343918</td>\n",
       "      <td>14.536021</td>\n",
       "      <td>5.754563</td>\n",
       "    </tr>\n",
       "    <tr>\n",
       "      <th>8</th>\n",
       "      <td>8</td>\n",
       "      <td>7.648955</td>\n",
       "      <td>8.365312</td>\n",
       "      <td>16.562512</td>\n",
       "      <td>6.430059</td>\n",
       "    </tr>\n",
       "    <tr>\n",
       "      <th>9</th>\n",
       "      <td>9</td>\n",
       "      <td>9.417348</td>\n",
       "      <td>9.386707</td>\n",
       "      <td>18.589002</td>\n",
       "      <td>7.105556</td>\n",
       "    </tr>\n",
       "  </tbody>\n",
       "</table>\n",
       "</div>"
      ],
      "text/plain": [
       "   x         y        y\"        y\"2   y\"Ridge\n",
       "0  0  0.350588  0.194154   0.350588  1.026085\n",
       "1  1  2.377078  1.215549   2.377078  1.701582\n",
       "2  2  1.691862  2.236944   4.403569  2.377078\n",
       "3  3  1.255050  3.258338   6.430059  3.052575\n",
       "4  4  4.840782  4.279733   8.456550  3.728072\n",
       "5  5  5.180799  5.301128  10.483040  4.403569\n",
       "6  6  6.899308  6.322523  12.509531  5.079066\n",
       "7  7  8.242535  7.343918  14.536021  5.754563\n",
       "8  8  7.648955  8.365312  16.562512  6.430059\n",
       "9  9  9.417348  9.386707  18.589002  7.105556"
      ]
     },
     "execution_count": 155,
     "metadata": {},
     "output_type": "execute_result"
    }
   ],
   "source": [
    "# modelR = Ridge(alpha=0) # alpha=0 == linear regression biasa, alpha default = 1\n",
    "modelR = Ridge(alpha=1)\n",
    "modelR.fit(df[['x']].iloc[:2], df['y'].iloc[:2])\n",
    "df['y\"Ridge'] = modelR.predict(df[['x']])\n",
    "df"
   ]
  },
  {
   "cell_type": "code",
   "execution_count": 156,
   "metadata": {},
   "outputs": [
    {
     "data": {
      "text/plain": [
       "<matplotlib.legend.Legend at 0x20fdc651c88>"
      ]
     },
     "execution_count": 156,
     "metadata": {},
     "output_type": "execute_result"
    },
    {
     "data": {
      "image/png": "[encoded data removed]",
      "text/plain": [
       "<Figure size 432x288 with 1 Axes>"
      ]
     },
     "metadata": {
      "needs_background": "light"
     },
     "output_type": "display_data"
    }
   ],
   "source": [
    "plt.plot(df['x'], df['y'], 'ro')\n",
    "plt.plot(df['x'], df['y\"'], 'g-')\n",
    "plt.plot(df['x'], df['y\"2'], 'b-')\n",
    "plt.plot(df['x'], df['y\"Ridge'], 'y-')\n",
    "plt.legend(['original data', 'best fit line', 'best fit line 2', 'best fit ridge'])"
   ]
  },
  {
   "cell_type": "markdown",
   "metadata": {},
   "source": [
    "<hr>\n",
    "\n",
    "### Lasso Regression\n",
    "\n",
    "L1 regularization: menambahkan ralat/penalty MSE = MSE $\\displaystyle + \\lambda \\times |m|$\n",
    "\n",
    "Di Sklearn, kekuatan nilai penalty dilambangkan dengan alpha $\\displaystyle \\alpha$\n",
    "\n",
    "Jika nilai penalty = 0, maka hasil akan sama dengan __Linear Regression__ biasa"
   ]
  },
  {
   "cell_type": "code",
   "execution_count": 190,
   "metadata": {},
   "outputs": [
    {
     "data": {
      "text/html": [
       "<div>\n",
       "<style scoped>\n",
       "    .dataframe tbody tr th:only-of-type {\n",
       "        vertical-align: middle;\n",
       "    }\n",
       "\n",
       "    .dataframe tbody tr th {\n",
       "        vertical-align: top;\n",
       "    }\n",
       "\n",
       "    .dataframe thead th {\n",
       "        text-align: right;\n",
       "    }\n",
       "</style>\n",
       "<table border=\"1\" class=\"dataframe\">\n",
       "  <thead>\n",
       "    <tr style=\"text-align: right;\">\n",
       "      <th></th>\n",
       "      <th>x</th>\n",
       "      <th>y</th>\n",
       "      <th>y\"</th>\n",
       "      <th>y\"2</th>\n",
       "      <th>y\"Ridge</th>\n",
       "      <th>y\"Lasso</th>\n",
       "    </tr>\n",
       "  </thead>\n",
       "  <tbody>\n",
       "    <tr>\n",
       "      <th>0</th>\n",
       "      <td>0</td>\n",
       "      <td>0.350588</td>\n",
       "      <td>0.194154</td>\n",
       "      <td>0.350588</td>\n",
       "      <td>1.026085</td>\n",
       "      <td>0.950588</td>\n",
       "    </tr>\n",
       "    <tr>\n",
       "      <th>1</th>\n",
       "      <td>1</td>\n",
       "      <td>2.377078</td>\n",
       "      <td>1.215549</td>\n",
       "      <td>2.377078</td>\n",
       "      <td>1.701582</td>\n",
       "      <td>1.777078</td>\n",
       "    </tr>\n",
       "    <tr>\n",
       "      <th>2</th>\n",
       "      <td>2</td>\n",
       "      <td>1.691862</td>\n",
       "      <td>2.236944</td>\n",
       "      <td>4.403569</td>\n",
       "      <td>2.377078</td>\n",
       "      <td>2.603569</td>\n",
       "    </tr>\n",
       "    <tr>\n",
       "      <th>3</th>\n",
       "      <td>3</td>\n",
       "      <td>1.255050</td>\n",
       "      <td>3.258338</td>\n",
       "      <td>6.430059</td>\n",
       "      <td>3.052575</td>\n",
       "      <td>3.430059</td>\n",
       "    </tr>\n",
       "    <tr>\n",
       "      <th>4</th>\n",
       "      <td>4</td>\n",
       "      <td>4.840782</td>\n",
       "      <td>4.279733</td>\n",
       "      <td>8.456550</td>\n",
       "      <td>3.728072</td>\n",
       "      <td>4.256550</td>\n",
       "    </tr>\n",
       "    <tr>\n",
       "      <th>5</th>\n",
       "      <td>5</td>\n",
       "      <td>5.180799</td>\n",
       "      <td>5.301128</td>\n",
       "      <td>10.483040</td>\n",
       "      <td>4.403569</td>\n",
       "      <td>5.083040</td>\n",
       "    </tr>\n",
       "    <tr>\n",
       "      <th>6</th>\n",
       "      <td>6</td>\n",
       "      <td>6.899308</td>\n",
       "      <td>6.322523</td>\n",
       "      <td>12.509531</td>\n",
       "      <td>5.079066</td>\n",
       "      <td>5.909531</td>\n",
       "    </tr>\n",
       "    <tr>\n",
       "      <th>7</th>\n",
       "      <td>7</td>\n",
       "      <td>8.242535</td>\n",
       "      <td>7.343918</td>\n",
       "      <td>14.536021</td>\n",
       "      <td>5.754563</td>\n",
       "      <td>6.736021</td>\n",
       "    </tr>\n",
       "    <tr>\n",
       "      <th>8</th>\n",
       "      <td>8</td>\n",
       "      <td>7.648955</td>\n",
       "      <td>8.365312</td>\n",
       "      <td>16.562512</td>\n",
       "      <td>6.430059</td>\n",
       "      <td>7.562512</td>\n",
       "    </tr>\n",
       "    <tr>\n",
       "      <th>9</th>\n",
       "      <td>9</td>\n",
       "      <td>9.417348</td>\n",
       "      <td>9.386707</td>\n",
       "      <td>18.589002</td>\n",
       "      <td>7.105556</td>\n",
       "      <td>8.389002</td>\n",
       "    </tr>\n",
       "  </tbody>\n",
       "</table>\n",
       "</div>"
      ],
      "text/plain": [
       "   x         y        y\"        y\"2   y\"Ridge   y\"Lasso\n",
       "0  0  0.350588  0.194154   0.350588  1.026085  0.950588\n",
       "1  1  2.377078  1.215549   2.377078  1.701582  1.777078\n",
       "2  2  1.691862  2.236944   4.403569  2.377078  2.603569\n",
       "3  3  1.255050  3.258338   6.430059  3.052575  3.430059\n",
       "4  4  4.840782  4.279733   8.456550  3.728072  4.256550\n",
       "5  5  5.180799  5.301128  10.483040  4.403569  5.083040\n",
       "6  6  6.899308  6.322523  12.509531  5.079066  5.909531\n",
       "7  7  8.242535  7.343918  14.536021  5.754563  6.736021\n",
       "8  8  7.648955  8.365312  16.562512  6.430059  7.562512\n",
       "9  9  9.417348  9.386707  18.589002  7.105556  8.389002"
      ]
     },
     "execution_count": 190,
     "metadata": {},
     "output_type": "execute_result"
    }
   ],
   "source": [
    "from sklearn.linear_model import Lasso\n",
    "\n",
    "modelL = Lasso(alpha=0.3)\n",
    "modelL.fit(df[['x']].iloc[:2], df['y'].iloc[:2])\n",
    "df['y\"Lasso'] = modelL.predict(df[['x']])\n",
    "df"
   ]
  },
  {
   "cell_type": "code",
   "execution_count": 191,
   "metadata": {},
   "outputs": [
    {
     "data": {
      "text/plain": [
       "<matplotlib.legend.Legend at 0x20fddf14d30>"
      ]
     },
     "execution_count": 191,
     "metadata": {},
     "output_type": "execute_result"
    },
    {
     "data": {
      "image/png": "[encoded data removed]",
      "text/plain": [
       "<Figure size 432x288 with 1 Axes>"
      ]
     },
     "metadata": {
      "needs_background": "light"
     },
     "output_type": "display_data"
    }
   ],
   "source": [
    "plt.plot(df['x'], df['y'], 'ro')\n",
    "plt.plot(df['x'], df['y\"'], 'g-')\n",
    "plt.plot(df['x'], df['y\"2'], 'b-')\n",
    "plt.plot(df['x'], df['y\"Ridge'], 'y-')\n",
    "plt.plot(df['x'], df['y\"Lasso'], 'm-')\n",
    "plt.legend(['original data', 'best fit line', 'best fit line 2', 'best Ridge', 'best Lasso'])"
   ]
  }
 ],
 "metadata": {
  "kernelspec": {
   "display_name": "Python 3",
   "language": "python",
   "name": "python3"
  },
  "language_info": {
   "codemirror_mode": {
    "name": "ipython",
    "version": 3
   },
   "file_extension": ".py",
   "mimetype": "text/x-python",
   "name": "python",
   "nbconvert_exporter": "python",
   "pygments_lexer": "ipython3",
   "version": "3.7.1"
  }
 },
 "nbformat": 4,
 "nbformat_minor": 4
}
