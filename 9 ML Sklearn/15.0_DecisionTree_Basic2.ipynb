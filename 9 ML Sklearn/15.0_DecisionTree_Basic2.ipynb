{
 "cells": [
  {
   "cell_type": "markdown",
   "metadata": {},
   "source": [
    "# Decision Tree"
   ]
  },
  {
   "cell_type": "code",
   "execution_count": 31,
   "metadata": {},
   "outputs": [],
   "source": [
    "import pandas as pd\n",
    "import numpy as np\n",
    "import matplotlib.pyplot as plt"
   ]
  },
  {
   "cell_type": "markdown",
   "metadata": {},
   "source": [
    "<hr>\n",
    "\n",
    "### 1.a. Decision Tree Binary Classification (Perfect Case)"
   ]
  },
  {
   "cell_type": "code",
   "execution_count": 32,
   "metadata": {},
   "outputs": [
    {
     "data": {
      "text/html": [
       "<div>\n",
       "<style scoped>\n",
       "    .dataframe tbody tr th:only-of-type {\n",
       "        vertical-align: middle;\n",
       "    }\n",
       "\n",
       "    .dataframe tbody tr th {\n",
       "        vertical-align: top;\n",
       "    }\n",
       "\n",
       "    .dataframe thead th {\n",
       "        text-align: right;\n",
       "    }\n",
       "</style>\n",
       "<table border=\"1\" class=\"dataframe\">\n",
       "  <thead>\n",
       "    <tr style=\"text-align: right;\">\n",
       "      <th></th>\n",
       "      <th>sarjana</th>\n",
       "      <th>wage&gt;50</th>\n",
       "    </tr>\n",
       "  </thead>\n",
       "  <tbody>\n",
       "    <tr>\n",
       "      <th>0</th>\n",
       "      <td>0</td>\n",
       "      <td>0</td>\n",
       "    </tr>\n",
       "    <tr>\n",
       "      <th>1</th>\n",
       "      <td>0</td>\n",
       "      <td>0</td>\n",
       "    </tr>\n",
       "    <tr>\n",
       "      <th>2</th>\n",
       "      <td>0</td>\n",
       "      <td>0</td>\n",
       "    </tr>\n",
       "    <tr>\n",
       "      <th>3</th>\n",
       "      <td>1</td>\n",
       "      <td>1</td>\n",
       "    </tr>\n",
       "    <tr>\n",
       "      <th>4</th>\n",
       "      <td>1</td>\n",
       "      <td>1</td>\n",
       "    </tr>\n",
       "    <tr>\n",
       "      <th>5</th>\n",
       "      <td>1</td>\n",
       "      <td>1</td>\n",
       "    </tr>\n",
       "  </tbody>\n",
       "</table>\n",
       "</div>"
      ],
      "text/plain": [
       "   sarjana  wage>50\n",
       "0        0        0\n",
       "1        0        0\n",
       "2        0        0\n",
       "3        1        1\n",
       "4        1        1\n",
       "5        1        1"
      ]
     },
     "execution_count": 32,
     "metadata": {},
     "output_type": "execute_result"
    }
   ],
   "source": [
    "df = pd.DataFrame({\n",
    "    'sarjana': [0, 0, 0, 1, 1, 1],\n",
    "    'wage>50': [0, 0, 0, 1, 1, 1]\n",
    "})\n",
    "df"
   ]
  },
  {
   "cell_type": "raw",
   "metadata": {},
   "source": [
    "- Sarjana - YES - wage>50 = 0 :  ada 0 data\n",
    "                - wage>50 = 1 :  ada 3 data\n",
    "          - NO  - wage>50 = 0 :  ada 3 data\n",
    "                - wage>50 = 1 :  ada 0 data\n",
    "                \n",
    "         Sarjana?            =>  the root / root node (starting question)\n",
    "            |\n",
    "            |\n",
    "     --------------           > internal node / node (question branch)\n",
    " yes |            | no\n",
    "     |            |\n",
    " wage>50jt    wage>50jt      => leaf nodes / leaves (conclusion)\n",
    "   1 | 0        1 | 0\n",
    "  3+ | 0-      0+ | 3-\n"
   ]
  },
  {
   "cell_type": "markdown",
   "metadata": {},
   "source": [
    "### Using Sklearn"
   ]
  },
  {
   "cell_type": "code",
   "execution_count": 39,
   "metadata": {},
   "outputs": [
    {
     "data": {
      "text/plain": [
       "DecisionTreeClassifier(ccp_alpha=0.0, class_weight=None, criterion='gini',\n",
       "                       max_depth=None, max_features=None, max_leaf_nodes=None,\n",
       "                       min_impurity_decrease=0.0, min_impurity_split=None,\n",
       "                       min_samples_leaf=1, min_samples_split=2,\n",
       "                       min_weight_fraction_leaf=0.0, presort='deprecated',\n",
       "                       random_state=None, splitter='best')"
      ]
     },
     "execution_count": 39,
     "metadata": {},
     "output_type": "execute_result"
    }
   ],
   "source": [
    "from sklearn import tree\n",
    "model = tree.DecisionTreeClassifier()\n",
    "model.fit(df[['sarjana']], df['wage>50'])"
   ]
  },
  {
   "cell_type": "code",
   "execution_count": 40,
   "metadata": {},
   "outputs": [
    {
     "data": {
      "text/plain": [
       "[Text(167.4, 163.07999999999998, 'X[0] <= 0.5\\ngini = 0.5\\nsamples = 6\\nvalue = [3, 3]'),\n",
       " Text(83.7, 54.360000000000014, 'gini = 0.0\\nsamples = 3\\nvalue = [3, 0]'),\n",
       " Text(251.10000000000002, 54.360000000000014, 'gini = 0.0\\nsamples = 3\\nvalue = [0, 3]')]"
      ]
     },
     "execution_count": 40,
     "metadata": {},
     "output_type": "execute_result"
    },
    {
     "data": {
      "image/png": "[encoded data removed]",
      "text/plain": [
       "<Figure size 432x288 with 1 Axes>"
      ]
     },
     "metadata": {
      "needs_background": "light"
     },
     "output_type": "display_data"
    }
   ],
   "source": [
    "tree.plot_tree(model.fit(df[['sarjana']], df['wage>50'])) "
   ]
  },
  {
   "cell_type": "code",
   "execution_count": 41,
   "metadata": {},
   "outputs": [],
   "source": [
    "tree.export_graphviz(\n",
    "    model.fit(df[['sarjana']], df['wage>50']), \n",
    "    out_file='15.0.dot',\n",
    "    feature_names=['sarjana'],\n",
    "    class_names=['>50++', '<50--']\n",
    ")\n",
    "# go to https://dreampuf.github.io/GraphvizOnline \n",
    "# to convert the .dot to .png/.svg/image!"
   ]
  },
  {
   "cell_type": "markdown",
   "metadata": {},
   "source": [
    "![tree](./15.01a.png)"
   ]
  },
  {
   "cell_type": "markdown",
   "metadata": {},
   "source": [
    "<hr>\n",
    "\n",
    "### 1.b. Decision Tree Binary Classification (Not so Perfect Case)"
   ]
  },
  {
   "cell_type": "code",
   "execution_count": 42,
   "metadata": {},
   "outputs": [
    {
     "data": {
      "text/html": [
       "<div>\n",
       "<style scoped>\n",
       "    .dataframe tbody tr th:only-of-type {\n",
       "        vertical-align: middle;\n",
       "    }\n",
       "\n",
       "    .dataframe tbody tr th {\n",
       "        vertical-align: top;\n",
       "    }\n",
       "\n",
       "    .dataframe thead th {\n",
       "        text-align: right;\n",
       "    }\n",
       "</style>\n",
       "<table border=\"1\" class=\"dataframe\">\n",
       "  <thead>\n",
       "    <tr style=\"text-align: right;\">\n",
       "      <th></th>\n",
       "      <th>sarjana</th>\n",
       "      <th>wage&gt;50</th>\n",
       "    </tr>\n",
       "  </thead>\n",
       "  <tbody>\n",
       "    <tr>\n",
       "      <th>0</th>\n",
       "      <td>0</td>\n",
       "      <td>0</td>\n",
       "    </tr>\n",
       "    <tr>\n",
       "      <th>1</th>\n",
       "      <td>0</td>\n",
       "      <td>0</td>\n",
       "    </tr>\n",
       "    <tr>\n",
       "      <th>2</th>\n",
       "      <td>0</td>\n",
       "      <td>1</td>\n",
       "    </tr>\n",
       "    <tr>\n",
       "      <th>3</th>\n",
       "      <td>1</td>\n",
       "      <td>0</td>\n",
       "    </tr>\n",
       "    <tr>\n",
       "      <th>4</th>\n",
       "      <td>1</td>\n",
       "      <td>1</td>\n",
       "    </tr>\n",
       "    <tr>\n",
       "      <th>5</th>\n",
       "      <td>1</td>\n",
       "      <td>1</td>\n",
       "    </tr>\n",
       "  </tbody>\n",
       "</table>\n",
       "</div>"
      ],
      "text/plain": [
       "   sarjana  wage>50\n",
       "0        0        0\n",
       "1        0        0\n",
       "2        0        1\n",
       "3        1        0\n",
       "4        1        1\n",
       "5        1        1"
      ]
     },
     "execution_count": 42,
     "metadata": {},
     "output_type": "execute_result"
    }
   ],
   "source": [
    "df = pd.DataFrame({\n",
    "    'sarjana': [0, 0, 0, 1, 1, 1],\n",
    "    'wage>50': [0, 0, 1, 0, 1, 1]\n",
    "})\n",
    "df"
   ]
  },
  {
   "cell_type": "markdown",
   "metadata": {},
   "source": [
    "<hr>\n",
    "\n",
    "## Gini Impurity"
   ]
  },
  {
   "cell_type": "raw",
   "metadata": {},
   "source": [
    "Gini = 1 - probabilityA^2 - probabilityB^2\n",
    "\n",
    "- Sarjana - YES - wage>50 = 0 :  1 data          gini leaf1 = 1 - (1/3)^2 - (2/3)^2 = 1-0.189-0.4356 = 0.4444\n",
    "                - wage>50 = 1 :  2 data\n",
    "          - NO  - wage>50 = 0 :  2 data          gini leaf2 = 1 - (2/3)^2 - (1/3)^2 = 1-0.189-0.4356 = 0.4444\n",
    "                - wage>50 = 1 :  1 data\n",
    "  \n",
    "          giniLeaf Sarjana = (tot.data1/tot.data)*gini1 + (tot.data2/tot.data)*gini2\n",
    "                           = (3/6)*0.4444 + (3/6)*0.4444 = 0.4444\n",
    "  \n",
    "  > Sarjana Tree\n",
    "  \n",
    "         Sarjana?            =>  the root / root node (starting question)\n",
    "            |\n",
    "            |\n",
    "     --------------           > internal node / node (question branch)\n",
    " yes |            | no\n",
    "     |            |\n",
    " wage>50jt    wage>50jt      => leaf nodes / leaves (conclusion)\n",
    "   1 | 2        2 | 1\n",
    "\n",
    " * Tree yg hanya mengandung 1 node & 2 leaves = stump"
   ]
  },
  {
   "cell_type": "code",
   "execution_count": 43,
   "metadata": {},
   "outputs": [
    {
     "name": "stdout",
     "output_type": "stream",
     "text": [
      "0.4444444444444444\n",
      "0.4444\n"
     ]
    }
   ],
   "source": [
    "print(1 - ((1/3)**2) - ((2/3)**2))\n",
    "print((1/2) * 0.4444 + (1/2) * 0.4444 )"
   ]
  },
  {
   "cell_type": "markdown",
   "metadata": {},
   "source": [
    "<hr>\n",
    "\n",
    "## Gain & Entropy"
   ]
  },
  {
   "cell_type": "raw",
   "metadata": {},
   "source": [
    "Gain & Entropy\n",
    "\n",
    "- Entropy = sum(-probabilityX * (2log(probabilityX)))   =>  X = class\n",
    "- Gain = sum((jmlDataX / totalDataX) * EntropyX)\n",
    "\n",
    "=================================================================================\n",
    "\n",
    "> Sarjana Tree\n",
    "  \n",
    "         Sarjana?            =>  the root / root node (starting question)\n",
    "            |\n",
    "            |\n",
    "     --------------           > internal node / node (question branch)\n",
    " yes |            | no\n",
    "     |            |\n",
    " wage>50jt    wage>50jt      => leaf nodes / leaves (conclusion)\n",
    "  1- | 2+     2- | 1+\n",
    "\n",
    " * Tree yg hanya mengandung 1 node & 2 leaves = stump\n",
    " \n",
    "================================================================================="
   ]
  },
  {
   "cell_type": "code",
   "execution_count": 56,
   "metadata": {},
   "outputs": [
    {
     "data": {
      "text/plain": [
       "(0.38997500048077083,\n",
       " 0.38997500048077083,\n",
       " 0.7799500009615417,\n",
       " 0.38997500048077083)"
      ]
     },
     "execution_count": 56,
     "metadata": {},
     "output_type": "execute_result"
    }
   ],
   "source": [
    "entropySarjana0 = -1 * (2/3) * np.log2(2/3)\n",
    "entropySarjana1 = -1 * (2/3) * np.log2(2/3)\n",
    "entropySarjana = entropySarjana0 + entropySarjana1\n",
    "gainSarjana = (3/6)*entropySarjana0 + (3/6)*entropySarjana1\n",
    "\n",
    "entropySarjana0, entropySarjana1, entropySarjana, gainSarjana"
   ]
  },
  {
   "cell_type": "markdown",
   "metadata": {},
   "source": [
    "<hr>\n",
    "\n",
    "## Decision Tree Sklearn\n",
    "\n",
    "### 1. Gini Criterion"
   ]
  },
  {
   "cell_type": "code",
   "execution_count": 45,
   "metadata": {},
   "outputs": [
    {
     "data": {
      "text/plain": [
       "DecisionTreeClassifier(ccp_alpha=0.0, class_weight=None, criterion='gini',\n",
       "                       max_depth=None, max_features=None, max_leaf_nodes=None,\n",
       "                       min_impurity_decrease=0.0, min_impurity_split=None,\n",
       "                       min_samples_leaf=1, min_samples_split=2,\n",
       "                       min_weight_fraction_leaf=0.0, presort='deprecated',\n",
       "                       random_state=None, splitter='best')"
      ]
     },
     "execution_count": 45,
     "metadata": {},
     "output_type": "execute_result"
    }
   ],
   "source": [
    "from sklearn import tree\n",
    "model = tree.DecisionTreeClassifier()\n",
    "model.fit(df[['sarjana']], df['wage>50'])"
   ]
  },
  {
   "cell_type": "code",
   "execution_count": 46,
   "metadata": {},
   "outputs": [
    {
     "data": {
      "text/plain": [
       "[Text(167.4, 163.07999999999998, 'X[0] <= 0.5\\ngini = 0.5\\nsamples = 6\\nvalue = [3, 3]'),\n",
       " Text(83.7, 54.360000000000014, 'gini = 0.444\\nsamples = 3\\nvalue = [2, 1]'),\n",
       " Text(251.10000000000002, 54.360000000000014, 'gini = 0.444\\nsamples = 3\\nvalue = [1, 2]')]"
      ]
     },
     "execution_count": 46,
     "metadata": {},
     "output_type": "execute_result"
    },
    {
     "data": {
      "image/png": "[encoded data removed]",
      "text/plain": [
       "<Figure size 432x288 with 1 Axes>"
      ]
     },
     "metadata": {
      "needs_background": "light"
     },
     "output_type": "display_data"
    }
   ],
   "source": [
    "tree.plot_tree(model.fit(df[['sarjana']], df['wage>50'])) "
   ]
  },
  {
   "cell_type": "code",
   "execution_count": 25,
   "metadata": {},
   "outputs": [],
   "source": [
    "tree.export_graphviz(\n",
    "    model.fit(df[['sarjana']], df['wage>50']), \n",
    "    out_file='15.01b.dot',\n",
    "    feature_names=['sarjana'],\n",
    "    class_names=['>50++', '<50--']\n",
    ")"
   ]
  },
  {
   "cell_type": "markdown",
   "metadata": {},
   "source": [
    "![tree](./15.01b.png)"
   ]
  },
  {
   "cell_type": "markdown",
   "metadata": {},
   "source": [
    "<hr>\n",
    "\n",
    "### 2. Entropy Criterion"
   ]
  },
  {
   "cell_type": "code",
   "execution_count": 47,
   "metadata": {},
   "outputs": [
    {
     "data": {
      "text/plain": [
       "DecisionTreeClassifier(ccp_alpha=0.0, class_weight=None, criterion='entropy',\n",
       "                       max_depth=None, max_features=None, max_leaf_nodes=None,\n",
       "                       min_impurity_decrease=0.0, min_impurity_split=None,\n",
       "                       min_samples_leaf=1, min_samples_split=2,\n",
       "                       min_weight_fraction_leaf=0.0, presort='deprecated',\n",
       "                       random_state=None, splitter='best')"
      ]
     },
     "execution_count": 47,
     "metadata": {},
     "output_type": "execute_result"
    }
   ],
   "source": [
    "from sklearn import tree\n",
    "model = tree.DecisionTreeClassifier(criterion=\"entropy\")\n",
    "model.fit(df[['sarjana']], df['wage>50'])"
   ]
  },
  {
   "cell_type": "code",
   "execution_count": 48,
   "metadata": {},
   "outputs": [
    {
     "data": {
      "text/plain": [
       "[Text(167.4, 163.07999999999998, 'X[0] <= 0.5\\nentropy = 1.0\\nsamples = 6\\nvalue = [3, 3]'),\n",
       " Text(83.7, 54.360000000000014, 'entropy = 0.918\\nsamples = 3\\nvalue = [2, 1]'),\n",
       " Text(251.10000000000002, 54.360000000000014, 'entropy = 0.918\\nsamples = 3\\nvalue = [1, 2]')]"
      ]
     },
     "execution_count": 48,
     "metadata": {},
     "output_type": "execute_result"
    },
    {
     "data": {
      "image/png": "[encoded data removed]",
      "text/plain": [
       "<Figure size 432x288 with 1 Axes>"
      ]
     },
     "metadata": {
      "needs_background": "light"
     },
     "output_type": "display_data"
    }
   ],
   "source": [
    "tree.plot_tree(model.fit(df[['sarjana']], df['wage>50'])) "
   ]
  },
  {
   "cell_type": "markdown",
   "metadata": {},
   "source": [
    "<hr>\n",
    "\n",
    "### 2. Decision Tree Binary Classification, Multiple Features"
   ]
  },
  {
   "cell_type": "code",
   "execution_count": 26,
   "metadata": {},
   "outputs": [
    {
     "data": {
      "text/html": [
       "<div>\n",
       "<style scoped>\n",
       "    .dataframe tbody tr th:only-of-type {\n",
       "        vertical-align: middle;\n",
       "    }\n",
       "\n",
       "    .dataframe tbody tr th {\n",
       "        vertical-align: top;\n",
       "    }\n",
       "\n",
       "    .dataframe thead th {\n",
       "        text-align: right;\n",
       "    }\n",
       "</style>\n",
       "<table border=\"1\" class=\"dataframe\">\n",
       "  <thead>\n",
       "    <tr style=\"text-align: right;\">\n",
       "      <th></th>\n",
       "      <th>sarjana</th>\n",
       "      <th>sehat</th>\n",
       "      <th>supel</th>\n",
       "      <th>wage&gt;50jt</th>\n",
       "    </tr>\n",
       "  </thead>\n",
       "  <tbody>\n",
       "    <tr>\n",
       "      <th>0</th>\n",
       "      <td>1</td>\n",
       "      <td>1</td>\n",
       "      <td>1</td>\n",
       "      <td>1</td>\n",
       "    </tr>\n",
       "    <tr>\n",
       "      <th>1</th>\n",
       "      <td>1</td>\n",
       "      <td>0</td>\n",
       "      <td>0</td>\n",
       "      <td>1</td>\n",
       "    </tr>\n",
       "    <tr>\n",
       "      <th>2</th>\n",
       "      <td>0</td>\n",
       "      <td>1</td>\n",
       "      <td>1</td>\n",
       "      <td>0</td>\n",
       "    </tr>\n",
       "    <tr>\n",
       "      <th>3</th>\n",
       "      <td>0</td>\n",
       "      <td>0</td>\n",
       "      <td>1</td>\n",
       "      <td>0</td>\n",
       "    </tr>\n",
       "    <tr>\n",
       "      <th>4</th>\n",
       "      <td>0</td>\n",
       "      <td>0</td>\n",
       "      <td>1</td>\n",
       "      <td>0</td>\n",
       "    </tr>\n",
       "  </tbody>\n",
       "</table>\n",
       "</div>"
      ],
      "text/plain": [
       "   sarjana  sehat  supel  wage>50jt\n",
       "0        1      1      1          1\n",
       "1        1      0      0          1\n",
       "2        0      1      1          0\n",
       "3        0      0      1          0\n",
       "4        0      0      1          0"
      ]
     },
     "execution_count": 26,
     "metadata": {},
     "output_type": "execute_result"
    }
   ],
   "source": [
    "df = pd.DataFrame([\n",
    "    {'sarjana': 1, 'sehat':1, 'supel':1, 'wage>50jt':1},\n",
    "    {'sarjana': 1, 'sehat':0, 'supel':0, 'wage>50jt':1},\n",
    "    {'sarjana': 0, 'sehat':1, 'supel':1, 'wage>50jt':0},\n",
    "    {'sarjana': 0, 'sehat':0, 'supel':1, 'wage>50jt':0},\n",
    "    {'sarjana': 0, 'sehat':0, 'supel':1, 'wage>50jt':0}\n",
    "])\n",
    "df"
   ]
  },
  {
   "cell_type": "markdown",
   "metadata": {},
   "source": [
    "- Dari dataset di atas, apakah seorang karyawan memiliki salary>50jt tidak dapat ditentukan hanya dengan melihat sarjana saja, supel saja atau sehat saja. Untuk menentukan bagaimana bentuk decision tree-nya, kita harus menghitung & membandingkan __impurity__ tiap feature. Salah satu cara menentukan impurity dengan menghitung __gini impurity__.\n",
    "\n",
    "- Gini impurity = $ \\displaystyle 1 - $ probability YES $^2 - $ probability NO$^2$"
   ]
  },
  {
   "cell_type": "raw",
   "metadata": {},
   "source": [
    "- Sarjana - YES - wage>50 = 0 :  0     gini leaf1 = 1 - (2/2)^2 - (0/2)^2 = 0\n",
    "                - wage>50 = 1 :  2\n",
    "            \n",
    "          - NO  - wage>50 = 0 :  3     gini leaf2 = 1 - (0/3)^2 - (3/3)^2 = 0\n",
    "                - wage>50 = 1 :  0\n",
    "                \n",
    "           gini Sarjana Tree = \n",
    "           ((totalData1 / totalData) * giniLeaf1) + ((totalData2 / totalData) * giniLeaf2)\n",
    "           ((2 / 5) * 0) + ((3 / 5) * 0)\n",
    "           0\n",
    "                                       \n",
    "====================================================================\n",
    "\n",
    "- Sehat   - YES - wage>50 = 0 :  1     gini leaf1 = 1 - (1/2)^2 - (1/2)^2 = 1 - 0.25 - 0.25 = 0.5\n",
    "                - wage>50 = 1 :  1\n",
    "            \n",
    "          - NO  - wage>50 = 0 :  2     gini leaf2 = 1 - (1/3)^2 - (2/3)^2 = 1 - 0.1089 - 0.4356 = 0.455\n",
    "                - wage>50 = 1 :  1\n",
    "                \n",
    "           gini Sehat Tree = \n",
    "           ((totalData1 / totalData) * giniLeaf1) + ((totalData2 / totalData) * giniLeaf2)\n",
    "           ((2 / 5) * 0.5) + ((3 / 5) * 0.455)\n",
    "           0.2 + 0.273 = 0.473\n",
    "                                       \n",
    "====================================================================\n",
    "\n",
    "- Supel   - YES - wage>50 = 0 :  3     gini leaf1 = 1 - (1/4)^2 - (3/4)^2 = 1 - 0.0625 - 0.5625 = 0.375\n",
    "                - wage>50 = 1 :  1\n",
    "            \n",
    "          - NO  - wage>50 = 0 :  0     gini leaf2 = 1 - (1/3)^2 - (0/3)^2 = 1 - 0.1089 = 0.891\n",
    "                - wage>50 = 1 :  1\n",
    "               \n",
    "           gini Supel Tree = \n",
    "           ((totalData1 / totalData) * giniLeaf1) + ((totalData2 / totalData) * giniLeaf2)\n",
    "           ((4 / 5) * 0.375) + ((1 / 5) * 0.891)\n",
    "           0.3 + 0.1782 = 0.4782"
   ]
  },
  {
   "cell_type": "markdown",
   "metadata": {},
   "source": [
    "- Dari perhitungan gini impurity tiap feature, didapati bahwa:\n",
    "    - Gini Sarjana = 0\n",
    "    - Gini Sehat = 0.473\n",
    "    - Gini Supel = 0.4782\n",
    "    \n",
    "    \n",
    "- Makin rendah gini, maka featurenya dapat mengklasifikasikan dengan semakin baik. Sehingga feature dengan gini terendah dapat digunakan sebagai node root suatu decision tree."
   ]
  },
  {
   "cell_type": "raw",
   "metadata": {},
   "source": [
    "Sarjana --- YES ---> 0 | 2  Sehat --- YES - wage>50 = 1  gini leaf1 = 1 - (1/1)^2 - (0/1)^2 = 0         |                         |\n",
    "        |                         |       - wage>50 = 0\n",
    "        |                         |\n",
    "        |                          --- NO  - wage>50 = 1  gini leaf2 = 1 - (1/1)^2 - (0/1)^2 = 0\n",
    "        |                                  - wage>50 = 0\n",
    "        |                                  \n",
    "        |                                                 gini sehat = 1/2 * 0 + 1/2 * 0 = 0\n",
    "        |\n",
    "        |                   Supel --- YES - wage>50 = 1  gini leaf1 = 1 - (1/1)^2 - (0/1)^2 = 0         |                         |\n",
    "        |                         |       - wage>50 = 0\n",
    "        |                         |\n",
    "        |                          --- NO  - wage>50 = 1  gini leaf2 = 1 - (1/1)^2 - (0/1)^2 = 0\n",
    "        |                                  - wage>50 = 0\n",
    "        |                                  \n",
    "        |                                                 gini supel = 1/2 * 0 + 1/2 * 0 = 0\n",
    "        |\n",
    "        |\n",
    "        --- NO  ---> 3 | 0   Sehat --- YES - wage>50 = 0  gini leaf1 = 1 - (0/1)^2 - (0/1)^2 = 1                                  |\n",
    "                                 |         - wage>50 = 0\n",
    "                                 |\n",
    "                                  --- NO  - wage>50 = 0  gini leaf2 = 1 - (0/1)^2 - (0/1)^2 = 1\n",
    "                                          - wage>50 = 0\n",
    "                                          \n",
    "                                                         gini sehat = 1 * 0 + 1 * 0 = 0\n",
    "        \n",
    "                             Supel --- YES - wage>50 = 0  gini leaf1 = 1 - (0/1)^2 - (0/1)^2 = 1                                  |\n",
    "                                 |         - wage>50 = 0\n",
    "                                 |\n",
    "                                  --- NO  - wage>50 = 0  gini leaf2 = 1 - (0/1)^2 - (0/1)^2 = 1\n",
    "                                          - wage>50 = 0\n",
    "                                          \n",
    "                                                        gini supel = 1 * 0 + 1 * 0 = 0"
   ]
  },
  {
   "cell_type": "code",
   "execution_count": 27,
   "metadata": {},
   "outputs": [
    {
     "data": {
      "text/plain": [
       "DecisionTreeClassifier(ccp_alpha=0.0, class_weight=None, criterion='gini',\n",
       "                       max_depth=None, max_features=None, max_leaf_nodes=None,\n",
       "                       min_impurity_decrease=0.0, min_impurity_split=None,\n",
       "                       min_samples_leaf=1, min_samples_split=2,\n",
       "                       min_weight_fraction_leaf=0.0, presort='deprecated',\n",
       "                       random_state=None, splitter='best')"
      ]
     },
     "execution_count": 27,
     "metadata": {},
     "output_type": "execute_result"
    }
   ],
   "source": [
    "from sklearn import tree\n",
    "model = tree.DecisionTreeClassifier()\n",
    "model.fit(df[['sarjana', 'sehat', 'supel']], df['wage>50jt'])"
   ]
  },
  {
   "cell_type": "code",
   "execution_count": 28,
   "metadata": {},
   "outputs": [],
   "source": [
    "tree.export_graphviz(\n",
    "    model.fit(df[['sarjana', 'sehat', 'supel']], df['wage>50jt']), \n",
    "    out_file='15.02.dot',\n",
    "    feature_names=['sarjana', 'sehat', 'supel'],\n",
    "    class_names=['>50++', '<50--']\n",
    ")"
   ]
  },
  {
   "cell_type": "markdown",
   "metadata": {},
   "source": [
    "![tree](./15.02.png)"
   ]
  },
  {
   "cell_type": "code",
   "execution_count": null,
   "metadata": {},
   "outputs": [],
   "source": []
  }
 ],
 "metadata": {
  "kernelspec": {
   "display_name": "Python 3",
   "language": "python",
   "name": "python3"
  },
  "language_info": {
   "codemirror_mode": {
    "name": "ipython",
    "version": 3
   },
   "file_extension": ".py",
   "mimetype": "text/x-python",
   "name": "python",
   "nbconvert_exporter": "python",
   "pygments_lexer": "ipython3",
   "version": "3.7.3"
  }
 },
 "nbformat": 4,
 "nbformat_minor": 4
}
