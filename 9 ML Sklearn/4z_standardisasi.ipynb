{
 "cells": [
  {
   "cell_type": "code",
   "execution_count": 26,
   "metadata": {},
   "outputs": [],
   "source": [
    "import pandas as pd\n",
    "import numpy as np\n",
    "import matplotlib.pyplot as plt\n",
    "from sklearn import preprocessing"
   ]
  },
  {
   "cell_type": "code",
   "execution_count": 27,
   "metadata": {},
   "outputs": [
    {
     "data": {
      "text/html": [
       "<div>\n",
       "<style scoped>\n",
       "    .dataframe tbody tr th:only-of-type {\n",
       "        vertical-align: middle;\n",
       "    }\n",
       "\n",
       "    .dataframe tbody tr th {\n",
       "        vertical-align: top;\n",
       "    }\n",
       "\n",
       "    .dataframe thead th {\n",
       "        text-align: right;\n",
       "    }\n",
       "</style>\n",
       "<table border=\"1\" class=\"dataframe\">\n",
       "  <thead>\n",
       "    <tr style=\"text-align: right;\">\n",
       "      <th></th>\n",
       "      <th>TB</th>\n",
       "    </tr>\n",
       "  </thead>\n",
       "  <tbody>\n",
       "    <tr>\n",
       "      <th>0</th>\n",
       "      <td>169.6</td>\n",
       "    </tr>\n",
       "    <tr>\n",
       "      <th>1</th>\n",
       "      <td>166.8</td>\n",
       "    </tr>\n",
       "    <tr>\n",
       "      <th>2</th>\n",
       "      <td>157.1</td>\n",
       "    </tr>\n",
       "    <tr>\n",
       "      <th>3</th>\n",
       "      <td>181.1</td>\n",
       "    </tr>\n",
       "    <tr>\n",
       "      <th>4</th>\n",
       "      <td>158.4</td>\n",
       "    </tr>\n",
       "    <tr>\n",
       "      <th>5</th>\n",
       "      <td>165.6</td>\n",
       "    </tr>\n",
       "    <tr>\n",
       "      <th>6</th>\n",
       "      <td>166.7</td>\n",
       "    </tr>\n",
       "    <tr>\n",
       "      <th>7</th>\n",
       "      <td>156.5</td>\n",
       "    </tr>\n",
       "    <tr>\n",
       "      <th>8</th>\n",
       "      <td>168.1</td>\n",
       "    </tr>\n",
       "    <tr>\n",
       "      <th>9</th>\n",
       "      <td>165.3</td>\n",
       "    </tr>\n",
       "  </tbody>\n",
       "</table>\n",
       "</div>"
      ],
      "text/plain": [
       "      TB\n",
       "0  169.6\n",
       "1  166.8\n",
       "2  157.1\n",
       "3  181.1\n",
       "4  158.4\n",
       "5  165.6\n",
       "6  166.7\n",
       "7  156.5\n",
       "8  168.1\n",
       "9  165.3"
      ]
     },
     "execution_count": 27,
     "metadata": {},
     "output_type": "execute_result"
    }
   ],
   "source": [
    "data = [169.6,166.8,157.1,181.1,158.4,165.6,166.7,156.5,168.1,165.3]\n",
    "df = pd.DataFrame(data, columns=['TB'])\n",
    "df"
   ]
  },
  {
   "cell_type": "markdown",
   "metadata": {},
   "source": [
    "### Standardisasi\n",
    "\n",
    "Standardisasi $\\displaystyle z_{score} = \\frac {x - \\bar{x}} {s}$ dengan $s$ = standar deviasi ddof = 0.\n",
    "\n",
    "- High outlier jika $z_{score} > 2.5$\n",
    "\n",
    "- Low outlier jika $z_{score} < -2.5$\n",
    "\n",
    "Data terstandarisasi memiliki mean ~ 0 & standar deviasi ~ 1"
   ]
  },
  {
   "cell_type": "markdown",
   "metadata": {},
   "source": [
    "<hr>\n",
    "\n",
    "### 1. Standardisasi dengan sklearn preprocessing.scale"
   ]
  },
  {
   "cell_type": "code",
   "execution_count": 28,
   "metadata": {},
   "outputs": [
    {
     "data": {
      "text/plain": [
       "array([ 0.59381915,  0.18629621, -1.22547973,  2.26757412, -1.03627264,\n",
       "        0.01164351,  0.17174181, -1.31280607,  0.37550329, -0.03201966])"
      ]
     },
     "execution_count": 28,
     "metadata": {},
     "output_type": "execute_result"
    }
   ],
   "source": [
    "# menggunakan scale\n",
    "z = preprocessing.scale(df['TB'], axis=0)\n",
    "z"
   ]
  },
  {
   "cell_type": "code",
   "execution_count": 29,
   "metadata": {},
   "outputs": [
    {
     "data": {
      "text/html": [
       "<div>\n",
       "<style scoped>\n",
       "    .dataframe tbody tr th:only-of-type {\n",
       "        vertical-align: middle;\n",
       "    }\n",
       "\n",
       "    .dataframe tbody tr th {\n",
       "        vertical-align: top;\n",
       "    }\n",
       "\n",
       "    .dataframe thead th {\n",
       "        text-align: right;\n",
       "    }\n",
       "</style>\n",
       "<table border=\"1\" class=\"dataframe\">\n",
       "  <thead>\n",
       "    <tr style=\"text-align: right;\">\n",
       "      <th></th>\n",
       "      <th>TB</th>\n",
       "      <th>Z Scale</th>\n",
       "    </tr>\n",
       "  </thead>\n",
       "  <tbody>\n",
       "    <tr>\n",
       "      <th>0</th>\n",
       "      <td>169.6</td>\n",
       "      <td>0.593819</td>\n",
       "    </tr>\n",
       "    <tr>\n",
       "      <th>1</th>\n",
       "      <td>166.8</td>\n",
       "      <td>0.186296</td>\n",
       "    </tr>\n",
       "    <tr>\n",
       "      <th>2</th>\n",
       "      <td>157.1</td>\n",
       "      <td>-1.225480</td>\n",
       "    </tr>\n",
       "    <tr>\n",
       "      <th>3</th>\n",
       "      <td>181.1</td>\n",
       "      <td>2.267574</td>\n",
       "    </tr>\n",
       "    <tr>\n",
       "      <th>4</th>\n",
       "      <td>158.4</td>\n",
       "      <td>-1.036273</td>\n",
       "    </tr>\n",
       "    <tr>\n",
       "      <th>5</th>\n",
       "      <td>165.6</td>\n",
       "      <td>0.011644</td>\n",
       "    </tr>\n",
       "    <tr>\n",
       "      <th>6</th>\n",
       "      <td>166.7</td>\n",
       "      <td>0.171742</td>\n",
       "    </tr>\n",
       "    <tr>\n",
       "      <th>7</th>\n",
       "      <td>156.5</td>\n",
       "      <td>-1.312806</td>\n",
       "    </tr>\n",
       "    <tr>\n",
       "      <th>8</th>\n",
       "      <td>168.1</td>\n",
       "      <td>0.375503</td>\n",
       "    </tr>\n",
       "    <tr>\n",
       "      <th>9</th>\n",
       "      <td>165.3</td>\n",
       "      <td>-0.032020</td>\n",
       "    </tr>\n",
       "  </tbody>\n",
       "</table>\n",
       "</div>"
      ],
      "text/plain": [
       "      TB   Z Scale\n",
       "0  169.6  0.593819\n",
       "1  166.8  0.186296\n",
       "2  157.1 -1.225480\n",
       "3  181.1  2.267574\n",
       "4  158.4 -1.036273\n",
       "5  165.6  0.011644\n",
       "6  166.7  0.171742\n",
       "7  156.5 -1.312806\n",
       "8  168.1  0.375503\n",
       "9  165.3 -0.032020"
      ]
     },
     "execution_count": 29,
     "metadata": {},
     "output_type": "execute_result"
    }
   ],
   "source": [
    "df['Z Scale'] = z\n",
    "df"
   ]
  },
  {
   "cell_type": "code",
   "execution_count": 31,
   "metadata": {},
   "outputs": [
    {
     "name": "stdout",
     "output_type": "stream",
     "text": [
      "165.51999999999998\n",
      "7.242436667923915\n",
      "2.462613446496675e-15\n",
      "1.0540925533894598\n"
     ]
    }
   ],
   "source": [
    "print(df['TB'].mean())\n",
    "print(df['TB'].std())\n",
    "\n",
    "# standardisasi mean~0 & std~1 \n",
    "print(df['Z Scale'].mean())\n",
    "print(df['Z Scale'].std())"
   ]
  },
  {
   "cell_type": "code",
   "execution_count": 32,
   "metadata": {},
   "outputs": [
    {
     "data": {
      "image/png": "[encoded data removed]",
      "text/plain": [
       "<Figure size 432x288 with 2 Axes>"
      ]
     },
     "metadata": {
      "needs_background": "light"
     },
     "output_type": "display_data"
    }
   ],
   "source": [
    "# standardisasi tidak merubah distribusi data\n",
    "plt.subplot(121)\n",
    "plt.hist(df['TB'])\n",
    "plt.subplot(122)\n",
    "plt.hist(df['Z Scale'])\n",
    "plt.show()"
   ]
  },
  {
   "cell_type": "markdown",
   "metadata": {},
   "source": [
    "<hr>\n",
    "\n",
    "### 2. Standardisasi dengan StandarScaler\n",
    "\n",
    "- Formula sama dengan standardisasi biasa $\\displaystyle z_{score} = \\frac {x - \\bar{x}} {s}$"
   ]
  },
  {
   "cell_type": "code",
   "execution_count": 33,
   "metadata": {},
   "outputs": [
    {
     "data": {
      "text/plain": [
       "array([[ 0.59381915],\n",
       "       [ 0.18629621],\n",
       "       [-1.22547973],\n",
       "       [ 2.26757412],\n",
       "       [-1.03627264],\n",
       "       [ 0.01164351],\n",
       "       [ 0.17174181],\n",
       "       [-1.31280607],\n",
       "       [ 0.37550329],\n",
       "       [-0.03201966]])"
      ]
     },
     "execution_count": 33,
     "metadata": {},
     "output_type": "execute_result"
    }
   ],
   "source": [
    "# standardisasi dengan standarscaler\n",
    "from sklearn.preprocessing import StandardScaler\n",
    "z = StandardScaler().fit_transform(df[['TB']])\n",
    "z"
   ]
  },
  {
   "cell_type": "code",
   "execution_count": 34,
   "metadata": {},
   "outputs": [
    {
     "data": {
      "text/html": [
       "<div>\n",
       "<style scoped>\n",
       "    .dataframe tbody tr th:only-of-type {\n",
       "        vertical-align: middle;\n",
       "    }\n",
       "\n",
       "    .dataframe tbody tr th {\n",
       "        vertical-align: top;\n",
       "    }\n",
       "\n",
       "    .dataframe thead th {\n",
       "        text-align: right;\n",
       "    }\n",
       "</style>\n",
       "<table border=\"1\" class=\"dataframe\">\n",
       "  <thead>\n",
       "    <tr style=\"text-align: right;\">\n",
       "      <th></th>\n",
       "      <th>TB</th>\n",
       "      <th>Z Scale</th>\n",
       "      <th>Z StScaler</th>\n",
       "    </tr>\n",
       "  </thead>\n",
       "  <tbody>\n",
       "    <tr>\n",
       "      <th>0</th>\n",
       "      <td>169.6</td>\n",
       "      <td>0.593819</td>\n",
       "      <td>0.593819</td>\n",
       "    </tr>\n",
       "    <tr>\n",
       "      <th>1</th>\n",
       "      <td>166.8</td>\n",
       "      <td>0.186296</td>\n",
       "      <td>0.186296</td>\n",
       "    </tr>\n",
       "    <tr>\n",
       "      <th>2</th>\n",
       "      <td>157.1</td>\n",
       "      <td>-1.225480</td>\n",
       "      <td>-1.225480</td>\n",
       "    </tr>\n",
       "    <tr>\n",
       "      <th>3</th>\n",
       "      <td>181.1</td>\n",
       "      <td>2.267574</td>\n",
       "      <td>2.267574</td>\n",
       "    </tr>\n",
       "    <tr>\n",
       "      <th>4</th>\n",
       "      <td>158.4</td>\n",
       "      <td>-1.036273</td>\n",
       "      <td>-1.036273</td>\n",
       "    </tr>\n",
       "    <tr>\n",
       "      <th>5</th>\n",
       "      <td>165.6</td>\n",
       "      <td>0.011644</td>\n",
       "      <td>0.011644</td>\n",
       "    </tr>\n",
       "    <tr>\n",
       "      <th>6</th>\n",
       "      <td>166.7</td>\n",
       "      <td>0.171742</td>\n",
       "      <td>0.171742</td>\n",
       "    </tr>\n",
       "    <tr>\n",
       "      <th>7</th>\n",
       "      <td>156.5</td>\n",
       "      <td>-1.312806</td>\n",
       "      <td>-1.312806</td>\n",
       "    </tr>\n",
       "    <tr>\n",
       "      <th>8</th>\n",
       "      <td>168.1</td>\n",
       "      <td>0.375503</td>\n",
       "      <td>0.375503</td>\n",
       "    </tr>\n",
       "    <tr>\n",
       "      <th>9</th>\n",
       "      <td>165.3</td>\n",
       "      <td>-0.032020</td>\n",
       "      <td>-0.032020</td>\n",
       "    </tr>\n",
       "  </tbody>\n",
       "</table>\n",
       "</div>"
      ],
      "text/plain": [
       "      TB   Z Scale  Z StScaler\n",
       "0  169.6  0.593819    0.593819\n",
       "1  166.8  0.186296    0.186296\n",
       "2  157.1 -1.225480   -1.225480\n",
       "3  181.1  2.267574    2.267574\n",
       "4  158.4 -1.036273   -1.036273\n",
       "5  165.6  0.011644    0.011644\n",
       "6  166.7  0.171742    0.171742\n",
       "7  156.5 -1.312806   -1.312806\n",
       "8  168.1  0.375503    0.375503\n",
       "9  165.3 -0.032020   -0.032020"
      ]
     },
     "execution_count": 34,
     "metadata": {},
     "output_type": "execute_result"
    }
   ],
   "source": [
    "df['Z StScaler'] = z.reshape(10, )\n",
    "df"
   ]
  },
  {
   "cell_type": "markdown",
   "metadata": {},
   "source": [
    "<hr>\n",
    "\n",
    "### Best practice & Inverse Transform"
   ]
  },
  {
   "cell_type": "code",
   "execution_count": 35,
   "metadata": {},
   "outputs": [
    {
     "data": {
      "text/plain": [
       "array([[ 0.59381915],\n",
       "       [ 0.18629621],\n",
       "       [-1.22547973],\n",
       "       [ 2.26757412],\n",
       "       [-1.03627264],\n",
       "       [ 0.01164351],\n",
       "       [ 0.17174181],\n",
       "       [-1.31280607],\n",
       "       [ 0.37550329],\n",
       "       [-0.03201966]])"
      ]
     },
     "execution_count": 35,
     "metadata": {},
     "output_type": "execute_result"
    }
   ],
   "source": [
    "# Alternative methods\n",
    "scaler = StandardScaler()\n",
    "scaler.fit(df[['TB']])\n",
    "scaler.transform(df[['TB']])"
   ]
  },
  {
   "cell_type": "code",
   "execution_count": 39,
   "metadata": {},
   "outputs": [
    {
     "data": {
      "text/plain": [
       "array([[169.6],\n",
       "       [166.8],\n",
       "       [157.1],\n",
       "       [181.1],\n",
       "       [158.4],\n",
       "       [165.6],\n",
       "       [166.7],\n",
       "       [156.5],\n",
       "       [168.1],\n",
       "       [165.3]])"
      ]
     },
     "execution_count": 39,
     "metadata": {},
     "output_type": "execute_result"
    }
   ],
   "source": [
    "# inverse standardize value\n",
    "inverse = scaler.inverse_transform(df[['Z StScaler']])\n",
    "inverse"
   ]
  },
  {
   "cell_type": "code",
   "execution_count": 40,
   "metadata": {},
   "outputs": [
    {
     "data": {
      "text/html": [
       "<div>\n",
       "<style scoped>\n",
       "    .dataframe tbody tr th:only-of-type {\n",
       "        vertical-align: middle;\n",
       "    }\n",
       "\n",
       "    .dataframe tbody tr th {\n",
       "        vertical-align: top;\n",
       "    }\n",
       "\n",
       "    .dataframe thead th {\n",
       "        text-align: right;\n",
       "    }\n",
       "</style>\n",
       "<table border=\"1\" class=\"dataframe\">\n",
       "  <thead>\n",
       "    <tr style=\"text-align: right;\">\n",
       "      <th></th>\n",
       "      <th>TB</th>\n",
       "      <th>Z Scale</th>\n",
       "      <th>Z StScaler</th>\n",
       "      <th>Inverse</th>\n",
       "    </tr>\n",
       "  </thead>\n",
       "  <tbody>\n",
       "    <tr>\n",
       "      <th>0</th>\n",
       "      <td>169.6</td>\n",
       "      <td>0.593819</td>\n",
       "      <td>0.593819</td>\n",
       "      <td>169.6</td>\n",
       "    </tr>\n",
       "    <tr>\n",
       "      <th>1</th>\n",
       "      <td>166.8</td>\n",
       "      <td>0.186296</td>\n",
       "      <td>0.186296</td>\n",
       "      <td>166.8</td>\n",
       "    </tr>\n",
       "    <tr>\n",
       "      <th>2</th>\n",
       "      <td>157.1</td>\n",
       "      <td>-1.225480</td>\n",
       "      <td>-1.225480</td>\n",
       "      <td>157.1</td>\n",
       "    </tr>\n",
       "    <tr>\n",
       "      <th>3</th>\n",
       "      <td>181.1</td>\n",
       "      <td>2.267574</td>\n",
       "      <td>2.267574</td>\n",
       "      <td>181.1</td>\n",
       "    </tr>\n",
       "    <tr>\n",
       "      <th>4</th>\n",
       "      <td>158.4</td>\n",
       "      <td>-1.036273</td>\n",
       "      <td>-1.036273</td>\n",
       "      <td>158.4</td>\n",
       "    </tr>\n",
       "    <tr>\n",
       "      <th>5</th>\n",
       "      <td>165.6</td>\n",
       "      <td>0.011644</td>\n",
       "      <td>0.011644</td>\n",
       "      <td>165.6</td>\n",
       "    </tr>\n",
       "    <tr>\n",
       "      <th>6</th>\n",
       "      <td>166.7</td>\n",
       "      <td>0.171742</td>\n",
       "      <td>0.171742</td>\n",
       "      <td>166.7</td>\n",
       "    </tr>\n",
       "    <tr>\n",
       "      <th>7</th>\n",
       "      <td>156.5</td>\n",
       "      <td>-1.312806</td>\n",
       "      <td>-1.312806</td>\n",
       "      <td>156.5</td>\n",
       "    </tr>\n",
       "    <tr>\n",
       "      <th>8</th>\n",
       "      <td>168.1</td>\n",
       "      <td>0.375503</td>\n",
       "      <td>0.375503</td>\n",
       "      <td>168.1</td>\n",
       "    </tr>\n",
       "    <tr>\n",
       "      <th>9</th>\n",
       "      <td>165.3</td>\n",
       "      <td>-0.032020</td>\n",
       "      <td>-0.032020</td>\n",
       "      <td>165.3</td>\n",
       "    </tr>\n",
       "  </tbody>\n",
       "</table>\n",
       "</div>"
      ],
      "text/plain": [
       "      TB   Z Scale  Z StScaler  Inverse\n",
       "0  169.6  0.593819    0.593819    169.6\n",
       "1  166.8  0.186296    0.186296    166.8\n",
       "2  157.1 -1.225480   -1.225480    157.1\n",
       "3  181.1  2.267574    2.267574    181.1\n",
       "4  158.4 -1.036273   -1.036273    158.4\n",
       "5  165.6  0.011644    0.011644    165.6\n",
       "6  166.7  0.171742    0.171742    166.7\n",
       "7  156.5 -1.312806   -1.312806    156.5\n",
       "8  168.1  0.375503    0.375503    168.1\n",
       "9  165.3 -0.032020   -0.032020    165.3"
      ]
     },
     "execution_count": 40,
     "metadata": {},
     "output_type": "execute_result"
    }
   ],
   "source": [
    "df['Inverse'] = inverse.reshape(10,)\n",
    "df"
   ]
  }
 ],
 "metadata": {
  "kernelspec": {
   "display_name": "Python 3",
   "language": "python",
   "name": "python3"
  },
  "language_info": {
   "codemirror_mode": {
    "name": "ipython",
    "version": 3
   },
   "file_extension": ".py",
   "mimetype": "text/x-python",
   "name": "python",
   "nbconvert_exporter": "python",
   "pygments_lexer": "ipython3",
   "version": "3.7.1"
  }
 },
 "nbformat": 4,
 "nbformat_minor": 4
}
