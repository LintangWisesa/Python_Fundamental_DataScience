{
 "cells": [
  {
   "cell_type": "markdown",
   "metadata": {},
   "source": [
    "# Confusion Matrix Multi Class"
   ]
  },
  {
   "cell_type": "code",
   "execution_count": 13,
   "metadata": {},
   "outputs": [],
   "source": [
    "import numpy as np\n",
    "import pandas as pd\n",
    "import matplotlib.pyplot as plt\n",
    "import seaborn as sb\n",
    "\n",
    "from sklearn.metrics import confusion_matrix"
   ]
  },
  {
   "cell_type": "markdown",
   "metadata": {},
   "source": [
    "<hr>\n",
    "\n",
    "### 1. Confusion Matrix (non-Binary Classification / Multi-class classification)\n",
    "\n",
    "Confusion matrix untuk model yang mengklasifikasikan >2 kategori\n",
    "\n",
    "http://text-analytics101.rxnlp.com/2014/10/computing-precision-and-recall-for.html\n",
    "\n",
    "https://github.com/flairNLP/flair/issues/483"
   ]
  },
  {
   "cell_type": "code",
   "execution_count": 14,
   "metadata": {},
   "outputs": [
    {
     "data": {
      "text/plain": [
       "array([[0, 0, 1],\n",
       "       [0, 2, 0],\n",
       "       [0, 1, 2]], dtype=int64)"
      ]
     },
     "execution_count": 14,
     "metadata": {},
     "output_type": "execute_result"
    }
   ],
   "source": [
    "y_true = [\"Bebek\", \"Ayam\", \"Bebek\", \"Bebek\", \"Ayam\", \"Angsa\"]\n",
    "y_pred = [\"Ayam\", \"Ayam\", \"Bebek\", \"Bebek\", \"Ayam\", \"Bebek\"]\n",
    "confusion_matrix(y_true, y_pred)"
   ]
  },
  {
   "cell_type": "code",
   "execution_count": 15,
   "metadata": {},
   "outputs": [
    {
     "data": {
      "text/html": [
       "<div>\n",
       "<style scoped>\n",
       "    .dataframe tbody tr th:only-of-type {\n",
       "        vertical-align: middle;\n",
       "    }\n",
       "\n",
       "    .dataframe tbody tr th {\n",
       "        vertical-align: top;\n",
       "    }\n",
       "\n",
       "    .dataframe thead th {\n",
       "        text-align: right;\n",
       "    }\n",
       "</style>\n",
       "<table border=\"1\" class=\"dataframe\">\n",
       "  <thead>\n",
       "    <tr style=\"text-align: right;\">\n",
       "      <th></th>\n",
       "      <th>Pred Angsa</th>\n",
       "      <th>Pred Ayam</th>\n",
       "      <th>Pred Bebek</th>\n",
       "    </tr>\n",
       "  </thead>\n",
       "  <tbody>\n",
       "    <tr>\n",
       "      <th>Actual Angsa</th>\n",
       "      <td>0</td>\n",
       "      <td>0</td>\n",
       "      <td>1</td>\n",
       "    </tr>\n",
       "    <tr>\n",
       "      <th>Actual Ayam</th>\n",
       "      <td>0</td>\n",
       "      <td>2</td>\n",
       "      <td>0</td>\n",
       "    </tr>\n",
       "    <tr>\n",
       "      <th>Actual Bebek</th>\n",
       "      <td>0</td>\n",
       "      <td>1</td>\n",
       "      <td>2</td>\n",
       "    </tr>\n",
       "  </tbody>\n",
       "</table>\n",
       "</div>"
      ],
      "text/plain": [
       "              Pred Angsa  Pred Ayam  Pred Bebek\n",
       "Actual Angsa           0          0           1\n",
       "Actual Ayam            0          2           0\n",
       "Actual Bebek           0          1           2"
      ]
     },
     "execution_count": 15,
     "metadata": {},
     "output_type": "execute_result"
    }
   ],
   "source": [
    "df = pd.DataFrame(\n",
    "    confusion_matrix(y_true, y_pred, labels=[\"Angsa\", \"Ayam\", \"Bebek\"]), \n",
    "    columns=['Pred Angsa', 'Pred Ayam', 'Pred Bebek'], \n",
    "    index=['Actual Angsa', 'Actual Ayam', 'Actual Bebek']\n",
    ")\n",
    "df"
   ]
  },
  {
   "cell_type": "code",
   "execution_count": 16,
   "metadata": {},
   "outputs": [
    {
     "data": {
      "text/plain": [
       "<matplotlib.axes._subplots.AxesSubplot at 0x1cce4453d30>"
      ]
     },
     "execution_count": 16,
     "metadata": {},
     "output_type": "execute_result"
    },
    {
     "data": {
      "image/png": "[encoded data removed]",
      "text/plain": [
       "<Figure size 432x288 with 2 Axes>"
      ]
     },
     "metadata": {
      "needs_background": "light"
     },
     "output_type": "display_data"
    }
   ],
   "source": [
    "sb.heatmap(\n",
    "    df, annot=True, annot_kws={\"size\": 25}, cmap = sb.cm.rocket_r\n",
    ")"
   ]
  },
  {
   "cell_type": "markdown",
   "metadata": {},
   "source": [
    "<hr>\n",
    "\n",
    "### 2. TP, FN, FP & TN for multi-class case"
   ]
  },
  {
   "cell_type": "code",
   "execution_count": 17,
   "metadata": {},
   "outputs": [
    {
     "data": {
      "text/html": [
       "<div>\n",
       "<style scoped>\n",
       "    .dataframe tbody tr th:only-of-type {\n",
       "        vertical-align: middle;\n",
       "    }\n",
       "\n",
       "    .dataframe tbody tr th {\n",
       "        vertical-align: top;\n",
       "    }\n",
       "\n",
       "    .dataframe thead th {\n",
       "        text-align: right;\n",
       "    }\n",
       "</style>\n",
       "<table border=\"1\" class=\"dataframe\">\n",
       "  <thead>\n",
       "    <tr style=\"text-align: right;\">\n",
       "      <th></th>\n",
       "      <th>Pred Angsa</th>\n",
       "      <th>Pred Ayam</th>\n",
       "      <th>Pred Bebek</th>\n",
       "    </tr>\n",
       "  </thead>\n",
       "  <tbody>\n",
       "    <tr>\n",
       "      <th>Actual Angsa</th>\n",
       "      <td>0</td>\n",
       "      <td>0</td>\n",
       "      <td>1</td>\n",
       "    </tr>\n",
       "    <tr>\n",
       "      <th>Actual Ayam</th>\n",
       "      <td>0</td>\n",
       "      <td>2</td>\n",
       "      <td>0</td>\n",
       "    </tr>\n",
       "    <tr>\n",
       "      <th>Actual Bebek</th>\n",
       "      <td>0</td>\n",
       "      <td>1</td>\n",
       "      <td>2</td>\n",
       "    </tr>\n",
       "  </tbody>\n",
       "</table>\n",
       "</div>"
      ],
      "text/plain": [
       "              Pred Angsa  Pred Ayam  Pred Bebek\n",
       "Actual Angsa           0          0           1\n",
       "Actual Ayam            0          2           0\n",
       "Actual Bebek           0          1           2"
      ]
     },
     "execution_count": 17,
     "metadata": {},
     "output_type": "execute_result"
    }
   ],
   "source": [
    "df"
   ]
  },
  {
   "cell_type": "markdown",
   "metadata": {},
   "source": [
    "<hr>\n",
    "\n",
    "__a. TP, FN, FP & TN for Angsa__\n",
    "\n",
    "- | Pred Angsa | Pred Ayam | Pred Bebek\n",
    "- | - | - | -\n",
    "__Actual Angsa__ | __*TP.angsa*__ | __*FN.angsa*__ | __*FN.angsa*__\n",
    "__Actual Ayam__ | __*FP.angsa*__ | __*TN.angsa*__ | __*TN.angsa*__\n",
    "__Actual Bebek__ | __*FP.angsa*__ | __*TN.angsa*__ | __*TN.angsa*__"
   ]
  },
  {
   "cell_type": "code",
   "execution_count": 18,
   "metadata": {},
   "outputs": [
    {
     "data": {
      "text/plain": [
       "(0, 1, 0, 5)"
      ]
     },
     "execution_count": 18,
     "metadata": {},
     "output_type": "execute_result"
    }
   ],
   "source": [
    "TPangsa = 0\n",
    "FNangsa = 0 + 1\n",
    "FPangsa = 0 + 0\n",
    "TNangsa = 2 + 0 + 1 + 2\n",
    "TPangsa, FNangsa, FPangsa, TNangsa"
   ]
  },
  {
   "cell_type": "code",
   "execution_count": 19,
   "metadata": {},
   "outputs": [
    {
     "name": "stdout",
     "output_type": "stream",
     "text": [
      "Akurasi Angsa = 0.8333333333333334\n",
      "Akurasi Angsa = 0.6666666666666666\n"
     ]
    }
   ],
   "source": [
    "# akurasi = (TP + TN) / total_data\n",
    "print('Akurasi Angsa =', (TPangsa + TNangsa) / (len(y_true)))\n",
    "\n",
    "from sklearn.metrics import accuracy_score\n",
    "print('Akurasi Angsa =', accuracy_score(y_true, y_pred))\n",
    "# nilai akurasi berbeda karena sklearn tidak pakai nilai TN"
   ]
  },
  {
   "cell_type": "code",
   "execution_count": 10,
   "metadata": {},
   "outputs": [
    {
     "name": "stdout",
     "output_type": "stream",
     "text": [
      "Recall(+) Angsa = 0.0\n",
      "Recall(+) Angsa =  0.0\n"
     ]
    }
   ],
   "source": [
    "from sklearn.metrics import recall_score\n",
    "print('Recall(+) Angsa =', recall_score(y_true, y_pred, labels=['Angsa'], average='macro'))\n",
    "\n",
    "# TP Rate / Sensitivity / Recall (positif) = TP / total_actual_YES = TP / (TP + FN)\n",
    "print('Recall(+) Angsa = ', TPangsa / (TPangsa + FNangsa))"
   ]
  },
  {
   "cell_type": "code",
   "execution_count": 68,
   "metadata": {},
   "outputs": [
    {
     "name": "stdout",
     "output_type": "stream",
     "text": [
      "Precision(+) Angsa = 0\n",
      "Precision(+) Angsa = 1.0\n"
     ]
    }
   ],
   "source": [
    "# Precision(+) = TP / total_predict_YES = TP / (TP + FP)\n",
    "print('Precision(+) Angsa =', TPangsa / (TPangsa + FPangsa) if TPangsa+FPangsa!= 0 else 0)\n",
    "\n",
    "from sklearn.metrics import precision_score\n",
    "print('Precision(+) Angsa =', precision_score(y_true, y_pred, labels='Angsa', average=None, zero_division=True)[0])"
   ]
  },
  {
   "cell_type": "markdown",
   "metadata": {},
   "source": [
    "<hr>\n",
    "\n",
    "__b. TP, FN, FP & TN for Ayam__\n",
    "\n",
    "- | Pred Angsa | Pred Ayam | Pred Bebek\n",
    "- | - | - | -\n",
    "__Actual Angsa__ | __*TN.ayam*__ | __*FP.ayam*__ | __*TN.ayam*__\n",
    "__Actual Ayam__ | __*FN.ayam*__ | __*TP.ayam*__ | __*FN.ayam*__\n",
    "__Actual Bebek__ | __*TN.ayam*__ | __*FP.ayam*__ | __*TN.ayam*__"
   ]
  },
  {
   "cell_type": "code",
   "execution_count": 21,
   "metadata": {},
   "outputs": [
    {
     "data": {
      "text/html": [
       "<div>\n",
       "<style scoped>\n",
       "    .dataframe tbody tr th:only-of-type {\n",
       "        vertical-align: middle;\n",
       "    }\n",
       "\n",
       "    .dataframe tbody tr th {\n",
       "        vertical-align: top;\n",
       "    }\n",
       "\n",
       "    .dataframe thead th {\n",
       "        text-align: right;\n",
       "    }\n",
       "</style>\n",
       "<table border=\"1\" class=\"dataframe\">\n",
       "  <thead>\n",
       "    <tr style=\"text-align: right;\">\n",
       "      <th></th>\n",
       "      <th>Pred Angsa</th>\n",
       "      <th>Pred Ayam</th>\n",
       "      <th>Pred Bebek</th>\n",
       "    </tr>\n",
       "  </thead>\n",
       "  <tbody>\n",
       "    <tr>\n",
       "      <th>Actual Angsa</th>\n",
       "      <td>0</td>\n",
       "      <td>0</td>\n",
       "      <td>1</td>\n",
       "    </tr>\n",
       "    <tr>\n",
       "      <th>Actual Ayam</th>\n",
       "      <td>0</td>\n",
       "      <td>2</td>\n",
       "      <td>0</td>\n",
       "    </tr>\n",
       "    <tr>\n",
       "      <th>Actual Bebek</th>\n",
       "      <td>0</td>\n",
       "      <td>1</td>\n",
       "      <td>2</td>\n",
       "    </tr>\n",
       "  </tbody>\n",
       "</table>\n",
       "</div>"
      ],
      "text/plain": [
       "              Pred Angsa  Pred Ayam  Pred Bebek\n",
       "Actual Angsa           0          0           1\n",
       "Actual Ayam            0          2           0\n",
       "Actual Bebek           0          1           2"
      ]
     },
     "execution_count": 21,
     "metadata": {},
     "output_type": "execute_result"
    }
   ],
   "source": [
    "df"
   ]
  },
  {
   "cell_type": "code",
   "execution_count": 22,
   "metadata": {},
   "outputs": [
    {
     "data": {
      "text/plain": [
       "(2, 0, 1, 3)"
      ]
     },
     "execution_count": 22,
     "metadata": {},
     "output_type": "execute_result"
    }
   ],
   "source": [
    "TPayam = 2\n",
    "FNayam = 0 + 0\n",
    "FPayam = 0 + 1\n",
    "TNayam = 0 + 0 + 1 + 2\n",
    "TPayam, FNayam, FPayam, TNayam"
   ]
  },
  {
   "cell_type": "code",
   "execution_count": 23,
   "metadata": {},
   "outputs": [
    {
     "name": "stdout",
     "output_type": "stream",
     "text": [
      "Recall(+) Ayam = 1.0\n",
      "Recall(+) Ayam =  1.0\n"
     ]
    }
   ],
   "source": [
    "from sklearn.metrics import recall_score\n",
    "print('Recall(+) Ayam =', recall_score(y_true, y_pred, labels=['Ayam'], average='macro'))\n",
    "\n",
    "# TP Rate / Sensitivity / Recall (positif) = TP / total_actual_YES = TP / (TP + FN)\n",
    "print('Recall(+) Ayam = ', TPayam / (TPayam + FNayam))"
   ]
  },
  {
   "cell_type": "code",
   "execution_count": 55,
   "metadata": {},
   "outputs": [
    {
     "name": "stdout",
     "output_type": "stream",
     "text": [
      "Precision(+) Ayam = 0.6666666666666666\n",
      "Precision(+) Ayam = 0.6666666666666666\n"
     ]
    }
   ],
   "source": [
    "# Precision(+) = TP / total_predict_YES = TP / (TP + FP)\n",
    "print('Precision(+) Ayam =', TPayam / (TPayam + FPayam) if TPayam+FPayam!= 0 else 0)\n",
    "\n",
    "from sklearn.metrics import precision_score\n",
    "print('Precision(+) Ayam =', precision_score(y_true, y_pred, labels='Ayam', average='micro') if TPayam+FPayam!= 0 else 0)"
   ]
  },
  {
   "cell_type": "markdown",
   "metadata": {},
   "source": [
    "<hr>\n",
    "\n",
    "__c. TP, FN, FP & TN for Bebek__\n",
    "\n",
    "- | Pred Angsa | Pred Ayam | Pred Bebek\n",
    "- | - | - | -\n",
    "__Actual Angsa__ | __*TN.bebek*__ | __*TN.bebek*__ | __*FP.bebek*__\n",
    "__Actual Ayam__ | __*TN.bebek*__ | __*TN.bebek*__ | __*FP.bebek*__\n",
    "__Actual Bebek__ | __*FN.bebek*__ | __*FN.bebek*__ | __*TP.bebek*__"
   ]
  },
  {
   "cell_type": "code",
   "execution_count": 25,
   "metadata": {},
   "outputs": [
    {
     "data": {
      "text/html": [
       "<div>\n",
       "<style scoped>\n",
       "    .dataframe tbody tr th:only-of-type {\n",
       "        vertical-align: middle;\n",
       "    }\n",
       "\n",
       "    .dataframe tbody tr th {\n",
       "        vertical-align: top;\n",
       "    }\n",
       "\n",
       "    .dataframe thead th {\n",
       "        text-align: right;\n",
       "    }\n",
       "</style>\n",
       "<table border=\"1\" class=\"dataframe\">\n",
       "  <thead>\n",
       "    <tr style=\"text-align: right;\">\n",
       "      <th></th>\n",
       "      <th>Pred Angsa</th>\n",
       "      <th>Pred Ayam</th>\n",
       "      <th>Pred Bebek</th>\n",
       "    </tr>\n",
       "  </thead>\n",
       "  <tbody>\n",
       "    <tr>\n",
       "      <th>Actual Angsa</th>\n",
       "      <td>0</td>\n",
       "      <td>0</td>\n",
       "      <td>1</td>\n",
       "    </tr>\n",
       "    <tr>\n",
       "      <th>Actual Ayam</th>\n",
       "      <td>0</td>\n",
       "      <td>2</td>\n",
       "      <td>0</td>\n",
       "    </tr>\n",
       "    <tr>\n",
       "      <th>Actual Bebek</th>\n",
       "      <td>0</td>\n",
       "      <td>1</td>\n",
       "      <td>2</td>\n",
       "    </tr>\n",
       "  </tbody>\n",
       "</table>\n",
       "</div>"
      ],
      "text/plain": [
       "              Pred Angsa  Pred Ayam  Pred Bebek\n",
       "Actual Angsa           0          0           1\n",
       "Actual Ayam            0          2           0\n",
       "Actual Bebek           0          1           2"
      ]
     },
     "execution_count": 25,
     "metadata": {},
     "output_type": "execute_result"
    }
   ],
   "source": [
    "df"
   ]
  },
  {
   "cell_type": "code",
   "execution_count": 26,
   "metadata": {},
   "outputs": [
    {
     "data": {
      "text/plain": [
       "(2, 1, 1, 2)"
      ]
     },
     "execution_count": 26,
     "metadata": {},
     "output_type": "execute_result"
    }
   ],
   "source": [
    "TPbebek = 2\n",
    "FNbebek = 0 + 1\n",
    "FPbebek = 0 + 1\n",
    "TNbebek = 0 + 0 + 0 + 2\n",
    "TPbebek, FNbebek, FPbebek, TNbebek"
   ]
  },
  {
   "cell_type": "code",
   "execution_count": 27,
   "metadata": {},
   "outputs": [
    {
     "name": "stdout",
     "output_type": "stream",
     "text": [
      "Recall(+) Bebek = 0.6666666666666666\n",
      "Recall(+) Bebek =  0.6666666666666666\n"
     ]
    }
   ],
   "source": [
    "from sklearn.metrics import recall_score\n",
    "print('Recall(+) Bebek =', recall_score(y_true, y_pred, labels=['Bebek'], average='macro'))\n",
    "\n",
    "# TP Rate / Sensitivity / Recall (positif) = TP / total_actual_YES = TP / (TP + FN)\n",
    "print('Recall(+) Bebek = ', TPbebek / (TPbebek + FNbebek))"
   ]
  },
  {
   "cell_type": "code",
   "execution_count": 84,
   "metadata": {},
   "outputs": [
    {
     "name": "stdout",
     "output_type": "stream",
     "text": [
      "Precision(+) Bebek = 0.6666666666666666\n",
      "Precision(+) Bebek = 0.6666666666666666\n"
     ]
    }
   ],
   "source": [
    "# Precision(+) = TP / total_predict_YES = TP / (TP + FP)\n",
    "print('Precision(+) Bebek =', TPbebek / (TPbebek + FPbebek) if TPbebek+FPbebek!= 0 else 0)\n",
    "\n",
    "from sklearn.metrics import precision_score\n",
    "print('Precision(+) Bebek =', precision_score(y_true, y_pred, labels='Bebek', average='micro') if TPayam+FPayam!= 0 else 0)"
   ]
  },
  {
   "cell_type": "markdown",
   "metadata": {},
   "source": [
    "<hr>\n",
    "\n",
    "### 3. Global evaluation metrics for multiclass"
   ]
  },
  {
   "cell_type": "markdown",
   "metadata": {},
   "source": [
    "- __Manual calculation__"
   ]
  },
  {
   "cell_type": "code",
   "execution_count": 85,
   "metadata": {},
   "outputs": [
    {
     "name": "stdout",
     "output_type": "stream",
     "text": [
      "Recall(+) Angsa =  0.0\n",
      "Recall(+) Ayam =  1.0\n",
      "Recall(+) Bebek =  0.6666666666666666\n"
     ]
    }
   ],
   "source": [
    "print('Recall(+) Angsa = ', TPangsa / (TPangsa + FNangsa))\n",
    "print('Recall(+) Ayam = ', TPayam / (TPayam + FNayam))\n",
    "print('Recall(+) Bebek = ', TPbebek / (TPbebek + FNbebek))"
   ]
  },
  {
   "cell_type": "code",
   "execution_count": 86,
   "metadata": {},
   "outputs": [
    {
     "name": "stdout",
     "output_type": "stream",
     "text": [
      "Precision(+) Angsa = 1\n",
      "Precision(+) Ayam = 0.6666666666666666\n",
      "Precision(+) Bebek = 0.6666666666666666\n"
     ]
    }
   ],
   "source": [
    "print('Precision(+) Angsa =', TPangsa / (TPangsa + FPangsa) if FPangsa!=0 and TPangsa!=0 else (1 if FPangsa==0 and TPangsa==0 else 0))\n",
    "print('Precision(+) Ayam =', TPayam / (TPayam + FPayam) if TPayam+FPayam!= 0 else 0)\n",
    "print('Precision(+) Bebek =', TPbebek / (TPbebek + FPbebek) if TPayam+FPayam!= 0 else 0)"
   ]
  },
  {
   "cell_type": "markdown",
   "metadata": {},
   "source": [
    "<hr>\n",
    "\n",
    "- __Sklearn precision recall fscore support__"
   ]
  },
  {
   "cell_type": "code",
   "execution_count": 87,
   "metadata": {},
   "outputs": [
    {
     "name": "stdout",
     "output_type": "stream",
     "text": [
      "(array([1.        , 0.66666667, 0.66666667]), array([0.        , 1.        , 0.66666667]), array([0.        , 0.8       , 0.66666667]), array([1, 2, 3], dtype=int64))\n",
      "\n",
      "Precision [\"Angsa\", \"Ayam\", \"Bebek\"] = [1.         0.66666667 0.66666667]\n",
      "Recall    [\"Angsa\", \"Ayam\", \"Bebek\"] = [0.         1.         0.66666667]\n",
      "Fscore    [\"Angsa\", \"Ayam\", \"Bebek\"] = [0.         0.8        0.66666667]\n",
      "Support   [\"Angsa\", \"Ayam\", \"Bebek\"] = [1 2 3]\n"
     ]
    }
   ],
   "source": [
    "from sklearn.metrics import precision_recall_fscore_support\n",
    "precision, recall, fscore, support = precision_recall_fscore_support(y_true, y_pred, zero_division=True)\n",
    "# SUPPORT is the number of occurrences of each class in y_true\n",
    "\n",
    "print(precision_recall_fscore_support(y_true, y_pred, zero_division=True))\n",
    "print()\n",
    "print('Precision [\"Angsa\", \"Ayam\", \"Bebek\"] =', precision)\n",
    "print('Recall    [\"Angsa\", \"Ayam\", \"Bebek\"] =', recall)\n",
    "print('Fscore    [\"Angsa\", \"Ayam\", \"Bebek\"] =', fscore)\n",
    "print('Support   [\"Angsa\", \"Ayam\", \"Bebek\"] =', support)"
   ]
  },
  {
   "cell_type": "markdown",
   "metadata": {},
   "source": [
    "<hr>\n",
    "\n",
    "- __Sklearn classification report__"
   ]
  },
  {
   "cell_type": "code",
   "execution_count": 88,
   "metadata": {},
   "outputs": [
    {
     "name": "stdout",
     "output_type": "stream",
     "text": [
      "              precision    recall  f1-score   support\n",
      "\n",
      "       Angsa       1.00      0.00      0.00         1\n",
      "        Ayam       0.67      1.00      0.80         2\n",
      "       Bebek       0.67      0.67      0.67         3\n",
      "\n",
      "    accuracy                           0.67         6\n",
      "   macro avg       0.78      0.56      0.49         6\n",
      "weighted avg       0.72      0.67      0.60         6\n",
      "\n"
     ]
    }
   ],
   "source": [
    "from sklearn.metrics import classification_report\n",
    "\n",
    "print(classification_report(y_true, y_pred, zero_division=True))\n",
    "# SUPPORT is the number of occurrences of each class in y_true"
   ]
  }
 ],
 "metadata": {
  "kernelspec": {
   "display_name": "Python 3",
   "language": "python",
   "name": "python3"
  },
  "language_info": {
   "codemirror_mode": {
    "name": "ipython",
    "version": 3
   },
   "file_extension": ".py",
   "mimetype": "text/x-python",
   "name": "python",
   "nbconvert_exporter": "python",
   "pygments_lexer": "ipython3",
   "version": "3.7.1"
  }
 },
 "nbformat": 4,
 "nbformat_minor": 4
}
