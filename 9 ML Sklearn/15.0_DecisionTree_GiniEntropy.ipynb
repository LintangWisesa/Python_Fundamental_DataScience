{
 "cells": [
  {
   "cell_type": "code",
   "execution_count": null,
   "metadata": {},
   "outputs": [],
   "source": [
    "import numpy as np\n",
    "import pandas as pd\n",
    "import matplotlib.pyplot as plt"
   ]
  },
  {
   "cell_type": "code",
   "execution_count": null,
   "metadata": {},
   "outputs": [],
   "source": [
    "df = pd.DataFrame({\n",
    "    'sarjana': [0, 0, 0, 1, 1, 1],\n",
    "    'diterima': [0, 0, 1, 0, 1, 1]\n",
    "})\n",
    "# 1 root & 2 leaf = stump\n",
    "# root node / starting question\n",
    "# leaves / conclusion\n",
    "# internal node / question branch\n",
    "df"
   ]
  },
  {
   "cell_type": "raw",
   "metadata": {},
   "source": [
    "    Sarjana ?\n",
    "        |\n",
    "true ___|___ false\n",
    "     |      |\n",
    "    dtrm    dtrm\n",
    "    2+ 1-   1+ 2-"
   ]
  },
  {
   "cell_type": "markdown",
   "metadata": {},
   "source": [
    "### Gini Impurity\n",
    "\n",
    "- Hitung Gini untuk tiap leaf dalam feature: __gini S1True__ & __gini S1False__\n",
    "- Gini $\\displaystyle = 1 - $ (probability TRUE) $^2 - $ (probability FALSE) $^2$\n",
    "- Hitung Gini total untuk 1 feature: __gini S1__"
   ]
  },
  {
   "cell_type": "raw",
   "metadata": {},
   "source": [
    "    Sarjana ?\n",
    "        |\n",
    "true ___|___ false\n",
    "     |      |\n",
    "    dtrm    dtrm\n",
    "    2+ 1-   1+ 2-\n",
    "  g:0.4444  g:0.4444\n",
    "    \n",
    "- giniS1True = 1 - (2/3)^2 - (1/3)^2 = 0.44444\n",
    "- giniS1False = 1 - (1/3)^2 - (2/3)^2 = 0.44444\n",
    "# - giniSarjana = sum (totalDataLEAFx / totalData) * giniLEAFx\n",
    "- giniSarajana = (3/6)*0.44444 + (3/6)*0.44444"
   ]
  },
  {
   "cell_type": "code",
   "execution_count": null,
   "metadata": {},
   "outputs": [],
   "source": [
    "giniS1True = 1 - (2/3)**2 - (1/3)**2\n",
    "giniS1False = 1 - (2/3)**2 - (1/3)**2\n",
    "giniS1 = (3/6)*giniS1True + (3/6)*giniS1False\n",
    "giniS1True, giniS1False, giniS1"
   ]
  },
  {
   "cell_type": "code",
   "execution_count": null,
   "metadata": {},
   "outputs": [],
   "source": [
    "from sklearn import tree\n",
    "model = tree.DecisionTreeClassifier()\n",
    "model.fit(df[['sarjana']], df['diterima'])\n",
    "model.predict([[0]])[0]"
   ]
  },
  {
   "cell_type": "code",
   "execution_count": null,
   "metadata": {},
   "outputs": [],
   "source": [
    "tree.plot_tree(model.fit(df[['sarjana']], df['diterima']))"
   ]
  },
  {
   "cell_type": "code",
   "execution_count": null,
   "metadata": {},
   "outputs": [],
   "source": [
    "tree.export_graphviz(\n",
    "    model.fit(df[['sarjana']], df['diterima']),\n",
    "    out_file = 'decision.dot',\n",
    "    feature_names = ['Sarjana'],\n",
    "    class_names = ['Diterima', 'Tidak diterima']\n",
    ")\n",
    "\n",
    "### [https://dreampuf.github.io/GraphvizOnline](https://dreampuf.github.io/GraphvizOnline)"
   ]
  },
  {
   "cell_type": "markdown",
   "metadata": {},
   "source": [
    "### Entropy & Gain\n",
    "\n",
    "- Hitung Entropy untuk tiap leaf di feature: E(s1True) & E(s1False)\n",
    "- Entropy $\\displaystyle = \\sum -p_i \\cdot log_2 (p_i)$\n",
    "- Gain = E - E.feature"
   ]
  },
  {
   "cell_type": "raw",
   "metadata": {},
   "source": [
    "    Sarjana ?\n",
    "        |\n",
    "true ___|___ false\n",
    "     |      |\n",
    "    dtrm    dtrm\n",
    "    2+ 1-   1+ 2-\n",
    "  e:0.918    e:0.918"
   ]
  },
  {
   "cell_type": "code",
   "execution_count": null,
   "metadata": {},
   "outputs": [],
   "source": [
    "Es1TruedTrue = -1 * (2/3) * np.log2(2/3)\n",
    "Es1TruedFalse = -1 * (1/3) * np.log2(1/3)\n",
    "Es1True = Es1TruedTrue + Es1TruedFalse\n",
    "Es1TruedTrue, Es1TruedFalse, Es1True"
   ]
  },
  {
   "cell_type": "code",
   "execution_count": null,
   "metadata": {},
   "outputs": [],
   "source": [
    "Es1FalsedTrue = -1 * (1/3) * np.log2(1/3)\n",
    "Es1FalsedFalse = -1 * (2/3) * np.log2(2/3)\n",
    "Es1False = Es1FalsedTrue + Es1FalsedFalse\n",
    "Es1FalsedTrue, Es1FalsedFalse, Es1False"
   ]
  },
  {
   "cell_type": "code",
   "execution_count": null,
   "metadata": {},
   "outputs": [],
   "source": [
    "Esarjana = -1 * (3/6) * np.log2(3/6) + -1 * (3/6) * np.log2(3/6)\n",
    "Esarjana"
   ]
  },
  {
   "cell_type": "code",
   "execution_count": null,
   "metadata": {},
   "outputs": [],
   "source": [
    "# information Gain s1true = E sarjana - E s1 true\n",
    "gains1true = Esarjana - Es1True\n",
    "gains1true"
   ]
  },
  {
   "cell_type": "code",
   "execution_count": null,
   "metadata": {},
   "outputs": [],
   "source": [
    "from sklearn import tree\n",
    "model = tree.DecisionTreeClassifier(criterion='entropy')\n",
    "model.fit(df[['sarjana']], df['diterima'])\n",
    "model.predict([[0]])[0]"
   ]
  },
  {
   "cell_type": "code",
   "execution_count": null,
   "metadata": {},
   "outputs": [],
   "source": [
    "tree.plot_tree(model.fit(df[['sarjana']], df['diterima']))"
   ]
  },
  {
   "cell_type": "code",
   "execution_count": null,
   "metadata": {},
   "outputs": [],
   "source": [
    "df = pd.DataFrame([\n",
    "    {'sarjana':0, 'sehat':1, 'supel':1, 'diterima':1},\n",
    "    {'sarjana':1, 'sehat':0, 'supel':0, 'diterima':1},\n",
    "    {'sarjana':0, 'sehat':1, 'supel':1, 'diterima':0},\n",
    "    {'sarjana':0, 'sehat':0, 'supel':1, 'diterima':0},\n",
    "    {'sarjana':1, 'sehat':0, 'supel':1, 'diterima':0},\n",
    "])\n",
    "df"
   ]
  },
  {
   "cell_type": "raw",
   "metadata": {},
   "source": [
    "    Sarjana ?\n",
    "        |\n",
    "true ___|___ false\n",
    "     |      |\n",
    "    dtrm    dtrm\n",
    "    2+ 0-   0+ 3-\n",
    "\n",
    "- gini s1True = 1 - (2/2)^2 - (0/2)^2 = 0\n",
    "- gini s1False = 1 - (0/3)^2 - (3/3)^2 = 0\n",
    "- gini Sarjana = (2/5) * 0 + (3/5) * 0 = 0\n",
    "\n",
    "    Sehat ?\n",
    "        |\n",
    "true ___|___ false\n",
    "     |      |\n",
    "    dtrm    dtrm\n",
    "    1+ 1-   1+ 2-\n",
    "\n",
    "- gini sehatTrue = 1 - (1/2)^2 - (1/2)^2 = 0.5\n",
    "- gini sehatFalse = 1 - (1/3)^2 - (2/3)^2 = 0.44444\n",
    "- gini Sehat = (2/5)*0.5 + (3/5)*0.44444 = 0.46"
   ]
  },
  {
   "cell_type": "code",
   "execution_count": null,
   "metadata": {},
   "outputs": [],
   "source": [
    "from sklearn import tree\n",
    "model = tree.DecisionTreeClassifier(criterion='gini')\n",
    "model.fit(df[['sarjana', 'sehat', 'supel']], df['diterima'])\n",
    "model.predict([[0, 1, 1]])[0]"
   ]
  },
  {
   "cell_type": "code",
   "execution_count": null,
   "metadata": {},
   "outputs": [],
   "source": [
    "tree.plot_tree(\n",
    "    model.fit(df[['sarjana', 'sehat', 'supel']], df['diterima'])\n",
    ")"
   ]
  },
  {
   "cell_type": "code",
   "execution_count": null,
   "metadata": {},
   "outputs": [],
   "source": [
    "tree.export_graphviz(\n",
    "    model.fit(df[['sarjana', 'sehat', 'supel']], df['diterima']),\n",
    "    out_file = 'decision2.dot',\n",
    "    feature_names = ['Sarjana', 'Sehat', 'Supel'],\n",
    "    class_names = ['Diterima', 'Tidak diterima']\n",
    ")"
   ]
  },
  {
   "cell_type": "code",
   "execution_count": null,
   "metadata": {},
   "outputs": [],
   "source": [
    "from sklearn.datasets import load_iris\n",
    "x = load_iris()"
   ]
  },
  {
   "cell_type": "code",
   "execution_count": null,
   "metadata": {},
   "outputs": [],
   "source": [
    "df = pd.DataFrame(x['data'], columns=['sl','sw','pl','pw'])\n",
    "df['target'] = x['target']\n",
    "model = tree.DecisionTreeClassifier()\n",
    "model.fit(df[['sl','sw','pl','pw']], df['target'])\n",
    "\n",
    "# tree.export_graphviz(\n",
    "#     model.fit(df[['sl','sw','pl','pw']], df['target']),\n",
    "#     out_file = 'decisionIris.dot',\n",
    "#     feature_names = ['SL', 'SW', 'PL', 'PW'],\n",
    "#     class_names = x['target_names']\n",
    "# )"
   ]
  }
 ],
 "metadata": {
  "kernelspec": {
   "display_name": "Python 3",
   "language": "python",
   "name": "python3"
  },
  "language_info": {
   "codemirror_mode": {
    "name": "ipython",
    "version": 3
   },
   "file_extension": ".py",
   "mimetype": "text/x-python",
   "name": "python",
   "nbconvert_exporter": "python",
   "pygments_lexer": "ipython3",
   "version": "3.8.1"
  }
 },
 "nbformat": 4,
 "nbformat_minor": 4
}
