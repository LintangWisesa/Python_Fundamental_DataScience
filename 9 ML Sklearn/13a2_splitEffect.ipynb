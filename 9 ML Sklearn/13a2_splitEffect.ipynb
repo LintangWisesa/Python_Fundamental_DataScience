{
 "cells": [
  {
   "cell_type": "markdown",
   "metadata": {},
   "source": [
    "# Splitting Data Effect"
   ]
  },
  {
   "cell_type": "code",
   "execution_count": 91,
   "metadata": {},
   "outputs": [],
   "source": [
    "import pandas as pd\n",
    "import numpy as np\n",
    "import matplotlib.pyplot as plt\n",
    "from sklearn.linear_model import LinearRegression"
   ]
  },
  {
   "cell_type": "code",
   "execution_count": 92,
   "metadata": {},
   "outputs": [
    {
     "data": {
      "text/html": [
       "<div>\n",
       "<style scoped>\n",
       "    .dataframe tbody tr th:only-of-type {\n",
       "        vertical-align: middle;\n",
       "    }\n",
       "\n",
       "    .dataframe tbody tr th {\n",
       "        vertical-align: top;\n",
       "    }\n",
       "\n",
       "    .dataframe thead th {\n",
       "        text-align: right;\n",
       "    }\n",
       "</style>\n",
       "<table border=\"1\" class=\"dataframe\">\n",
       "  <thead>\n",
       "    <tr style=\"text-align: right;\">\n",
       "      <th></th>\n",
       "      <th>x</th>\n",
       "      <th>y</th>\n",
       "    </tr>\n",
       "  </thead>\n",
       "  <tbody>\n",
       "    <tr>\n",
       "      <th>0</th>\n",
       "      <td>0</td>\n",
       "      <td>-3.312934</td>\n",
       "    </tr>\n",
       "    <tr>\n",
       "      <th>1</th>\n",
       "      <td>1</td>\n",
       "      <td>-0.917451</td>\n",
       "    </tr>\n",
       "    <tr>\n",
       "      <th>2</th>\n",
       "      <td>2</td>\n",
       "      <td>0.963349</td>\n",
       "    </tr>\n",
       "    <tr>\n",
       "      <th>3</th>\n",
       "      <td>3</td>\n",
       "      <td>2.529560</td>\n",
       "    </tr>\n",
       "    <tr>\n",
       "      <th>4</th>\n",
       "      <td>4</td>\n",
       "      <td>3.530503</td>\n",
       "    </tr>\n",
       "  </tbody>\n",
       "</table>\n",
       "</div>"
      ],
      "text/plain": [
       "   x         y\n",
       "0  0 -3.312934\n",
       "1  1 -0.917451\n",
       "2  2  0.963349\n",
       "3  3  2.529560\n",
       "4  4  3.530503"
      ]
     },
     "execution_count": 92,
     "metadata": {},
     "output_type": "execute_result"
    }
   ],
   "source": [
    "data = {\n",
    "    'x': np.arange(10),\n",
    "    'y': np.arange(10) + np.random.randn(10)\n",
    "#     'y': np.arange(10)\n",
    "}\n",
    "df = pd.DataFrame(data)\n",
    "df.head()"
   ]
  },
  {
   "cell_type": "markdown",
   "metadata": {},
   "source": [
    "<hr>\n",
    "\n",
    "### Linear Regression tanpa splitting dataset"
   ]
  },
  {
   "cell_type": "code",
   "execution_count": 93,
   "metadata": {},
   "outputs": [
    {
     "data": {
      "text/html": [
       "<div>\n",
       "<style scoped>\n",
       "    .dataframe tbody tr th:only-of-type {\n",
       "        vertical-align: middle;\n",
       "    }\n",
       "\n",
       "    .dataframe tbody tr th {\n",
       "        vertical-align: top;\n",
       "    }\n",
       "\n",
       "    .dataframe thead th {\n",
       "        text-align: right;\n",
       "    }\n",
       "</style>\n",
       "<table border=\"1\" class=\"dataframe\">\n",
       "  <thead>\n",
       "    <tr style=\"text-align: right;\">\n",
       "      <th></th>\n",
       "      <th>x</th>\n",
       "      <th>y</th>\n",
       "      <th>y\"</th>\n",
       "    </tr>\n",
       "  </thead>\n",
       "  <tbody>\n",
       "    <tr>\n",
       "      <th>0</th>\n",
       "      <td>0</td>\n",
       "      <td>-3.312934</td>\n",
       "      <td>-2.252471</td>\n",
       "    </tr>\n",
       "    <tr>\n",
       "      <th>1</th>\n",
       "      <td>1</td>\n",
       "      <td>-0.917451</td>\n",
       "      <td>-0.900297</td>\n",
       "    </tr>\n",
       "    <tr>\n",
       "      <th>2</th>\n",
       "      <td>2</td>\n",
       "      <td>0.963349</td>\n",
       "      <td>0.451876</td>\n",
       "    </tr>\n",
       "    <tr>\n",
       "      <th>3</th>\n",
       "      <td>3</td>\n",
       "      <td>2.529560</td>\n",
       "      <td>1.804050</td>\n",
       "    </tr>\n",
       "    <tr>\n",
       "      <th>4</th>\n",
       "      <td>4</td>\n",
       "      <td>3.530503</td>\n",
       "      <td>3.156224</td>\n",
       "    </tr>\n",
       "  </tbody>\n",
       "</table>\n",
       "</div>"
      ],
      "text/plain": [
       "   x         y        y\"\n",
       "0  0 -3.312934 -2.252471\n",
       "1  1 -0.917451 -0.900297\n",
       "2  2  0.963349  0.451876\n",
       "3  3  2.529560  1.804050\n",
       "4  4  3.530503  3.156224"
      ]
     },
     "execution_count": 93,
     "metadata": {},
     "output_type": "execute_result"
    }
   ],
   "source": [
    "model = LinearRegression()\n",
    "model.fit(df[['x']], df['y'])\n",
    "\n",
    "df['y\"'] = model.predict(df[['x']])\n",
    "df.head()"
   ]
  },
  {
   "cell_type": "code",
   "execution_count": 94,
   "metadata": {},
   "outputs": [
    {
     "data": {
      "text/plain": [
       "[<matplotlib.lines.Line2D at 0x1b03069e588>]"
      ]
     },
     "execution_count": 94,
     "metadata": {},
     "output_type": "execute_result"
    },
    {
     "data": {
      "image/png": "[encoded data removed]",
      "text/plain": [
       "<Figure size 432x288 with 1 Axes>"
      ]
     },
     "metadata": {
      "needs_background": "light"
     },
     "output_type": "display_data"
    }
   ],
   "source": [
    "plt.plot(df['x'], df['y'], 'ro')\n",
    "plt.plot(df['x'], df['y\"'], 'g-')"
   ]
  },
  {
   "cell_type": "code",
   "execution_count": 95,
   "metadata": {},
   "outputs": [
    {
     "name": "stdout",
     "output_type": "stream",
     "text": [
      "MSE: 0.49346197226481403\n",
      "RMSE: 0.702468484890827\n"
     ]
    }
   ],
   "source": [
    "# RMSE\n",
    "from sklearn.metrics import mean_squared_error\n",
    "print('MSE:', mean_squared_error(df['y'], df['y\"']))\n",
    "print('RMSE:', np.sqrt(mean_squared_error(df['y'], df['y\"'])))"
   ]
  },
  {
   "cell_type": "markdown",
   "metadata": {},
   "source": [
    "<hr>\n",
    "\n",
    "### Linear Regression: split data, namun hanya 2 data pertama sbg training"
   ]
  },
  {
   "cell_type": "code",
   "execution_count": 96,
   "metadata": {},
   "outputs": [
    {
     "data": {
      "text/html": [
       "<div>\n",
       "<style scoped>\n",
       "    .dataframe tbody tr th:only-of-type {\n",
       "        vertical-align: middle;\n",
       "    }\n",
       "\n",
       "    .dataframe tbody tr th {\n",
       "        vertical-align: top;\n",
       "    }\n",
       "\n",
       "    .dataframe thead th {\n",
       "        text-align: right;\n",
       "    }\n",
       "</style>\n",
       "<table border=\"1\" class=\"dataframe\">\n",
       "  <thead>\n",
       "    <tr style=\"text-align: right;\">\n",
       "      <th></th>\n",
       "      <th>x</th>\n",
       "      <th>y</th>\n",
       "      <th>y\"</th>\n",
       "      <th>y\"2</th>\n",
       "    </tr>\n",
       "  </thead>\n",
       "  <tbody>\n",
       "    <tr>\n",
       "      <th>0</th>\n",
       "      <td>0</td>\n",
       "      <td>-3.312934</td>\n",
       "      <td>-2.252471</td>\n",
       "      <td>-3.312934</td>\n",
       "    </tr>\n",
       "    <tr>\n",
       "      <th>1</th>\n",
       "      <td>1</td>\n",
       "      <td>-0.917451</td>\n",
       "      <td>-0.900297</td>\n",
       "      <td>-0.917451</td>\n",
       "    </tr>\n",
       "    <tr>\n",
       "      <th>2</th>\n",
       "      <td>2</td>\n",
       "      <td>0.963349</td>\n",
       "      <td>0.451876</td>\n",
       "      <td>1.478033</td>\n",
       "    </tr>\n",
       "    <tr>\n",
       "      <th>3</th>\n",
       "      <td>3</td>\n",
       "      <td>2.529560</td>\n",
       "      <td>1.804050</td>\n",
       "      <td>3.873516</td>\n",
       "    </tr>\n",
       "    <tr>\n",
       "      <th>4</th>\n",
       "      <td>4</td>\n",
       "      <td>3.530503</td>\n",
       "      <td>3.156224</td>\n",
       "      <td>6.268999</td>\n",
       "    </tr>\n",
       "    <tr>\n",
       "      <th>5</th>\n",
       "      <td>5</td>\n",
       "      <td>5.469711</td>\n",
       "      <td>4.508397</td>\n",
       "      <td>8.664482</td>\n",
       "    </tr>\n",
       "    <tr>\n",
       "      <th>6</th>\n",
       "      <td>6</td>\n",
       "      <td>4.583732</td>\n",
       "      <td>5.860571</td>\n",
       "      <td>11.059965</td>\n",
       "    </tr>\n",
       "    <tr>\n",
       "      <th>7</th>\n",
       "      <td>7</td>\n",
       "      <td>7.406680</td>\n",
       "      <td>7.212745</td>\n",
       "      <td>13.455449</td>\n",
       "    </tr>\n",
       "    <tr>\n",
       "      <th>8</th>\n",
       "      <td>8</td>\n",
       "      <td>8.038936</td>\n",
       "      <td>8.564919</td>\n",
       "      <td>15.850932</td>\n",
       "    </tr>\n",
       "    <tr>\n",
       "      <th>9</th>\n",
       "      <td>9</td>\n",
       "      <td>10.031019</td>\n",
       "      <td>9.917092</td>\n",
       "      <td>18.246415</td>\n",
       "    </tr>\n",
       "  </tbody>\n",
       "</table>\n",
       "</div>"
      ],
      "text/plain": [
       "   x          y        y\"        y\"2\n",
       "0  0  -3.312934 -2.252471  -3.312934\n",
       "1  1  -0.917451 -0.900297  -0.917451\n",
       "2  2   0.963349  0.451876   1.478033\n",
       "3  3   2.529560  1.804050   3.873516\n",
       "4  4   3.530503  3.156224   6.268999\n",
       "5  5   5.469711  4.508397   8.664482\n",
       "6  6   4.583732  5.860571  11.059965\n",
       "7  7   7.406680  7.212745  13.455449\n",
       "8  8   8.038936  8.564919  15.850932\n",
       "9  9  10.031019  9.917092  18.246415"
      ]
     },
     "execution_count": 96,
     "metadata": {},
     "output_type": "execute_result"
    }
   ],
   "source": [
    "# fit model hanya dari 2 data pertama\n",
    "model.fit(df[['x']].iloc[:2], df['y'].iloc[:2])\n",
    "df['y\"2'] = model.predict(df[['x']])\n",
    "df"
   ]
  },
  {
   "cell_type": "code",
   "execution_count": 97,
   "metadata": {},
   "outputs": [
    {
     "data": {
      "text/plain": [
       "<matplotlib.legend.Legend at 0x1b02f13a240>"
      ]
     },
     "execution_count": 97,
     "metadata": {},
     "output_type": "execute_result"
    },
    {
     "data": {
      "image/png": "[encoded data removed]",
      "text/plain": [
       "<Figure size 432x288 with 1 Axes>"
      ]
     },
     "metadata": {
      "needs_background": "light"
     },
     "output_type": "display_data"
    }
   ],
   "source": [
    "plt.plot(df['x'], df['y'], 'ro')\n",
    "plt.plot(df['x'], df['y\"'], 'g-')\n",
    "plt.plot(df['x'], df['y\"2'], 'b-')\n",
    "plt.legend(['original data', 'best fit line', 'best fit line 2'])"
   ]
  },
  {
   "cell_type": "markdown",
   "metadata": {},
   "source": [
    "<hr>\n",
    "\n",
    "### Linear Regression: Split data random, train 80% & test 20%"
   ]
  },
  {
   "cell_type": "code",
   "execution_count": 98,
   "metadata": {},
   "outputs": [
    {
     "name": "stdout",
     "output_type": "stream",
     "text": [
      "   x\n",
      "2  2\n",
      "8  8\n",
      "4  4\n",
      "0  0\n",
      "9  9\n",
      "5  5\n",
      "7  7\n",
      "6  6\n",
      "2     0.963349\n",
      "8     8.038936\n",
      "4     3.530503\n",
      "0    -3.312934\n",
      "9    10.031019\n",
      "5     5.469711\n",
      "7     7.406680\n",
      "6     4.583732\n",
      "Name: y, dtype: float64\n"
     ]
    }
   ],
   "source": [
    "from sklearn.model_selection import train_test_split\n",
    "x_train, x_test, y_train, y_test = train_test_split(df[['x']], df['y'], test_size=.2)\n",
    "print(x_train)\n",
    "print(y_train)"
   ]
  },
  {
   "cell_type": "code",
   "execution_count": 99,
   "metadata": {},
   "outputs": [
    {
     "data": {
      "text/plain": [
       "LinearRegression(copy_X=True, fit_intercept=True, n_jobs=None,\n",
       "         normalize=False)"
      ]
     },
     "execution_count": 99,
     "metadata": {},
     "output_type": "execute_result"
    }
   ],
   "source": [
    "# train model dg x_train & y_train\n",
    "model.fit(x_train, y_train)"
   ]
  },
  {
   "cell_type": "code",
   "execution_count": 100,
   "metadata": {},
   "outputs": [
    {
     "name": "stdout",
     "output_type": "stream",
     "text": [
      "[ 1.66732394 -1.08237074]\n",
      "3    2.529560\n",
      "1   -0.917451\n",
      "Name: y, dtype: float64\n"
     ]
    }
   ],
   "source": [
    "# prediksi x_test & bandingkan dg y_test\n",
    "print(model.predict(x_test))\n",
    "print(y_test)"
   ]
  },
  {
   "cell_type": "code",
   "execution_count": 101,
   "metadata": {},
   "outputs": [
    {
     "data": {
      "text/html": [
       "<div>\n",
       "<style scoped>\n",
       "    .dataframe tbody tr th:only-of-type {\n",
       "        vertical-align: middle;\n",
       "    }\n",
       "\n",
       "    .dataframe tbody tr th {\n",
       "        vertical-align: top;\n",
       "    }\n",
       "\n",
       "    .dataframe thead th {\n",
       "        text-align: right;\n",
       "    }\n",
       "</style>\n",
       "<table border=\"1\" class=\"dataframe\">\n",
       "  <thead>\n",
       "    <tr style=\"text-align: right;\">\n",
       "      <th></th>\n",
       "      <th>x</th>\n",
       "      <th>y</th>\n",
       "      <th>y\"</th>\n",
       "      <th>y\"2</th>\n",
       "      <th>y\"3</th>\n",
       "    </tr>\n",
       "  </thead>\n",
       "  <tbody>\n",
       "    <tr>\n",
       "      <th>0</th>\n",
       "      <td>0</td>\n",
       "      <td>-3.312934</td>\n",
       "      <td>-2.252471</td>\n",
       "      <td>-3.312934</td>\n",
       "      <td>-2.457218</td>\n",
       "    </tr>\n",
       "    <tr>\n",
       "      <th>1</th>\n",
       "      <td>1</td>\n",
       "      <td>-0.917451</td>\n",
       "      <td>-0.900297</td>\n",
       "      <td>-0.917451</td>\n",
       "      <td>-1.082371</td>\n",
       "    </tr>\n",
       "    <tr>\n",
       "      <th>2</th>\n",
       "      <td>2</td>\n",
       "      <td>0.963349</td>\n",
       "      <td>0.451876</td>\n",
       "      <td>1.478033</td>\n",
       "      <td>0.292477</td>\n",
       "    </tr>\n",
       "    <tr>\n",
       "      <th>3</th>\n",
       "      <td>3</td>\n",
       "      <td>2.529560</td>\n",
       "      <td>1.804050</td>\n",
       "      <td>3.873516</td>\n",
       "      <td>1.667324</td>\n",
       "    </tr>\n",
       "    <tr>\n",
       "      <th>4</th>\n",
       "      <td>4</td>\n",
       "      <td>3.530503</td>\n",
       "      <td>3.156224</td>\n",
       "      <td>6.268999</td>\n",
       "      <td>3.042171</td>\n",
       "    </tr>\n",
       "    <tr>\n",
       "      <th>5</th>\n",
       "      <td>5</td>\n",
       "      <td>5.469711</td>\n",
       "      <td>4.508397</td>\n",
       "      <td>8.664482</td>\n",
       "      <td>4.417019</td>\n",
       "    </tr>\n",
       "    <tr>\n",
       "      <th>6</th>\n",
       "      <td>6</td>\n",
       "      <td>4.583732</td>\n",
       "      <td>5.860571</td>\n",
       "      <td>11.059965</td>\n",
       "      <td>5.791866</td>\n",
       "    </tr>\n",
       "    <tr>\n",
       "      <th>7</th>\n",
       "      <td>7</td>\n",
       "      <td>7.406680</td>\n",
       "      <td>7.212745</td>\n",
       "      <td>13.455449</td>\n",
       "      <td>7.166713</td>\n",
       "    </tr>\n",
       "    <tr>\n",
       "      <th>8</th>\n",
       "      <td>8</td>\n",
       "      <td>8.038936</td>\n",
       "      <td>8.564919</td>\n",
       "      <td>15.850932</td>\n",
       "      <td>8.541561</td>\n",
       "    </tr>\n",
       "    <tr>\n",
       "      <th>9</th>\n",
       "      <td>9</td>\n",
       "      <td>10.031019</td>\n",
       "      <td>9.917092</td>\n",
       "      <td>18.246415</td>\n",
       "      <td>9.916408</td>\n",
       "    </tr>\n",
       "  </tbody>\n",
       "</table>\n",
       "</div>"
      ],
      "text/plain": [
       "   x          y        y\"        y\"2       y\"3\n",
       "0  0  -3.312934 -2.252471  -3.312934 -2.457218\n",
       "1  1  -0.917451 -0.900297  -0.917451 -1.082371\n",
       "2  2   0.963349  0.451876   1.478033  0.292477\n",
       "3  3   2.529560  1.804050   3.873516  1.667324\n",
       "4  4   3.530503  3.156224   6.268999  3.042171\n",
       "5  5   5.469711  4.508397   8.664482  4.417019\n",
       "6  6   4.583732  5.860571  11.059965  5.791866\n",
       "7  7   7.406680  7.212745  13.455449  7.166713\n",
       "8  8   8.038936  8.564919  15.850932  8.541561\n",
       "9  9  10.031019  9.917092  18.246415  9.916408"
      ]
     },
     "execution_count": 101,
     "metadata": {},
     "output_type": "execute_result"
    }
   ],
   "source": [
    "# prediksi semua x\n",
    "df['y\"3'] = model.predict(df[['x']])\n",
    "df"
   ]
  },
  {
   "cell_type": "code",
   "execution_count": 102,
   "metadata": {},
   "outputs": [
    {
     "data": {
      "text/plain": [
       "<matplotlib.legend.Legend at 0x1b03072ea90>"
      ]
     },
     "execution_count": 102,
     "metadata": {},
     "output_type": "execute_result"
    },
    {
     "data": {
      "image/png": "[encoded data removed]",
      "text/plain": [
       "<Figure size 432x288 with 1 Axes>"
      ]
     },
     "metadata": {
      "needs_background": "light"
     },
     "output_type": "display_data"
    }
   ],
   "source": [
    "plt.plot(df['x'], df['y'], 'ro')\n",
    "plt.plot(df['x'], df['y\"'], 'g-')\n",
    "plt.plot(df['x'], df['y\"2'], 'b-')\n",
    "plt.plot(df['x'], df['y\"3'], 'y-')\n",
    "plt.legend(['original data', 'bestFitLine alldata', 'bestFitLine 2data', 'bestFitLine 80%data'])"
   ]
  }
 ],
 "metadata": {
  "kernelspec": {
   "display_name": "Python 3",
   "language": "python",
   "name": "python3"
  },
  "language_info": {
   "codemirror_mode": {
    "name": "ipython",
    "version": 3
   },
   "file_extension": ".py",
   "mimetype": "text/x-python",
   "name": "python",
   "nbconvert_exporter": "python",
   "pygments_lexer": "ipython3",
   "version": "3.7.1"
  }
 },
 "nbformat": 4,
 "nbformat_minor": 4
}
