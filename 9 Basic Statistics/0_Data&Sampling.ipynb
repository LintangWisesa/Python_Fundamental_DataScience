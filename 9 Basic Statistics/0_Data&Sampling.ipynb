{
 "cells": [
  {
   "cell_type": "markdown",
   "metadata": {},
   "source": [
    "# 1. Statistics' Key Vocabularies\n",
    "\n",
    "<hr>"
   ]
  },
  {
   "cell_type": "markdown",
   "metadata": {},
   "source": [
    "- __Population__: Everything being studied\n",
    "- __Parameter__: Characteristics of the population, usually symboled as Greek letters as: $\\displaystyle \\theta , \\alpha , \\gamma , \\sigma , $ etc\n",
    "- __Sample__: Subset of population / portion of larger population\n",
    "- __Statistic__: Characteristics of the sample, usually symboled as English letters as: $\\displaystyle x , \\bar{y}, \\hat{z} ,$ etc\n",
    "- __Variable__: Characteristic of intereset gathered from each item in the sample (main question)\n",
    "- __Data__: Actual values of the variable"
   ]
  },
  {
   "cell_type": "markdown",
   "metadata": {},
   "source": [
    "#### _Example_\n",
    "\n",
    "> _Anda ingin mengetahui massa rata-rata Gajah Sumatera. Kemudian Anda melakukan riset terhadap 25 Gajah Sumatera. Dari cerita ini, didapatkan informasi sbb:_\n",
    "\n",
    "- __Population__: Semua spesies Gajah Sumatera\n",
    "- __Parameter__: Rata-rata massa semua spesies Gajah Sumatera\n",
    "- __Sample__: 25 ekor Gajah Sumatera\n",
    "- __Statistic__: Rata-rata massa 25 ekor Gajah Sumatera\n",
    "- __Variable__: Massa seekor Gajah Sumatera\n",
    "- __Data__: Massa seekor Gajah Sumatera yang sesungguhnya (actual massa)"
   ]
  },
  {
   "cell_type": "markdown",
   "metadata": {},
   "source": [
    "# 2. Frequency\n",
    "\n",
    "<hr>"
   ]
  },
  {
   "cell_type": "markdown",
   "metadata": {},
   "source": [
    "- __Frequency__: How often a value occurs?\n",
    "- __Relative Frequency__: Proportion of times a value occurs = _freq / total_\n",
    "- __Cummulative Rel Freq__: Sum of all previous relative freq entries\n",
    "\n",
    "Value | Freq | Relative Freq | Cumm Rel Freq\n",
    "---|---|---|---\n",
    "1 | 3 | $\\displaystyle \\frac{3} {10} = 0.3$ | 0.3\n",
    "2 | 7 | $\\displaystyle \\frac{7} {10} = 0.7$ | 1.0"
   ]
  },
  {
   "cell_type": "markdown",
   "metadata": {},
   "source": [
    "#### _Example_\n",
    "\n",
    "> _Pada hari Senin di sebuah cafe kekinian, terdapat 25 orang minum 1 cangkir kopi, 15 orang minum 2 cangkir, 7 orang minum 3 cangkir & 3 orang minum 4 cangkir. Dari cerita ini, didapatkan informasi tabel frekuensi sbb:_\n",
    "\n",
    "Cangkir | Freq | Relative Freq | Cumm Rel Freq\n",
    "---|---|---|---\n",
    "1 | 25 | $\\displaystyle \\frac{25} {50} = 0.5$ | 0.5\n",
    "2 | 15 | $\\displaystyle \\frac{15} {50} = 0.3$ | 0.8\n",
    "3 | 7 | $\\displaystyle \\frac{7} {50} = 0.14$ | 0.94\n",
    "4 | 3 | $\\displaystyle \\frac{3} {50} = 0.06$ | 1.0"
   ]
  },
  {
   "cell_type": "markdown",
   "metadata": {},
   "source": [
    "# 3. Data & Sampling Techniques\n",
    "\n",
    "<hr>"
   ]
  },
  {
   "cell_type": "markdown",
   "metadata": {},
   "source": [
    "Level of measurements:\n",
    "- __Nominal__: Categories (no numbers) eg: color, Yes/No, gender, etc\n",
    "- __Ordinal__: Can be put in order, no clear space between. eg: MotoGP finishing place, Top 5 Python books, etc\n",
    "- __Interval__: Space between numbers has meaning, no \"zero\", eg: air temperature of Java island on September\n",
    "- __Ratio__: Absolute \"zero\" means nothing, eg: test score, number of children\n",
    "\n",
    "<hr>"
   ]
  },
  {
   "cell_type": "markdown",
   "metadata": {},
   "source": [
    "__Sampling__: How we collect data. Select data that represent the whole population. Select randomly to avoid bias. All options equally likely. __*A good sample is one that is representative of the entire population*__\n",
    "\n",
    "- __Random Method Sampling (Unbiased Sample)__\n",
    "\n",
    "    - __Simple Random Sampling__: Random selection methods such as random numbers, eg: assign student number & pick a random number\n",
    "    \n",
    "    - __Stratified Random Sampling__: Divide population into groups (each group called: __*Strata*__) and then select a proportionate number of each group/Strata. eg: Jika diketahui 20% goldar A, 30% B, 40% O & 10% AB, maka dg random sampling, dari 200 orang dipilih 40 org goldar A, 60 org B, 80 org O & 20 org AB => polling.\n",
    "    \n",
    "    - __Cluster Random Sampling__: Divide into groups, then randomly select entire groups. eg: football stadium sections E & G are randomly selected, all fans on those sections are included.\n",
    "    \n",
    "    - __Systematic Random Sampling__: it starts with a random item & choose every $n^{th}$ item after this. eg: random number in phone book, then select every $50^{th}$ after this, till back to beginning. \n",
    "    \n",
    "    - __Multistage Random Sampling__: combination of 2 or more random sampling method. eg: dengan undian, kocokan pertama menentukan strata/group dg simple random, lalu kocokan kedua menentukan nomor orang dalam grup yang terpilih di kocokan pertama dengan stratified random.\n",
    "    \n",
    "- __Non-Random Method (Biased sample)__\n",
    "    \n",
    "    - __Convenience Sampling__: use results that are easy & readily available that are not really random. eg: people nearby, friends on Facebook. __*Drawbacks*__: bias results, may not be representative of the population, results maybe not useful outside of the sample.  \n",
    "    \n",
    "    - __Voluntary Response Sampling__: use people that have chosen to include themselves, volunteer/relawan yang mengajukan diri sebagai responden. __*Drawbacks*__: bias results, people yang interseted dengan topik akan ikut menjawab, sementara yang tidak tertarik tidak akan mengikuti survey.\n",
    "    \n",
    "<hr>"
   ]
  },
  {
   "cell_type": "markdown",
   "metadata": {},
   "source": [
    "__Census__: An even more accurate way of getting data about population is by taking a census. Census surveys each & every person of a population, but there are problems:\n",
    "\n",
    "- __Non-Response__: Respondents can choose not to answer or even can choose not to be contacted. Contoh survey by phone, ada responden yang menolak disurvey.\n",
    "\n",
    "- __Under Coverage__: Respondents that have absolutely no chance of being included in the sample. Contoh survey by phone, ada responden yang tidak punya nomor telephone sehingga tidak dapat dihubungi.\n",
    "\n",
    "<hr>"
   ]
  },
  {
   "cell_type": "markdown",
   "metadata": {},
   "source": [
    "From measurements with various sampling method, we get data. The types of data are:\n",
    "- __Qualitative__: categories, eg: type od cars, ethnic group\n",
    "- __Quantitative__: measured or counted (numbers), eg: number of cars, distances \n",
    "    - __Discrete__: countable, eg: number of shoes\n",
    "    - __Continuous__: measured (decimals), eg: height, distances, durations \n",
    "    "
   ]
  }
 ],
 "metadata": {
  "kernelspec": {
   "display_name": "Python 3.8.1 32-bit",
   "language": "python",
   "name": "python38132bit17e97fd0e138494882eb6a23af8acc7d"
  },
  "language_info": {
   "codemirror_mode": {
    "name": "ipython",
    "version": 3
   },
   "file_extension": ".py",
   "mimetype": "text/x-python",
   "name": "python",
   "nbconvert_exporter": "python",
   "pygments_lexer": "ipython3",
   "version": "3.8.1"
  }
 },
 "nbformat": 4,
 "nbformat_minor": 4
}
