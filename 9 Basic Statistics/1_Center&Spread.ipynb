{
 "cells": [
  {
   "cell_type": "code",
   "execution_count": 1,
   "metadata": {},
   "outputs": [],
   "source": [
    "import numpy as np\n",
    "import pandas as pd\n",
    "import matplotlib.pyplot as plt"
   ]
  },
  {
   "cell_type": "markdown",
   "metadata": {},
   "source": [
    "> __*How do we summarize a data numerically? Measure its center & how the data spread out!*__\n",
    "\n",
    "# 4. Measure of center (central tendency)\n",
    "\n",
    "<hr>"
   ]
  },
  {
   "cell_type": "markdown",
   "metadata": {},
   "source": [
    "### a. Mean (balance point)\n",
    "\n",
    "- __Mean__ or average: average of population $\\mu$ or average of sample $\\bar{x}$. Can be calculated by a simple formula: \n",
    "\n",
    "    - Without frequencies:\n",
    "\n",
    "    $$\\displaystyle \\bar{x} = \\frac {\\sum{x}} {n}$$\n",
    "    \n",
    "    - With frequencies:\n",
    "\n",
    "    $$\\displaystyle \\bar{x} = \\frac {\\sum{x} f} {n}$$\n",
    "\n",
    "#### _Example_\n",
    "\n",
    "> Calculate the mean of __1,3,3,4,4,4,5,5__!\n",
    "\n",
    "- Without frequencies:\n",
    "    \n",
    "    $\\displaystyle \\bar{x} = \\frac {\\sum{x}} {n} = \\frac {1+3+3+4+4+4+5+5} {8} = \\frac {29} {8} $= __3.625__\n",
    "    \n",
    "- With frequencies, create a frequency table\n",
    "\n",
    "    x|f|xf\n",
    "    ---|---|---\n",
    "    1|1|1\n",
    "    3|2|6\n",
    "    4|3|12\n",
    "    5|2|10\n",
    "    $\\sum$|8|29\n",
    "\n",
    "    $\\displaystyle \\bar{x} = \\frac {\\sum{x} f} {n} = \\frac {29} {8}$ = __3.625__\n",
    "    \n",
    "    "
   ]
  },
  {
   "cell_type": "code",
   "execution_count": 6,
   "metadata": {},
   "outputs": [
    {
     "data": {
      "text/plain": [
       "3.625"
      ]
     },
     "execution_count": 6,
     "metadata": {},
     "output_type": "execute_result"
    }
   ],
   "source": [
    "x = np.array([1,3,3,4,4,4,5,5])\n",
    "x = pd.Series(x)\n",
    "x.mean()"
   ]
  },
  {
   "cell_type": "markdown",
   "metadata": {},
   "source": [
    "<hr>\n",
    "\n",
    "### b. Median (middle point)\n",
    "\n",
    "- __Median__ or middle quartile $Q_{2}$: the middle value of an sorted order.\n",
    "\n",
    "#### _Example_\n",
    "\n",
    "> Calculate the median of __1,3,3,4,4,4,5,5__!\n",
    "\n",
    "Middle value of __1, 3, 3, 4 | 4, 4, 5, 5__\n",
    "\n",
    "Median = $\\displaystyle \\frac {4+4} {2}$ = __4__"
   ]
  },
  {
   "cell_type": "code",
   "execution_count": 7,
   "metadata": {},
   "outputs": [
    {
     "data": {
      "text/plain": [
       "4.0"
      ]
     },
     "execution_count": 7,
     "metadata": {},
     "output_type": "execute_result"
    }
   ],
   "source": [
    "x = np.array([1,3,3,4,4,4,5,5])\n",
    "x = pd.Series(x)\n",
    "x.median()"
   ]
  },
  {
   "cell_type": "markdown",
   "metadata": {},
   "source": [
    "<hr>\n",
    "\n",
    "### c. Mode\n",
    "\n",
    "- __Mode__: the value that occurs most often, usually for categories\n",
    "\n",
    "#### _Example_\n",
    "\n",
    "> Calculate the mode of __1,3,3,4,4,4,5,5__!\n",
    "\n",
    "Mode = __4__ because it occurs __3__ times, the most often than the others."
   ]
  },
  {
   "cell_type": "code",
   "execution_count": 8,
   "metadata": {},
   "outputs": [
    {
     "data": {
      "text/plain": [
       "0    4\n",
       "dtype: int32"
      ]
     },
     "execution_count": 8,
     "metadata": {},
     "output_type": "execute_result"
    }
   ],
   "source": [
    "x = np.array([1,3,3,4,4,4,5,5])\n",
    "x = pd.Series(x)\n",
    "x.mode()"
   ]
  },
  {
   "cell_type": "markdown",
   "metadata": {},
   "source": [
    "# 5. Measure of spread\n",
    "\n",
    "<hr>"
   ]
  },
  {
   "cell_type": "markdown",
   "metadata": {},
   "source": [
    "Measure of spread aka __data distribution__: How spread out the other values are. Why we need to measure data spread? Because only measure its center is not enough.\n",
    "\n",
    "For instance, the following lists have the same mean & median, but different spread / distribution. So if you just look at the center, it will missed the data spread.\n",
    "    \n",
    "__5,5,5,5,5,5,5__ mean == median, no spread\n",
    "\n",
    "__1,1,1,5,9,9,9__ mean == median, spread weighted on both edge\n",
    "\n",
    "__1,2,4,5,6,8,9__ mean == median, spread out\n",
    "    \n",
    "What parameters that can be used to measure data spread?\n",
    "\n",
    "- __Range__: largest value - small values, but the problem is if there is a one extreme value it could  greatly impact.\n",
    "\n",
    "    __1,3,3,4,4,4,5,5__ range = 5 - 1 = __4__\n",
    "    \n",
    "    __1,3,3,4,4,4,5,60__ range = 60 - 1 = __59__\n",
    "    \n",
    "<hr>    \n",
    "\n",
    "- __IQR (*Interquartile Range*)__ $= Q_{3} - Q_{1}$ range of middle 50%. The problem is it only consider 2 values: $Q_{1}$ and $Q_{3}$. It will good if we consider all data to know how the data spread.\n",
    "\n",
    "    __1,3,3,4,4,4,5,5__ \n",
    "    \n",
    "    $Q_{1} = 3$ and $Q_{3} = 4.5$ so IQR $= Q_{3} - Q_{1} = 4.5 - 3$ = __1.5__\n",
    "\n",
    "<hr>\n",
    "\n",
    "- __Standard Deviation__: average distance from the mean. Symbol standard deviation for population: $\\sigma$ & for sample: __*s*__. It can be calculated by a simple formula:\n",
    "\n",
    "    $$\\displaystyle s = \\sqrt \\frac {\\sum(x - \\bar{x}) ^ 2} {n - 1}$$ or if using frequencies: $$\\displaystyle s = \\sqrt \\frac {\\sum(x - \\bar{x}) ^ 2 f} {n - 1}$$\n",
    "\n",
    "    _Example:_ __11,13,14,14__, so $\\bar{x} = 13$\n",
    "    \n",
    "    <table>\n",
    "    <thead>\n",
    "        <tr><th>$x$</th><th>$x-\\bar{x}$</th><th>$(x-\\bar{x})^2$</th></tr>\n",
    "    </thead>\n",
    "    <tbody>\n",
    "        <tr><td>11</td><td>-2</td><td>4</td></tr>\n",
    "        <tr><td>13</td><td>0</td><td>0</td></tr>\n",
    "        <tr><td>14</td><td>1</td><td>1</td></tr>\n",
    "        <tr><td>14</td><td>1</td><td>1</td></tr>\n",
    "        <tr><td>.........</td><td>...................</td><td>...................</td></tr>\n",
    "        <tr><td></td><td>$\\sum$</td><td><b>6</b></td></tr>\n",
    "    </tbody>\n",
    "    </table>\n",
    "    \n",
    "    So standard deviation $\\displaystyle s = \\sqrt \\frac {6} {4-1} = 1.41$\n"
   ]
  },
  {
   "cell_type": "code",
   "execution_count": 13,
   "metadata": {},
   "outputs": [
    {
     "name": "stdout",
     "output_type": "stream",
     "text": [
      "1.4142135623730951\n",
      "1.224744871391589\n"
     ]
    }
   ],
   "source": [
    "x = np.array([11,13,14,14])\n",
    "x = pd.Series(x)\n",
    "\n",
    "print(x.std(ddof=1))\n",
    "print(np.std(x))"
   ]
  },
  {
   "cell_type": "markdown",
   "metadata": {},
   "source": [
    "<hr>\n",
    "\n",
    "- __z__ or __the number of Standard Deviations__: how far is a data from its mean, measured with standard deviation unit. seberapa jauh suatu data terhadap mean, dihitung dg satuan standard deviation. misal: x memiliki jarak dg mean sejauh 0.5 standard deviation.\n",
    "\n",
    "    $\\displaystyle z = \\frac {x - \\bar{x}} {s}$ and so $\\displaystyle x = \\bar{x} + zs$\n",
    "    \n",
    "    - _Example:_ How many standard deviations from the mean is the median of __1,3,3,4,4,4,5,5__? We calculate that its __median = 4__, __mean = 3.625__ and __standard deviation = 1.3__, so we can find the z.\n",
    "    \n",
    "    $\\displaystyle z = \\frac {x - \\bar{x}} {s} = \\frac {4 - 3.625} {1.3}$ = __0.288__ standard deviations from the mean\n",
    "    \n",
    "    - _Example:_ With the same data above, what value is 2 standard deviation below the mean? Below means negatif, so $x = \\bar{x} - zs$\n",
    "    \n",
    "    $\\displaystyle x = \\bar{x} - zs = 3.625 - 2(1.3)$ = __1.025__\n",
    "\n",
    "<hr>\n",
    "\n",
    "- __Outliers__: values that far removed from the rest of the data, or a data value that is numerically distant from a dataset. It might be the lowest or highest value in a dataset. For example if we have __1,3,3,5,87__ we have an outlier = __87__. How to decide the outliers?\n",
    "    \n",
    "    1. __IQR Method__: \n",
    "        - low outlier = values that lower than $Q_{1} - 1.5 \\times $ __IQR__\n",
    "        - high outlier =  values that more than $Q_{3} + 1.5 \\times $ __IQR__\n",
    "        \n",
    "        _Example_: from __2,3,5,6,7,14__ we get $Q_{1}$=3, $Q_{3}$=7 & IQR = 7-3 = 4. So we can calculate the outliers are below: 3 - 1.5(4) = -3 & above: 7 + 1.5(4) = 13. So the outlier from the list is __14__.\n",
    "        \n",
    "    2. __Standard deviations / z-score method__:\n",
    "        A value that more than __2__ or __2.5__ standard deviations from the mean, is an outlier!\n",
    "        \n",
    "        - low outlier = values below $\\displaystyle \\bar{x} - 2.5 \\cdot s$\n",
    "        - high outlier = values above $\\displaystyle \\bar{x} + 2.5 \\cdot s$\n",
    "        \n",
    "        _Example_: from __1,3,3,4,4,4,5,5__ we get $\\bar{x}$=3.625, $s$=1.3. The outliers are below: 3.625 - 2(1.3) = __1.025__ & above 3.625 + 2(1.3) = __6.225__. So the outlier is __1__."
   ]
  },
  {
   "cell_type": "markdown",
   "metadata": {},
   "source": [
    "# 6. Effects of Outliers on Center & Spread\n",
    "\n",
    "<hr>"
   ]
  },
  {
   "cell_type": "markdown",
   "metadata": {},
   "source": [
    "Apa pengaruh outliers terhadap center & spread?\n",
    "\n",
    "- _Example_: \n",
    "    \n",
    "    Data logger temperatur ($^{\\circ}C$): __-350, 15, 20.5, 26, 30.5, 31, 31__\n",
    "    \n",
    "    Outlier = __-350__\n",
    "\n",
    "    Measure|With Outlier|Without Outlier\n",
    "    ---|---|---\n",
    "    Mean|-28|25.667\n",
    "    Median|26|28.25\n",
    "    Mode|31|31\n",
    "    Range|381|16\n",
    "    \n",
    "    Dari tabel di atas diketahui bahwa adanya outlier:\n",
    "    \n",
    "    - __Sangat mempengaruhi__ Mean & Range, serta turunannya seperti Standard Deviasi.\n",
    "    \n",
    "    - __Relatif tidak mempengaruhi__ Median & Mode, serta turunannya."
   ]
  }
 ],
 "metadata": {
  "kernelspec": {
   "display_name": "Python 3.8.1 32-bit",
   "language": "python",
   "name": "python38132bit17e97fd0e138494882eb6a23af8acc7d"
  },
  "language_info": {
   "codemirror_mode": {
    "name": "ipython",
    "version": 3
   },
   "file_extension": ".py",
   "mimetype": "text/x-python",
   "name": "python",
   "nbconvert_exporter": "python",
   "pygments_lexer": "ipython3",
   "version": "3.8.1"
  }
 },
 "nbformat": 4,
 "nbformat_minor": 4
}
