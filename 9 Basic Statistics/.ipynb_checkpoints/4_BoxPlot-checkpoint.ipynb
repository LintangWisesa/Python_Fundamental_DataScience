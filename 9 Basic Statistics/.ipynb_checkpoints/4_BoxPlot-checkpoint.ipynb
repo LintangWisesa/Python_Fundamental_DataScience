{
 "cells": [
  {
   "cell_type": "code",
   "execution_count": 1,
   "metadata": {},
   "outputs": [],
   "source": [
    "import numpy as np\n",
    "import pandas as pd\n",
    "import matplotlib.pyplot as plt"
   ]
  },
  {
   "cell_type": "markdown",
   "metadata": {},
   "source": [
    "> __*How do we summarize a data visually? Use histogram & boxplot!*__"
   ]
  },
  {
   "cell_type": "markdown",
   "metadata": {},
   "source": [
    "# 8. Five Number Summary\n",
    "\n",
    "<hr>\n",
    "\n",
    "- __Five Number Summary__ gives us a way to describe a distribution using only 5 numbers from a sorted data (smallest to largest):\n",
    "    \n",
    "    - __Minimum Value__: minimum / smallest value in a dataset\n",
    "    - __$1^{st}$ quartile $Q_{1}$__: middle of lower half, 25% value is below it & 75% value is larger than it.\n",
    "    - __Median $Q_{2}$__: middle data value, 50% value is below it & 50% value is larger than it.\n",
    "    - __$3^{rd}$ quartile $Q_{3}$__: middle of upper half, 75% value is below it & 25% value is larger than it.\n",
    "    - __Maximum Value__: maximum / largest value in a dataset\n",
    "    \n",
    "    \n",
    "- __Percentile__: describes percentage of data values that fall at or below another data value. \n",
    "    \n",
    "    - __$25^{\\textrm{th}}$ percentile__: $Q_{1}$ or $1^{st}$ quartile. 25% of data points are as small or smaller, and 75% of data points are as large or larger.\n",
    "    - __$50^{\\textrm{th}}$ percentile__: median. 50% of data points are as small or smaller, and 50% of data points are as large or larger.\n",
    "    - __$75^{\\textrm{th}}$ percentile__: $Q_{3}$ or $3^{rd}$ quartile. 75% of data points are as small or smaller, and 25% of data points are as large or larger."
   ]
  },
  {
   "cell_type": "code",
   "execution_count": 10,
   "metadata": {},
   "outputs": [
    {
     "name": "stdout",
     "output_type": "stream",
     "text": [
      "Sorted: [ 1  2  7 20 34]\n",
      "25th percentile of arr :  2.0\n",
      "50th percentile of arr :  7.0\n",
      "75th percentile of arr :  20.0\n"
     ]
    }
   ],
   "source": [
    "arr = [20, 2, 7, 1, 34]\n",
    "print('Sorted:', np.sort(arr))\n",
    "\n",
    "print(\"25th percentile of arr : \", np.percentile(arr, 25)) \n",
    "print(\"50th percentile of arr : \",  np.percentile(arr, 50)) \n",
    "print(\"75th percentile of arr : \", np.percentile(arr, 75)) "
   ]
  },
  {
   "cell_type": "markdown",
   "metadata": {},
   "source": [
    "# 9. Box Plot\n",
    "\n",
    "<hr>"
   ]
  },
  {
   "cell_type": "markdown",
   "metadata": {},
   "source": [
    "- __Box Plot__: Show data distribution based on its __*5 number summary*__\n",
    "    - __Interquartile range__ $= Q_{3} - Q_{1}$\n",
    "    - __Lower Whisker__: $Q_{1} - (1.5 \\times (Q_{3} - Q_{1}))$\n",
    "    - __$Q_{1}$ ($1^{st}$ quartile)__: middle of lower half\n",
    "    - __$Q_{2}$ or Median__: middle when data is in order\n",
    "    - __$Q_{3}$ ($3^{rd}$ quartile)__: middle of upper half\n",
    "    - __Upper Whisker__: $Q_{3} + (1.5 \\times (Q_{3} - Q_{1}))$\n",
    "    - Data di luar lower & upper whisker adalah __outliers__\n",
    "    \n",
    "\n",
    "- To make a box plot:\n",
    "    1. Split the data into quarters\n",
    "    2. Decide $Q_{1}$ & $Q_{3}$ as the edge of the box\n",
    "    3. Draw __whiskers__ out based on IQR formula\n",
    "    4. Dotted line for Median"
   ]
  },
  {
   "cell_type": "markdown",
   "metadata": {},
   "source": [
    "#### _Example_\n",
    "\n",
    "> Buatlah box plot dari data berikut:\n",
    "    __4,6,6,7,11,13,18,18,18,21,24,26,27,35,36,36,42,43,45,49__\n",
    "\n",
    "#### _Solution_\n",
    "\n",
    "1. Sort the data then decide _5 number summary_:\n",
    "    - Lower whisker $Q_{1} - (1.5 \\times (Q_{3} - Q_{1})) = 12 - (1.5 * 24)$ = -24\n",
    "    - $Q_{1}$ = 12\n",
    "    - $Q_{2}$ or Median = 22.5\n",
    "    - $Q_{3}$ = 36\n",
    "    - Upper whisker $Q_{3} + (1.5 \\times (Q_{3} - Q_{1})) = 36 + (1.5 * 24)$ = 72"
   ]
  },
  {
   "cell_type": "code",
   "execution_count": 19,
   "metadata": {},
   "outputs": [
    {
     "data": {
      "image/png": "[encoded data removed]",
      "text/plain": [
       "<Figure size 864x288 with 2 Axes>"
      ]
     },
     "metadata": {
      "needs_background": "light"
     },
     "output_type": "display_data"
    }
   ],
   "source": [
    "miles = [4,6,6,7,11,13,18,18,18,21,24,26,27,35,36,36,42,43,45,71]\n",
    "# Matplotlib boxplot whisker: \n",
    "# jika ada outliers, whisker tepat di Q1 - k*IQR & Q3 + k*IQR\n",
    "# jika tidak ada outliers, whisker ada di minimum & maximum value\n",
    "# lihat data point 71. Jika diganti 72 (72=outlier), whisker berubah ke elemen terakhir Q3 + k*IQR\n",
    "\n",
    "plt.figure(figsize=(12,4))\n",
    "\n",
    "plt.subplot(121)\n",
    "plt.boxplot(miles)\n",
    "plt.text(1.12, 4, 'Q1 - (1.5 * IQR)')\n",
    "plt.text(1.12, 12, 'Q1')\n",
    "plt.text(1.12, 22.5, 'Median')\n",
    "plt.text(1.12, 36, 'Q3')\n",
    "plt.text(1.12, 48, 'Q3 + (1.5 * IQR)')\n",
    "plt.annotate('', xy=(0.85, 12), xytext=(0.85, 36),arrowprops = dict(arrowstyle = '<->'))\n",
    "plt.text(0.78, 22.5, 'IQR')\n",
    "\n",
    "plt.subplot(122)\n",
    "plt.boxplot(miles, vert=False)\n",
    "\n",
    "plt.show()"
   ]
  },
  {
   "cell_type": "markdown",
   "metadata": {},
   "source": [
    "- __Box plot shape__\n",
    "    - __Spread Out__: wide range of values\n",
    "    - __Clustered together__: small range of values\n",
    "    - __Spread clustered__: describe entire shape & middle 50%. Overall the data is spread out, but the middle 50% is clustered together"
   ]
  },
  {
   "cell_type": "code",
   "execution_count": 58,
   "metadata": {},
   "outputs": [
    {
     "data": {
      "image/png": "[encoded data removed]",
      "text/plain": [
       "<Figure size 432x288 with 1 Axes>"
      ]
     },
     "metadata": {
      "needs_background": "light"
     },
     "output_type": "display_data"
    }
   ],
   "source": [
    "miles = [1,5,15,27,34,45,56,72,89,101,120,130,141,156,167]\n",
    "miles2 = [30,32,33,34,35,36,37,38,40]\n",
    "miles3 = [10,20,20,48,48,50,52,52,80,80,100]\n",
    "\n",
    "fig, axis = plt.subplots()\n",
    "axis.boxplot([miles, miles2, miles3])\n",
    "plt.show()"
   ]
  }
 ],
 "metadata": {
  "kernelspec": {
   "display_name": "Python 3.8.1 32-bit",
   "language": "python",
   "name": "python38132bit17e97fd0e138494882eb6a23af8acc7d"
  },
  "language_info": {
   "codemirror_mode": {
    "name": "ipython",
    "version": 3
   },
   "file_extension": ".py",
   "mimetype": "text/x-python",
   "name": "python",
   "nbconvert_exporter": "python",
   "pygments_lexer": "ipython3",
   "version": "3.8.1"
  }
 },
 "nbformat": 4,
 "nbformat_minor": 4
}
