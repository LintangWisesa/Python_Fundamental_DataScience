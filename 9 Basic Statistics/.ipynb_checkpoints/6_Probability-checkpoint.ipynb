{
 "cells": [
  {
   "cell_type": "code",
   "execution_count": 1,
   "metadata": {},
   "outputs": [],
   "source": [
    "import numpy as np\n",
    "import pandas as pd\n",
    "import matplotlib.pyplot as plt"
   ]
  },
  {
   "cell_type": "markdown",
   "metadata": {},
   "source": [
    "> ### How do we calculate basic probabilities?"
   ]
  },
  {
   "cell_type": "markdown",
   "metadata": {},
   "source": [
    "- __⭐ Vocabularies__:\n",
    "    1. __Sample Space__ : all possible outcomes (flip a coin: head & tail)\n",
    "    2. __Outcome__ : result of an experiment (flip a coin: head)\n",
    "    3. __Probability__ : chance that an event will occur\n",
    "        - __Scale from 0 to 1__: 0 (not going to happen), 1 (certain to happen)\n",
    "        - __Theoretical probability__ (what should happen)\n",
    "            \n",
    "            $\\displaystyle P(\\textrm{event}) = \\frac {\\textrm{jumlah outcome}} {\\textrm{sample space}}$\n",
    "            \n",
    "            _Example_: Probability flip a coin with result head? The outcome must be 1: head or number. The sample space must be 2: head & number. So the probability of head is:\n",
    "            \n",
    "            $\\displaystyle P(\\textrm{head}) = \\frac {\\textrm{jumlah outcome}} {\\textrm{sample space}} = \\frac {1} {2}$ = __0.5__\n",
    "            \n",
    "        - __Emperical probability__ (what happened in an experiment)\n",
    "        \n",
    "            Flip a coin 500 times & get 257 heads. The next 500 flip will be different, for instance 350 heads. So, the probability:\n",
    "            \n",
    "            $\\displaystyle P(\\textrm{head}) = \\frac {\\textrm{jumlah trial result head}} {\\textrm{total trial}} = \\frac {257} {500}$ = __0.514__\n",
    "            \n",
    "            $\\displaystyle P(\\textrm{head}) = \\frac {\\textrm{jumlah trial result head}} {\\textrm{total trial}} = \\frac {248} {500}$ = __0.496__\n",
    "            \n",
    "        - __Law of Large Number__: more trials, the closer the emperical probability is to the theoretical probability.\n",
    "        \n",
    "<hr>"
   ]
  },
  {
   "cell_type": "markdown",
   "metadata": {},
   "source": [
    "- __⭐ Probability Formulas__\n",
    "\n",
    "    1. __Conditional Probability__ $P(B|A)$: probability of B given A has already occured. Probability B, dengan kondisi A.\n",
    "    \n",
    "        $$P(B|A) = \\frac {P(\\textrm{A and B})} {P(A)}$$\n",
    "        \n",
    "    2. __AND Probability__ $P(\\textrm{A and B})$: probability both occur together\n",
    "    \n",
    "        $$P(\\textrm{A and B}) = P(A) \\cdot P(B|A)$$\n",
    "        \n",
    "    3. __OR Probability__ $P(\\textrm{A or B})$: probability of A, or B, or both occur together\n",
    "    \n",
    "        $$P(\\textrm{A or B}) = P(A) + P(B) - P(\\textrm{A and B})$$\n",
    "        \n",
    "_Example_: Three blue cards numbered 1, 2, 3. Two yellow cards numbered 1, 2.\n",
    "\n",
    "- So $P(\\textrm{Blue}) = \\frac {3} {5}$, $P(\\textrm{Yellow}) = \\frac {2} {5}$, $P(\\textrm{Genap}) = \\frac {2} {5}$ and $P(\\textrm{Ganjil}) = \\frac {2} {5}$\n",
    "\n",
    "- Blue card from genap \n",
    "\n",
    "    $\\displaystyle P(\\textrm{Blue | genap}) = \\frac {P(\\textrm{Blue and genap})} {P(\\textrm{genap})} = \\frac {1 / 5} {2 / 5}$ = __0.5__\n",
    "    \n",
    "- Blue card AND genap \n",
    "\n",
    "    $\\displaystyle P(\\textrm{Blue and genap}) = \\frac {1} {5}$ = __0.2__ or $\\displaystyle P(\\textrm{genap}) \\cdot P(\\textrm{Blue | genap}) = \\frac {2} {5} \\cdot \\frac {1} {2}$ = __0.2__\n",
    "    \n",
    "- Blue card OR genap \n",
    "\n",
    "    $\\displaystyle P(\\textrm{Blue or genap}) = \\frac {3} {5} + \\frac {2} {5} - \\frac {1} {5}$ = __0.8__\n",
    "    \n",
    "- Probability draw 2 blue cards without replacement\n",
    "\n",
    "    $\\displaystyle P(\\textrm{Blue1 and Blue2}) = \\frac {3} {5} \\cdot \\frac {2} {4}$ = __0.3__\n",
    "    \n",
    "<hr>"
   ]
  },
  {
   "cell_type": "markdown",
   "metadata": {},
   "source": [
    "- __⭐ Independent Events__: one occuring does not change the probability of the other occuring. Independent events can be happen if:\n",
    "    - $P(A|B) = P(A)$\n",
    "    - $P(B|A) = P(B)$\n",
    "    - $P(\\textrm{A and B}) = P(A) \\cdot P(B)$\n",
    "\n",
    "_Example_: In a class, 20% of students are left-handed. 5% of whole students are earning \"A\" in math. Only 1% of left-handed students are earning \"A\" in math. Is this independent event?\n",
    "\n",
    "- We get $P(L) = 0.2$, $P(A) = 0.05$ and $P(\\textrm{L and A}) = 0.01$\n",
    "- Because $P(\\textrm{L and A}) = P(L) \\cdot P(A)$, so they are independent event. Tidak ada kaitan antara kidal dengan nilai math \"A\"!\n",
    "\n",
    "<hr>"
   ]
  },
  {
   "cell_type": "markdown",
   "metadata": {},
   "source": [
    "- __⭐ Mutually exclusive__: both event cannot occur at the same time. It can be happen if:\n",
    "\n",
    "$$P(\\textrm{A and B}) = 0$$\n",
    "    \n",
    "_Example_: Roll a dice, let D = odd that less than 4 = __{1,3}__ and B = more than 3 = __{4,5,6}__. D & B event is __mutually exclusive__, cannot occur at the same time $P(\\textrm{D and B}) = 0$"
   ]
  },
  {
   "cell_type": "markdown",
   "metadata": {},
   "source": [
    "<hr>\n",
    "\n",
    "> ### How we organize probability information? Use contingency table"
   ]
  },
  {
   "cell_type": "markdown",
   "metadata": {},
   "source": [
    "- __⭐ Contingency table__: table listing results in relation to 2 variables.\n",
    "\n",
    ".|<24|24-29|>29|__Totals__\n",
    "---|---|---|---|---\n",
    "Hamil|82|39|18|__139__\n",
    "Tidak Hamil|17|27|61|__105__\n",
    "__Totals__|__99__|__66__|__79__|__244__"
   ]
  },
  {
   "cell_type": "markdown",
   "metadata": {},
   "source": [
    "From table above, we can get the probability easily:\n",
    "\n",
    "- $\\displaystyle P(\\textrm{24-29}) = \\frac {66} {244} $ = __0.2705__\n",
    "\n",
    "- $\\displaystyle P(\\textrm{Tidak Hamil}) = \\frac {105} {244} $ = __0.4305__\n",
    "\n",
    "- $\\displaystyle P(\\textrm{24-29 and Tidak Hamil}) = \\frac {27} {244}$ = __0.1107__\n",
    "\n",
    "- $\\displaystyle P(\\textrm{24-29 or Tidak Hamil}) = \\frac {66 + 105 - 27} {244}$ = __0.5902__\n",
    "\n",
    "- $\\displaystyle P(\\textrm{24-29 | Tidak Hamil}) = \\frac {27} {105}$ = __0.2571__\n",
    "\n",
    "- $\\displaystyle P(\\textrm{Tidak Hamil | 24-29}) = \\frac {27} {66}$ = __0.4091__\n",
    "\n",
    "- Apakah __24-29__ & __tidak hamil__ adalah event yg independent?\n",
    "    \n",
    "    Karena $\\displaystyle P(\\textrm{24-29 | Tidak Hamil}) \\neq P(\\textrm{24-29})$, maka __24-29__ & __tidak hamil__ adalah event yg Dependent."
   ]
  }
 ],
 "metadata": {
  "kernelspec": {
   "display_name": "Python 3.8.1 32-bit",
   "language": "python",
   "name": "python38132bit17e97fd0e138494882eb6a23af8acc7d"
  },
  "language_info": {
   "codemirror_mode": {
    "name": "ipython",
    "version": 3
   },
   "file_extension": ".py",
   "mimetype": "text/x-python",
   "name": "python",
   "nbconvert_exporter": "python",
   "pygments_lexer": "ipython3",
   "version": "3.8.1"
  }
 },
 "nbformat": 4,
 "nbformat_minor": 4
}
