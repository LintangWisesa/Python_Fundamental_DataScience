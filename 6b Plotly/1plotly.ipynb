{
 "cells": [
  {
   "cell_type": "markdown",
   "metadata": {},
   "source": [
    "# Plotly"
   ]
  },
  {
   "cell_type": "code",
   "execution_count": 1,
   "metadata": {},
   "outputs": [],
   "source": [
    "import numpy as np\n",
    "import pandas as pd\n",
    "import matplotlib.pyplot as plt\n",
    "import seaborn as sb\n",
    "\n",
    "# pip install plotly\n",
    "import plotly"
   ]
  },
  {
   "cell_type": "markdown",
   "metadata": {},
   "source": [
    "### 3 cara menggunakan Plotly:\n",
    "- Plot dari Object Plotly (__*plotly.graph_objects*__)\n",
    "- Plot dari python dictionary (__*plotly.io*__)\n",
    "- Plot menggunakan plotly express (__*plotly.express*__)"
   ]
  },
  {
   "cell_type": "code",
   "execution_count": 31,
   "metadata": {},
   "outputs": [
    {
     "data": {
      "text/html": [
       "\n",
       "        <iframe\n",
       "            width=\"700\"\n",
       "            height=\"600\"\n",
       "            src=\"./plot.html\"\n",
       "            frameborder=\"0\"\n",
       "            allowfullscreen\n",
       "        ></iframe>\n",
       "        "
      ],
      "text/plain": [
       "<IPython.lib.display.IFrame at 0x11372490>"
      ]
     },
     "execution_count": 31,
     "metadata": {},
     "output_type": "execute_result"
    }
   ],
   "source": [
    "import plotly.graph_objects as go\n",
    "\n",
    "# create plot. \n",
    "# mode = 'lines+markers', 'markers', 'lines'\n",
    "# dash = 'dash', 'dot', 'dashdot'\n",
    "\n",
    "plot = go.Scatter(\n",
    "    x = np.arange(10), y = np.arange(10), mode = 'lines+markers',\n",
    "    marker = {'color': ['red', 'yellow', 'blue', 'pink', 'orange'] * 2, 'size':20}, \n",
    "    line = {'color': 'green', 'width':5, 'dash': 'dashdot'}\n",
    ")\n",
    "# create fig, insert plot => fig\n",
    "fig = go.Figure(\n",
    "    data = [plot],\n",
    "    layout_title_text = 'Plotly Visualization'\n",
    ")\n",
    "\n",
    "fig.update_layout(\n",
    "    title = 'Scatter & Line Plot', xaxis_title = 'Nilai X', yaxis_title = 'Nilai Y'\n",
    ")\n",
    "\n",
    "# fig.show()\n",
    "# save fig as html\n",
    "fig.write_html(\n",
    "    'plot.html',\n",
    "    auto_open = False\n",
    ")\n",
    "\n",
    "# show html\n",
    "from IPython.display import IFrame\n",
    "IFrame(src='./plot.html', width=700, height=600)"
   ]
  },
  {
   "cell_type": "code",
   "execution_count": 38,
   "metadata": {},
   "outputs": [
    {
     "data": {
      "text/html": [
       "\n",
       "        <iframe\n",
       "            width=\"700\"\n",
       "            height=\"600\"\n",
       "            src=\"./plot2.html\"\n",
       "            frameborder=\"0\"\n",
       "            allowfullscreen\n",
       "        ></iframe>\n",
       "        "
      ],
      "text/plain": [
       "<IPython.lib.display.IFrame at 0x11336ef8>"
      ]
     },
     "execution_count": 38,
     "metadata": {},
     "output_type": "execute_result"
    }
   ],
   "source": [
    "plot = go.Bar(\n",
    "    x = ['Ayam', 'Bebek', 'Cendrawasih'], y = [23, 43, 32],\n",
    "    marker = {'color': ['red', 'yellow', 'green']}, \n",
    "    text = [23, 43, 32], textposition = 'auto'\n",
    ")\n",
    "\n",
    "# create fig, insert plot => fig\n",
    "fig = go.Figure(\n",
    "    data = [plot],\n",
    "    layout_title_text = 'Plotly Visualization'\n",
    ")\n",
    "\n",
    "fig.update_layout(\n",
    "    title = 'Bar Plot', xaxis_title = 'Nilai X', yaxis_title = 'Nilai Y'\n",
    ")\n",
    "\n",
    "# fig.show()\n",
    "# save fig as html\n",
    "fig.write_html(\n",
    "    'plot2.html',\n",
    "    auto_open = False\n",
    ")\n",
    "\n",
    "# show html\n",
    "from IPython.display import IFrame\n",
    "IFrame(src='./plot2.html', width=700, height=600)"
   ]
  },
  {
   "cell_type": "code",
   "execution_count": 45,
   "metadata": {},
   "outputs": [
    {
     "data": {
      "text/html": [
       "\n",
       "        <iframe\n",
       "            width=\"700\"\n",
       "            height=\"600\"\n",
       "            src=\"./plot2.html\"\n",
       "            frameborder=\"0\"\n",
       "            allowfullscreen\n",
       "        ></iframe>\n",
       "        "
      ],
      "text/plain": [
       "<IPython.lib.display.IFrame at 0x113f7748>"
      ]
     },
     "execution_count": 45,
     "metadata": {},
     "output_type": "execute_result"
    }
   ],
   "source": [
    "plot = go.Bar(\n",
    "    name = 'Jakarta Zoo', x = ['Ayam', 'Bebek', 'Cendrawasih'], y = [23, 43, 32],\n",
    "    marker = {'color': 'red'}, \n",
    "    text = [23, 43, 32], textposition = 'auto'\n",
    ")\n",
    "\n",
    "plot2 = go.Bar(\n",
    "    name = 'Bogor Zoo', x = ['Ayam', 'Bebek', 'Cendrawasih'], y = [15, 10, 18],\n",
    "    marker = {'color': 'green'}, \n",
    "    text = [15, 10, 18], textposition = 'auto'\n",
    ")\n",
    "\n",
    "# create fig, insert plot => fig\n",
    "fig = go.Figure(\n",
    "    data = [plot, plot2],\n",
    "    layout_title_text = 'Plotly Visualization'\n",
    ")\n",
    "\n",
    "fig.update_layout(\n",
    "    title = 'Multiple Bar Plot', xaxis_title = 'Nilai X', yaxis_title = 'Nilai Y',\n",
    "    barmode = 'group'\n",
    ")\n",
    "\n",
    "# fig.show()\n",
    "# save fig as html\n",
    "fig.write_html(\n",
    "    'plot2.html',\n",
    "    auto_open = False\n",
    ")\n",
    "\n",
    "# show html\n",
    "from IPython.display import IFrame\n",
    "IFrame(src='./plot2.html', width=700, height=600)"
   ]
  },
  {
   "cell_type": "code",
   "execution_count": 69,
   "metadata": {},
   "outputs": [
    {
     "data": {
      "text/html": [
       "\n",
       "        <iframe\n",
       "            width=\"700\"\n",
       "            height=\"600\"\n",
       "            src=\"./plot3.html\"\n",
       "            frameborder=\"0\"\n",
       "            allowfullscreen\n",
       "        ></iframe>\n",
       "        "
      ],
      "text/plain": [
       "<IPython.lib.display.IFrame at 0x11794580>"
      ]
     },
     "execution_count": 69,
     "metadata": {},
     "output_type": "execute_result"
    }
   ],
   "source": [
    "plot = go.Pie(\n",
    "    labels = ['Ayam', 'Bebek', 'Cendrawasih'], values = [12, 34, 5],\n",
    "    pull = [0, 0, 0.2]\n",
    ")\n",
    "\n",
    "# create fig, insert plot => fig\n",
    "fig = go.Figure(\n",
    "    data = [plot],\n",
    "    layout_title_text = 'Pie Plot'\n",
    ")\n",
    "\n",
    "fig.update_traces(\n",
    "    hoverinfo='label+percent+value', textinfo='label+percent+value', textfont_size=14,\n",
    "    marker={'colors': ['red', 'green', 'yellow'], 'line': {'color': 'white', 'width': 5}}\n",
    ")\n",
    "\n",
    "# fig.show()\n",
    "# save fig as html\n",
    "fig.write_html(\n",
    "    'plot3.html',\n",
    "    auto_open = False\n",
    ")\n",
    "\n",
    "# show html\n",
    "from IPython.display import IFrame\n",
    "IFrame(src='./plot3.html', width=700, height=600)"
   ]
  },
  {
   "cell_type": "code",
   "execution_count": 68,
   "metadata": {},
   "outputs": [
    {
     "data": {
      "text/html": [
       "\n",
       "        <iframe\n",
       "            width=\"700\"\n",
       "            height=\"600\"\n",
       "            src=\"./plot3.html\"\n",
       "            frameborder=\"0\"\n",
       "            allowfullscreen\n",
       "        ></iframe>\n",
       "        "
      ],
      "text/plain": [
       "<IPython.lib.display.IFrame at 0x11e31a00>"
      ]
     },
     "execution_count": 68,
     "metadata": {},
     "output_type": "execute_result"
    }
   ],
   "source": [
    "plot = go.Pie(\n",
    "    labels = ['Ayam', 'Bebek', 'Cendrawasih'], values = [12, 34, 5], hole=.5\n",
    ")\n",
    "\n",
    "# create fig, insert plot => fig\n",
    "fig = go.Figure(\n",
    "    data = [plot],\n",
    "    layout_title_text = 'Donut Plot'\n",
    ")\n",
    "\n",
    "fig.update_traces(\n",
    "    hoverinfo='label+percent+value', textinfo='label+percent+value', textfont_size=14,\n",
    "    marker={'colors': ['red', 'green', 'yellow'], 'line': {'color': 'white', 'width': 5}}\n",
    ")\n",
    "\n",
    "# fig.show()\n",
    "# save fig as html\n",
    "fig.write_html(\n",
    "    'plot3.html',\n",
    "    auto_open = False\n",
    ")\n",
    "\n",
    "# show html\n",
    "from IPython.display import IFrame\n",
    "IFrame(src='./plot3.html', width=700, height=600)"
   ]
  },
  {
   "cell_type": "code",
   "execution_count": null,
   "metadata": {},
   "outputs": [],
   "source": []
  }
 ],
 "metadata": {
  "kernelspec": {
   "display_name": "Python 3.8.1 32-bit",
   "language": "python",
   "name": "python38132bit17e97fd0e138494882eb6a23af8acc7d"
  },
  "language_info": {
   "codemirror_mode": {
    "name": "ipython",
    "version": 3
   },
   "file_extension": ".py",
   "mimetype": "text/x-python",
   "name": "python",
   "nbconvert_exporter": "python",
   "pygments_lexer": "ipython3",
   "version": "3.8.1"
  }
 },
 "nbformat": 4,
 "nbformat_minor": 4
}
